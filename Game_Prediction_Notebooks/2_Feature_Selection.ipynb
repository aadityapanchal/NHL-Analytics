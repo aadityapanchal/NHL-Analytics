{
  "nbformat": 4,
  "nbformat_minor": 0,
  "metadata": {
    "colab": {
      "name": "Feature Selection.ipynb",
      "provenance": []
    },
    "kernelspec": {
      "name": "python3",
      "display_name": "Python 3"
    },
    "language_info": {
      "name": "python"
    },
    "accelerator": "GPU"
  },
  "cells": [
    {
      "cell_type": "code",
      "execution_count": 2,
      "metadata": {
        "id": "jqVsP2VSTt2G"
      },
      "outputs": [],
      "source": [
        "import pandas as pd\n",
        "from sklearn.model_selection import cross_val_score\n",
        "import os\n",
        "from feature_selector import FeatureSelector\n",
        "import numpy as np"
      ]
    },
    {
      "cell_type": "code",
      "source": [
        "game_data=pd.read_csv('final_scrapped_data.csv')"
      ],
      "metadata": {
        "colab": {
          "base_uri": "https://localhost:8080/"
        },
        "id": "Js0wkQOWT4sE",
        "outputId": "82f7959a-8e1b-4157-a96b-4c9f7e9c3657"
      },
      "execution_count": 3,
      "outputs": [
        {
          "output_type": "stream",
          "name": "stderr",
          "text": [
            "/usr/local/lib/python3.7/dist-packages/IPython/core/interactiveshell.py:2882: DtypeWarning: Columns (36,39,45,48,52,53,63,158,161,167,170,174,175,186) have mixed types.Specify dtype option on import or set low_memory=False.\n",
            "  exec(code_obj, self.user_global_ns, self.user_ns)\n"
          ]
        }
      ]
    },
    {
      "cell_type": "code",
      "source": [
        "game_data.reset_index(inplace=True)"
      ],
      "metadata": {
        "id": "nwnGyOZqYy9L"
      },
      "execution_count": null,
      "outputs": []
    },
    {
      "cell_type": "markdown",
      "source": [
        ""
      ],
      "metadata": {
        "id": "c9R8bgOxDsIT"
      }
    },
    {
      "cell_type": "code",
      "source": [
        "features_list_extended=['home_CF','home_CA','home_CF%','home_FF','home_FA','home_FF%','home_SF','home_SA','home_SF%','home_GF','home_GA',\n",
        "               'home_GF%','home_xGF','home_xGA','home_xGF%','home_HDCF%','home_HDSF%','home_HDGF%','home_HDSH%','home_HDSV%','home_MDSA',\n",
        "               'home_MDSF%','home_MDGF','home_MDGA','home_MDGF%','home_MDSH%','home_MDSV%','home_LDCF%','home_LDSF','home_LDSA','home_LDSF%',\n",
        "               'home_LDGF','home_LDGF%','home_LDSV%','home_PDO','home_xGF_pp','home_GF_pp','home_xGA_pk','home_GA_pk',\n",
        "               'guest_CF','guest_CA','guest_CF%','guest_FF','guest_FA','guest_FF%','guest_SF','guest_SA','guest_SF%','guest_GF','guest_GA',\n",
        "               'guest_GF%','guest_xGF','guest_xGA','guest_xGF%','guest_HDCF%','guest_HDSF%','guest_HDGF%','guest_HDSH%','guest_HDSV%','guest_MDSA',\n",
        "               'guest_MDSF%','guest_MDGF','guest_MDGA','guest_MDGF%','guest_MDSH%','guest_MDSV%','guest_LDCF%','guest_LDSF','guest_LDSA','guest_LDSF%',\n",
        "               'guest_LDGF','guest_LDGF%','guest_LDSV%','guest_xGF_pp','guest_GF_pp','guest_xGA_pk','guest_GA_pk']"
      ],
      "metadata": {
        "id": "XUvKS7yn4wh0"
      },
      "execution_count": 40,
      "outputs": []
    },
    {
      "cell_type": "code",
      "source": [
        "all_features=['match_BacktoBack','home_fwkSV%_GoalKeeper','home_GSAx/60_GoalKeeper','home_HDCSV%__GoalKeeper','guest_fwkSV%_GoalKeeper','guest_GSAx/60_GoalKeeper','guest_HDCSV%__GoalKeeper','home_team_label','away_team_label',\n",
        "              'home_SCF','home_SCA','home_SCF%','home_HDCF','home_HDCA','home_HDSF','home_HDSA','home_HDGF','home_HDGA','home_MDCF','home_MDCA','home_MDCF%','home_MDSF','home_LDCF','home_LDCA',\n",
        "              'home_SH%','home_SV%','home_LDSH%','home_LDGA','guest_SCF','guest_SCA','guest_SCF%','guest_HDCF','guest_HDCA','guest_HDSF','guest_HDSA','guest_HDGF','guest_HDGA','guest_MDCF','guest_MDCA','guest_MDCF%','guest_MDSF','guest_LDCF','guest_LDCA',\n",
        "              'guest_SH%','guest_SV%','guest_LDSH%','guest_LDGA']+features_list_extended\n",
        "moving_features_5 =[\n",
        "'home_Fenwick%_SVA_TeamMoingAverage_5',\n",
        "'home_GF%_SVA_TeamMoingAverage_5',\n",
        "'home_xGF%_SVA_TeamMoingAverage_5',\n",
        "'home_SFGF%_SVA_TeamMoingAverage_5',\n",
        "'home_xGF_Average_pp_TeamMoingAverage_5',\n",
        "'home_GF_Average_Average_pp_TeamMoingAverage_5',\n",
        "'home_xGA_Average_pk_TeamMoingAverage_5',\n",
        "'home_GA_Average_Average_pk_TeamMoingAverage_5',\n",
        "'guest_Fenwick%_SVA_TeamMoingAverage_5',\n",
        "'guest_GF%_SVA_TeamMoingAverage_5',\n",
        "'guest_xGF%_SVA_TeamMoingAverage_5',\n",
        "'guest_SFGF%_SVA_TeamMoingAverage_5',\n",
        "'guest_xGF_Average_pp_TeamMoingAverage_5',\n",
        "'guest_GF_Average_Average_pp_TeamMoingAverage_5',\n",
        "'guest_xGA_Average_pk_TeamMoingAverage_5',\n",
        "'guest_GA_Average_Average_pk_TeamMoingAverage_5',\n",
        "'home_CA_SVA_TeamMoingAverage_5',\n",
        "'guest_CA_SVA_TeamMoingAverage_5',\n",
        "'home_FF_SVA_TeamMoingAverage_5',\n",
        "'home_FA_SVA_TeamMoingAverage_5',\n",
        "'home_SA_SVA_TeamMoingAverage_5',\n",
        "'home_GA_SVA_TeamMoingAverage_5',\n",
        "'home_GF_SVA_TeamMoingAverage_5',\n",
        "'home_xGA_SVA_TeamMoingAverage_5',\n",
        "'home_xGF_SVA_TeamMoingAverage_5',\n",
        "'home_GF_pp_TeamMoingAverage_5',\n",
        "'home_xGF_pp_TeamMoingAverage_5',\n",
        "'home_GF_Average_Average_pp_TeamMoingAverage_5',\n",
        "'home_xGF_Average_pp_TeamMoingAverage_5',\n",
        "'home_GA_pk_TeamMoingAverage_5',\n",
        "'home_xGA_pk_TeamMoingAverage_5',\n",
        "'guest_FF_SVA_TeamMoingAverage_5',\n",
        "'guest_FA_SVA_TeamMoingAverage_5',\n",
        "'guest_SF_SVA_TeamMoingAverage_5',\n",
        "'guest_SA_SVA_TeamMoingAverage_5',\n",
        "'guest_GA_SVA_TeamMoingAverage_5',\n",
        "'guest_GF_SVA_TeamMoingAverage_5',\n",
        "'guest_xGA_SVA_TeamMoingAverage_5',\n",
        "'guest_xGF_SVA_TeamMoingAverage_5',\n",
        "'guest_GF_pp_TeamMoingAverage_5',\n",
        "'guest_xGF_pp_TeamMoingAverage_5',\n",
        "'guest_TOI_Average_pp_TeamMoingAverage_5',\n",
        "'guest_TOI_pk_TeamMoingAverage_5',\n",
        "'guest_GA_pk_TeamMoingAverage_5',\n",
        "'guest_xGA_pk_TeamMoingAverage_5']+all_features\n",
        "\n",
        "moving_features_40 =[\n",
        "'home_Fenwick%_SVA_TeamMoingAverage_40',\n",
        "'home_GF%_SVA_TeamMoingAverage_40',\n",
        "'home_xGF%_SVA_TeamMoingAverage_40',\n",
        "'home_SFGF%_SVA_TeamMoingAverage_40',\n",
        "'home_xGF_Average_pp_TeamMoingAverage_40',\n",
        "'home_GF_Average_Average_pp_TeamMoingAverage_40',\n",
        "'home_xGA_Average_pk_TeamMoingAverage_40',\n",
        "'home_GA_Average_Average_pk_TeamMoingAverage_40',\n",
        "'guest_Fenwick%_SVA_TeamMoingAverage_40',\n",
        "'guest_GF%_SVA_TeamMoingAverage_40',\n",
        "'guest_xGF%_SVA_TeamMoingAverage_40',\n",
        "'guest_SFGF%_SVA_TeamMoingAverage_40',\n",
        "'guest_xGF_Average_pp_TeamMoingAverage_40',\n",
        "'guest_GF_Average_Average_pp_TeamMoingAverage_40',\n",
        "'guest_xGA_Average_pk_TeamMoingAverage_40',\n",
        "'guest_GA_Average_Average_pk_TeamMoingAverage_40',\n",
        "'home_CA_SVA_TeamMoingAverage_40',\n",
        "'guest_CA_SVA_TeamMoingAverage_40',\n",
        "'home_FF_SVA_TeamMoingAverage_40',\n",
        "'home_FA_SVA_TeamMoingAverage_40',\n",
        "'home_SF_SVA_TeamMoingAverage_40',\n",
        "'home_SA_SVA_TeamMoingAverage_40',\n",
        "'home_GA_SVA_TeamMoingAverage_40',\n",
        "'home_GF_SVA_TeamMoingAverage_40',\n",
        "'home_xGA_SVA_TeamMoingAverage_40',\n",
        "'home_xGF_SVA_TeamMoingAverage_40',\n",
        "'home_GF_pp_TeamMoingAverage_40',\n",
        "'home_xGF_pp_TeamMoingAverage_40',\n",
        "'home_GF_Average_Average_pp_TeamMoingAverage_40',\n",
        "'home_xGF_Average_pp_TeamMoingAverage_40',\n",
        "'home_GA_pk_TeamMoingAverage_40',\n",
        "'home_xGA_pk_TeamMoingAverage_40',\n",
        "'guest_FF_SVA_TeamMoingAverage_40',\n",
        "'guest_FA_SVA_TeamMoingAverage_40',\n",
        "'guest_SF_SVA_TeamMoingAverage_40',\n",
        "'guest_SA_SVA_TeamMoingAverage_40',\n",
        "'guest_GA_SVA_TeamMoingAverage_40',\n",
        "'guest_GF_SVA_TeamMoingAverage_40',\n",
        "'guest_xGA_SVA_TeamMoingAverage_40',\n",
        "'guest_xGF_SVA_TeamMoingAverage_40',\n",
        "'guest_GF_pp_TeamMoingAverage_40',\n",
        "'guest_xGF_pp_TeamMoingAverage_40',\n",
        "'guest_TOI_Average_pp_TeamMoingAverage_40',\n",
        "'guest_TOI_pk_TeamMoingAverage_40',\n",
        "'guest_GA_pk_TeamMoingAverage_40',\n",
        "'guest_xGA_pk_TeamMoingAverage_40']+all_features\n"
      ],
      "metadata": {
        "id": "PHnS-JKOY0J2"
      },
      "execution_count": 41,
      "outputs": []
    },
    {
      "cell_type": "code",
      "source": [
        "moving_features_40=list(set(moving_features_40))"
      ],
      "metadata": {
        "id": "0OsrkFQGCpoA"
      },
      "execution_count": 42,
      "outputs": []
    },
    {
      "cell_type": "code",
      "source": [
        "moving_features_5=list(set(moving_features_5))"
      ],
      "metadata": {
        "id": "hr7-saXCCp2p"
      },
      "execution_count": 43,
      "outputs": []
    },
    {
      "cell_type": "code",
      "source": [
        "game_data_selected_40=game_data[moving_features_40]"
      ],
      "metadata": {
        "id": "muq6dHREb5K_"
      },
      "execution_count": 44,
      "outputs": []
    },
    {
      "cell_type": "code",
      "source": [
        "game_data_selected_5=game_data[moving_features_5]"
      ],
      "metadata": {
        "id": "5H-ewNOUBK7v"
      },
      "execution_count": 45,
      "outputs": []
    },
    {
      "cell_type": "code",
      "source": [
        "label_selection_40=FeatureSelector(data=game_data_selected_40,labels=moving_features_40)"
      ],
      "metadata": {
        "id": "0XRwOaDDY8XG"
      },
      "execution_count": 46,
      "outputs": []
    },
    {
      "cell_type": "code",
      "source": [
        "label_selection_5=FeatureSelector(data=game_data_selected_5,labels=moving_features_5)"
      ],
      "metadata": {
        "id": "0ThjjQ6BBWPB"
      },
      "execution_count": 47,
      "outputs": []
    },
    {
      "cell_type": "code",
      "source": [
        "label_selection_40.identify_missing(missing_threshold=0.3)"
      ],
      "metadata": {
        "colab": {
          "base_uri": "https://localhost:8080/"
        },
        "id": "zQSFLucQdOzd",
        "outputId": "5502f393-9689-4032-8597-b353f4bb3842"
      },
      "execution_count": 48,
      "outputs": [
        {
          "output_type": "stream",
          "name": "stdout",
          "text": [
            "0 features with greater than 0.30 missing values.\n",
            "\n"
          ]
        }
      ]
    },
    {
      "cell_type": "code",
      "source": [
        "label_selection_5.identify_missing(missing_threshold=0.3)"
      ],
      "metadata": {
        "id": "gQoBX-rKBgw7",
        "outputId": "5c83c0ba-a970-4a45-b2f1-fd1c19b3b3a5",
        "colab": {
          "base_uri": "https://localhost:8080/"
        }
      },
      "execution_count": 49,
      "outputs": [
        {
          "output_type": "stream",
          "name": "stdout",
          "text": [
            "0 features with greater than 0.30 missing values.\n",
            "\n"
          ]
        }
      ]
    },
    {
      "cell_type": "code",
      "source": [
        "label_selection_40.identify_collinear(correlation_threshold=0.98)"
      ],
      "metadata": {
        "colab": {
          "base_uri": "https://localhost:8080/"
        },
        "id": "W1uMCB2tdyui",
        "outputId": "af0ec238-2aba-4801-ebec-eba6b51bbab7"
      },
      "execution_count": 50,
      "outputs": [
        {
          "output_type": "stream",
          "name": "stdout",
          "text": [
            "67 features with a correlation magnitude greater than 0.98.\n",
            "\n"
          ]
        }
      ]
    },
    {
      "cell_type": "code",
      "source": [
        "label_selection_40.plot_collinear()"
      ],
      "metadata": {
        "colab": {
          "base_uri": "https://localhost:8080/",
          "height": 545
        },
        "id": "qlje-QVfeG9c",
        "outputId": "deb455ec-c535-462b-da60-bd624cf416f6"
      },
      "execution_count": 51,
      "outputs": [
        {
          "output_type": "display_data",
          "data": {
            "text/plain": [
              "<Figure size 720x576 with 2 Axes>"
            ],
            "image/png": "[encoded data removed]"
          },
          "metadata": {
            "needs_background": "light"
          }
        }
      ]
    },
    {
      "cell_type": "code",
      "source": [
        "collinear_features_40=label_selection_40.ops['collinear']"
      ],
      "metadata": {
        "id": "vIjL1IeJfsDg"
      },
      "execution_count": 52,
      "outputs": []
    },
    {
      "cell_type": "code",
      "source": [
        "collinear_features_40"
      ],
      "metadata": {
        "colab": {
          "base_uri": "https://localhost:8080/"
        },
        "id": "PtCe4FyQhwwo",
        "outputId": "11c06090-47ec-40aa-c9ac-d32a59203805"
      },
      "execution_count": 53,
      "outputs": [
        {
          "output_type": "execute_result",
          "data": {
            "text/plain": [
              "['guest_SA',\n",
              " 'guest_TOI_pk_TeamMoingAverage_40',\n",
              " 'home_GA_pk',\n",
              " 'home_LDSA',\n",
              " 'home_LDCF',\n",
              " 'guest_GF',\n",
              " 'guest_xGA_SVA_TeamMoingAverage_40',\n",
              " 'home_xGF',\n",
              " 'guest_GA_pk',\n",
              " 'guest_xGA_pk',\n",
              " 'home_xGA',\n",
              " 'guest_SH%',\n",
              " 'guest_GA_SVA_TeamMoingAverage_40',\n",
              " 'home_FF',\n",
              " 'guest_GF_Average_Average_pp_TeamMoingAverage_40',\n",
              " 'home_GA_SVA_TeamMoingAverage_40',\n",
              " 'guest_MDGF',\n",
              " 'guest_GF_pp_TeamMoingAverage_40',\n",
              " 'guest_LDSH%',\n",
              " 'home_FF%',\n",
              " 'home_SCA',\n",
              " 'guest_xGF_pp_TeamMoingAverage_40',\n",
              " 'guest_HDGF',\n",
              " 'guest_SV%',\n",
              " 'guest_HDCA',\n",
              " 'home_GF_SVA_TeamMoingAverage_40',\n",
              " 'home_GF',\n",
              " 'home_FA',\n",
              " 'home_MDCF%',\n",
              " 'guest_SCA',\n",
              " 'home_HDSA',\n",
              " 'home_GF_pp',\n",
              " 'guest_LDGA',\n",
              " 'home_xGF_pp_TeamMoingAverage_40',\n",
              " 'guest_LDCF',\n",
              " 'home_LDGA',\n",
              " 'home_xGA_Average_pk_TeamMoingAverage_40',\n",
              " 'guest_CF%',\n",
              " 'home_xGA_pk_TeamMoingAverage_40',\n",
              " 'guest_MDCA',\n",
              " 'home_SA',\n",
              " 'guest_GF_pp',\n",
              " 'guest_xGA_Average_pk_TeamMoingAverage_40',\n",
              " 'home_CF',\n",
              " 'home_LDCF%',\n",
              " 'home_GF_pp_TeamMoingAverage_40',\n",
              " 'guest_GA_Average_Average_pk_TeamMoingAverage_40',\n",
              " 'guest_xGF_SVA_TeamMoingAverage_40',\n",
              " 'guest_xGF',\n",
              " 'guest_SCF%',\n",
              " 'home_xGF_SVA_TeamMoingAverage_40',\n",
              " 'guest_MDCF',\n",
              " 'guest_LDSA',\n",
              " 'home_HDGF',\n",
              " 'guest_SF%',\n",
              " 'home_HDCA',\n",
              " 'guest_LDSF%',\n",
              " 'home_GA_pk_TeamMoingAverage_40',\n",
              " 'home_MDSA',\n",
              " 'guest_HDSA',\n",
              " 'home_CA',\n",
              " 'guest_xGF_pp',\n",
              " 'guest_xGA',\n",
              " 'home_MDSF%',\n",
              " 'home_MDGF',\n",
              " 'guest_MDSA',\n",
              " 'home_LDSH%']"
            ]
          },
          "metadata": {},
          "execution_count": 53
        }
      ]
    },
    {
      "cell_type": "code",
      "source": [
        "label_selection_5.identify_collinear(correlation_threshold=0.98)"
      ],
      "metadata": {
        "id": "EeMseHlNBqTA",
        "outputId": "72aa3b48-1c3a-4421-cfee-4c84d02f15a3",
        "colab": {
          "base_uri": "https://localhost:8080/"
        }
      },
      "execution_count": 54,
      "outputs": [
        {
          "output_type": "stream",
          "name": "stdout",
          "text": [
            "67 features with a correlation magnitude greater than 0.98.\n",
            "\n"
          ]
        }
      ]
    },
    {
      "cell_type": "code",
      "source": [
        "label_selection_5.plot_collinear()"
      ],
      "metadata": {
        "id": "NBZZscqjBt3-",
        "outputId": "b8bfdbb5-3f5b-401d-ac02-04137e9b3c8e",
        "colab": {
          "base_uri": "https://localhost:8080/",
          "height": 544
        }
      },
      "execution_count": 55,
      "outputs": [
        {
          "output_type": "display_data",
          "data": {
            "text/plain": [
              "<Figure size 720x576 with 2 Axes>"
            ],
            "image/png": "[encoded data removed]"
          },
          "metadata": {
            "needs_background": "light"
          }
        }
      ]
    },
    {
      "cell_type": "code",
      "source": [
        "collinear_features_5=label_selection_5.ops['collinear']"
      ],
      "metadata": {
        "id": "IHM84tTVB6Pd"
      },
      "execution_count": 56,
      "outputs": []
    },
    {
      "cell_type": "code",
      "source": [
        "collinear_features_5"
      ],
      "metadata": {
        "id": "RWguyNgeB8Ye",
        "outputId": "07a41e90-b6e0-4543-9148-3894f8c35bf5",
        "colab": {
          "base_uri": "https://localhost:8080/"
        }
      },
      "execution_count": 57,
      "outputs": [
        {
          "output_type": "execute_result",
          "data": {
            "text/plain": [
              "['guest_SA',\n",
              " 'home_GA_pk',\n",
              " 'guest_xGF_Average_pp_TeamMoingAverage_5',\n",
              " 'home_LDSA',\n",
              " 'home_LDCF',\n",
              " 'guest_GF',\n",
              " 'home_xGF',\n",
              " 'guest_GA_pk',\n",
              " 'guest_xGA_pk',\n",
              " 'home_xGA',\n",
              " 'guest_SH%',\n",
              " 'home_xGA_pk_TeamMoingAverage_5',\n",
              " 'guest_xGF_SVA_TeamMoingAverage_5',\n",
              " 'guest_GF_SVA_TeamMoingAverage_5',\n",
              " 'guest_GA_SVA_TeamMoingAverage_5',\n",
              " 'home_FF',\n",
              " 'home_xGA_Average_pk_TeamMoingAverage_5',\n",
              " 'guest_MDGF',\n",
              " 'guest_LDSH%',\n",
              " 'home_FF%',\n",
              " 'home_SCA',\n",
              " 'home_xGF_SVA_TeamMoingAverage_5',\n",
              " 'guest_HDGF',\n",
              " 'guest_SV%',\n",
              " 'guest_HDCA',\n",
              " 'guest_GF_pp_TeamMoingAverage_5',\n",
              " 'guest_xGA_Average_pk_TeamMoingAverage_5',\n",
              " 'home_GF',\n",
              " 'home_FA',\n",
              " 'home_MDCF%',\n",
              " 'guest_SCA',\n",
              " 'home_HDSA',\n",
              " 'home_GF_pp',\n",
              " 'guest_LDGA',\n",
              " 'home_GA_Average_Average_pk_TeamMoingAverage_5',\n",
              " 'home_GF_SVA_TeamMoingAverage_5',\n",
              " 'home_GA_SVA_TeamMoingAverage_5',\n",
              " 'guest_LDCF',\n",
              " 'home_LDGA',\n",
              " 'guest_CF%',\n",
              " 'guest_MDCA',\n",
              " 'home_SA',\n",
              " 'guest_GF_pp',\n",
              " 'guest_xGA_pk_TeamMoingAverage_5',\n",
              " 'home_GF_pp_TeamMoingAverage_5',\n",
              " 'home_CF',\n",
              " 'home_LDCF%',\n",
              " 'home_xGF_Average_pp_TeamMoingAverage_5',\n",
              " 'guest_TOI_pk_TeamMoingAverage_5',\n",
              " 'guest_xGF',\n",
              " 'guest_SCF%',\n",
              " 'guest_GA_Average_Average_pk_TeamMoingAverage_5',\n",
              " 'guest_MDCF',\n",
              " 'guest_LDSA',\n",
              " 'home_HDGF',\n",
              " 'guest_SF%',\n",
              " 'home_HDCA',\n",
              " 'guest_LDSF%',\n",
              " 'home_MDSA',\n",
              " 'guest_HDSA',\n",
              " 'home_CA',\n",
              " 'guest_xGF_pp',\n",
              " 'guest_xGA',\n",
              " 'home_MDSF%',\n",
              " 'home_MDGF',\n",
              " 'guest_MDSA',\n",
              " 'home_LDSH%']"
            ]
          },
          "metadata": {},
          "execution_count": 57
        }
      ]
    },
    {
      "cell_type": "code",
      "source": [
        "selected_features_40=[x for x in moving_features_40 if (x not in collinear_features_40)]"
      ],
      "metadata": {
        "id": "lbRfFD6C_1q9"
      },
      "execution_count": 58,
      "outputs": []
    },
    {
      "cell_type": "code",
      "source": [
        "selected_features_5=[x for x in moving_features_5 if (x not in collinear_features_5)]"
      ],
      "metadata": {
        "id": "VG1FuvAdBD49"
      },
      "execution_count": 59,
      "outputs": []
    },
    {
      "cell_type": "code",
      "source": [
        "len(selected_features_40)"
      ],
      "metadata": {
        "colab": {
          "base_uri": "https://localhost:8080/"
        },
        "id": "rEYZzsGkDiMN",
        "outputId": "867ab420-8afe-46a8-beac-23f182b12997"
      },
      "execution_count": 60,
      "outputs": [
        {
          "output_type": "execute_result",
          "data": {
            "text/plain": [
              "101"
            ]
          },
          "metadata": {},
          "execution_count": 60
        }
      ]
    },
    {
      "cell_type": "code",
      "source": [
        "len(selected_features_5)"
      ],
      "metadata": {
        "colab": {
          "base_uri": "https://localhost:8080/"
        },
        "id": "TGGaMZfsDiQD",
        "outputId": "6ff65715-45e2-4b64-f882-c60753ad4c5d"
      },
      "execution_count": 61,
      "outputs": [
        {
          "output_type": "execute_result",
          "data": {
            "text/plain": [
              "100"
            ]
          },
          "metadata": {},
          "execution_count": 61
        }
      ]
    },
    {
      "cell_type": "code",
      "source": [
        "pd.DataFrame(selected_features_40).to_csv('selected_features_40.csv')"
      ],
      "metadata": {
        "id": "WRCZ8Mh-CcGl"
      },
      "execution_count": 62,
      "outputs": []
    },
    {
      "cell_type": "code",
      "source": [
        "pd.DataFrame(selected_features_5).to_csv('selected_features_5.csv')"
      ],
      "metadata": {
        "id": "eLaW6bVmCu1J"
      },
      "execution_count": 63,
      "outputs": []
    },
    {
      "cell_type": "code",
      "source": [
        ""
      ],
      "metadata": {
        "id": "fjvDpyMWC4dh"
      },
      "execution_count": null,
      "outputs": []
    }
  ]
}
