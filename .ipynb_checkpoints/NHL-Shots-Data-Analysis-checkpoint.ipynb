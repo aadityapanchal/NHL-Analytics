{
 "cells": [
  {
   "cell_type": "code",
   "execution_count": 1,
   "id": "8bc50eab",
   "metadata": {},
   "outputs": [],
   "source": [
    "import json\n",
    "from flatten_json import flatten\n",
    "import numpy as np \n",
    "import pandas as pd\n",
    "\n",
    "import matplotlib.pyplot as plt\n",
    "color_map = plt.cm.winter\n",
    "from matplotlib.patches import RegularPolygon\n",
    "import math\n",
    "from PIL import Image\n",
    "from matplotlib.colors import ListedColormap,LinearSegmentedColormap\n",
    "import matplotlib.colors as mcolors\n",
    "import warnings\n",
    "warnings.filterwarnings('ignore')"
   ]
  },
  {
   "cell_type": "code",
   "execution_count": 2,
   "id": "84d1cb37",
   "metadata": {
    "scrolled": false
   },
   "outputs": [
    {
     "ename": "FileNotFoundError",
     "evalue": "[Errno 2] No such file or directory: '/data/shots_goals_data.json'",
     "output_type": "error",
     "traceback": [
      "\u001b[0;31m---------------------------------------------------------------------------\u001b[0m",
      "\u001b[0;31mFileNotFoundError\u001b[0m                         Traceback (most recent call last)",
      "\u001b[0;32m/var/folders/f7/3hptwq1j75nc45cd5svs7y0h0000gn/T/ipykernel_90974/3049360355.py\u001b[0m in \u001b[0;36m<module>\u001b[0;34m\u001b[0m\n\u001b[0;32m----> 1\u001b[0;31m \u001b[0;32mwith\u001b[0m \u001b[0mopen\u001b[0m\u001b[0;34m(\u001b[0m\u001b[0;34m'/data/shots_goals_data.json'\u001b[0m\u001b[0;34m,\u001b[0m \u001b[0;34m'r'\u001b[0m\u001b[0;34m)\u001b[0m \u001b[0;32mas\u001b[0m \u001b[0mf\u001b[0m\u001b[0;34m:\u001b[0m\u001b[0;34m\u001b[0m\u001b[0;34m\u001b[0m\u001b[0m\n\u001b[0m\u001b[1;32m      2\u001b[0m     \u001b[0mdata\u001b[0m \u001b[0;34m=\u001b[0m \u001b[0mjson\u001b[0m\u001b[0;34m.\u001b[0m\u001b[0mload\u001b[0m\u001b[0;34m(\u001b[0m\u001b[0mf\u001b[0m\u001b[0;34m)\u001b[0m\u001b[0;34m\u001b[0m\u001b[0;34m\u001b[0m\u001b[0m\n\u001b[1;32m      3\u001b[0m \u001b[0mrecord_flattened\u001b[0m \u001b[0;34m=\u001b[0m \u001b[0;34m[\u001b[0m\u001b[0mflatten\u001b[0m\u001b[0;34m(\u001b[0m\u001b[0mrecord\u001b[0m\u001b[0;34m)\u001b[0m \u001b[0;32mfor\u001b[0m \u001b[0mrecord\u001b[0m \u001b[0;32min\u001b[0m \u001b[0mdata\u001b[0m\u001b[0;34m]\u001b[0m\u001b[0;34m\u001b[0m\u001b[0;34m\u001b[0m\u001b[0m\n\u001b[1;32m      4\u001b[0m \u001b[0mshot_goals_dataframe_from_json\u001b[0m \u001b[0;34m=\u001b[0m \u001b[0mpd\u001b[0m\u001b[0;34m.\u001b[0m\u001b[0mDataFrame\u001b[0m\u001b[0;34m(\u001b[0m\u001b[0mrecord_flattened\u001b[0m\u001b[0;34m)\u001b[0m\u001b[0;34m\u001b[0m\u001b[0;34m\u001b[0m\u001b[0m\n\u001b[1;32m      5\u001b[0m \u001b[0;31m# shot_goals_dataframe_from_json.to_csv('shots_goals_data.csv')\u001b[0m\u001b[0;34m\u001b[0m\u001b[0;34m\u001b[0m\u001b[0m\n",
      "\u001b[0;31mFileNotFoundError\u001b[0m: [Errno 2] No such file or directory: '/data/shots_goals_data.json'"
     ]
    }
   ],
   "source": [
    "with open('data/shots_goals_data.json', 'r') as f:\n",
    "    data = json.load(f)\n",
    "record_flattened = [flatten(record) for record in data]\n",
    "shot_goals_dataframe_from_json = pd.DataFrame(record_flattened)\n",
    "# shot_goals_dataframe_from_json.to_csv('shots_goals_data.csv')\n",
    "display(shot_goals_dataframe_from_json.head())"
   ]
  },
  {
   "cell_type": "markdown",
   "id": "cff02284",
   "metadata": {},
   "source": [
    "## Goal Conversion Ratio"
   ]
  },
  {
   "cell_type": "code",
   "execution_count": null,
   "id": "e2087da4",
   "metadata": {},
   "outputs": [],
   "source": [
    "def display_dataset(team_a, team_b, shot_goals_dataframe):\n",
    "    # find all the records where these teams have played\n",
    "    condition = ((shot_goals_dataframe['shooting_team'] == team_a) & \n",
    "                 (shot_goals_dataframe['shot_goal_defending_team'] == team_b)) | ((shot_goals_dataframe['shooting_team'] == team_b) & \n",
    "                (shot_goals_dataframe['shot_goal_defending_team'] == team_a))\n",
    "    filtered_dataframe = shot_goals_dataframe[condition]\n",
    "    display(filtered_dataframe)\n",
    "    return filtered_dataframe\n",
    "    \n",
    "def calculate_goal_conversion_ratio(team_a, team_b, filtered_dataframe):\n",
    "    team_a_shots_condition = ((filtered_dataframe['shooting_team'] == team_a) & (filtered_dataframe['event_type'] == 'Shot'))\n",
    "    team_a_goals_condition = ((filtered_dataframe['shooting_team'] == team_a) & (filtered_dataframe['event_type'] == 'Goal'))\n",
    "    shots_from_filtered_dataframe = filtered_dataframe[team_a_shots_condition]\n",
    "    goals_from_filtered_dataframe = filtered_dataframe[team_a_goals_condition]\n",
    "\n",
    "    total_attempts = shots_from_filtered_dataframe.shape[0] + goals_from_filtered_dataframe.shape[0]\n",
    "    total_goals = goals_from_filtered_dataframe.shape[0]\n",
    "    goal_conversion_ratio = (total_goals / total_attempts) * 100 \n",
    "    print('The goal conversion ratio of \\'{}\\' against \\'{}\\' is {}%'.format(team_a, team_b, round(goal_conversion_ratio,2)))\n",
    "    return (shots_from_filtered_dataframe, goals_from_filtered_dataframe)\n",
    "\n",
    "def plot_hexbin_shots_goals(shots_from_filtered_dataframe, goals_from_filtered_dataframe):\n",
    "    rink_size = [0, 100.0, -42.5, 42.5]\n",
    "    #plotting shots\n",
    "    shots_x_coordinates = shots_from_filtered_dataframe['coor_x_normalized'].to_numpy()\n",
    "    shots_y_coordinates = shots_from_filtered_dataframe['coor_y_normalized'].to_numpy()\n",
    "    \n",
    "\n",
    "    #creating a hexbin plot to find the density of the attempted shots\n",
    "    shots_hexbin_plot =  plt.hexbin(shots_x_coordinates, shots_y_coordinates, gridsize=40, extent=rink_size)\n",
    "    #finding the centres of each hexbin \n",
    "    shots_hexbin_offsets = shots_hexbin_plot.get_offsets();\n",
    "    #finding the values of the hexagons\n",
    "    shots_hexbin_values = shots_hexbin_plot.get_array();\n",
    "    plt.show()\n",
    "    display(\"Now working on Goals\")\n",
    "    #plotting goals\n",
    "    goals_x_coordinates = goals_from_filtered_dataframe['coor_x_normalized'].to_numpy()\n",
    "#     display(len(goals_x_coordinates))\n",
    "#     display(len(shots_x_coordinates))\n",
    "    goals_y_coordinates = goals_from_filtered_dataframe['coor_y_normalized'].to_numpy()\n",
    "    goals_hexbin_plot =  plt.hexbin(goals_x_coordinates, goals_y_coordinates, gridsize=40, extent=rink_size)\n",
    "    goals_hexbin_offsets = goals_hexbin_plot.get_offsets()\n",
    "    goals_hexbin_values = goals_hexbin_plot.get_array();\n",
    "    return (shots_hexbin_offsets, shots_hexbin_values, goals_hexbin_offsets, goals_hexbin_values)\n",
    "\n",
    "def plot_shots_goals_on_rink(shots_hexbin_offsets, shots_hexbin_values, goals_hexbin_offsets, goals_hexbin_values, plot_shots = True):\n",
    "    figure = plt.figure(figsize = (10,10))\n",
    "    figure_subplot = figure.add_subplot(111)\n",
    "    figure_subplot.set_ylim(ymin = -42.5, ymax = 42.5)\n",
    "    figure_subplot.set_xlim(xmin = 0.0, xmax = 100)\n",
    "\n",
    "    rink_image = Image.open('assets/NHL-Rink-Half.jpeg') \n",
    "    printed = plt.imshow(rink_image, extent = [0, 100, -42.5, 42.5 ], aspect = 'auto')\n",
    "\n",
    "    if plot_shots == True:\n",
    "        for counter, vertex in enumerate(shots_hexbin_offsets):\n",
    "            if shots_hexbin_values[counter] < 1:\n",
    "                continue       \n",
    "            shots_hexbin_value_scaled = shots_hexbin_values[counter] / max(shots_hexbin_values)\n",
    "            hex_radius = 3 * math.sqrt(shots_hexbin_value_scaled)\n",
    "            shot_hexagon = RegularPolygon((vertex[0],vertex[1]), numVertices=3, radius=hex_radius, \n",
    "                            orientation=np.radians(0), alpha=0.6, edgecolor='Blue', color = 'Blue')\n",
    "#             figure_subplot.add_patch(shot_hexagon)\n",
    "\n",
    "    for counter, vertex in enumerate(goals_hexbin_offsets):\n",
    "        if goals_hexbin_values[counter] < 1:\n",
    "            continue\n",
    "        goals_hexbin_value_scaled = goals_hexbin_values[counter] / max(goals_hexbin_values)\n",
    "        hex_radius = 3 * math.sqrt(goals_hexbin_value_scaled)\n",
    "        goal_hexagon = RegularPolygon((vertex[0], vertex[1]), numVertices = 6, radius = hex_radius, \n",
    "                        orientation = np.radians(0), alpha = 0.5, edgecolor = 'Black', color = 'Black')\n",
    "        figure_subplot.add_patch(goal_hexagon)\n",
    "\n"
   ]
  },
  {
   "cell_type": "markdown",
   "id": "9e35bc9a",
   "metadata": {},
   "source": [
    "## Attacking Positions"
   ]
  },
  {
   "cell_type": "code",
   "execution_count": null,
   "id": "e1ac0eb3",
   "metadata": {},
   "outputs": [],
   "source": [
    "team_a = \"Toronto Maple Leafs\" \n",
    "team_b = \"Ottawa Senators\"\n",
    "\n",
    "filtered_dataframe = display_dataset(team_a, team_b, shot_goals_dataframe_from_json)\n",
    "shots_from_filtered_dataframe, goals_from_filtered_dataframe = calculate_goal_conversion_ratio(team_a, \\\n",
    "                                                                                               team_b, \\\n",
    "                                                                                               filtered_dataframe)\n",
    "\n",
    "shots_hexbin_offsets, shots_hexbin_values, goals_hexbin_offsets, goals_hexbin_values = plot_hexbin_shots_goals(shots_from_filtered_dataframe, \\\n",
    "                                                                                                               goals_from_filtered_dataframe)\n",
    "plot_shots_goals_on_rink(shots_hexbin_offsets, shots_hexbin_values, goals_hexbin_offsets, goals_hexbin_values)\n"
   ]
  },
  {
   "cell_type": "markdown",
   "id": "ccddc0bb",
   "metadata": {},
   "source": [
    "## Defence Positions"
   ]
  },
  {
   "cell_type": "code",
   "execution_count": null,
   "id": "5320c5b7",
   "metadata": {},
   "outputs": [],
   "source": [
    "team_b, team_a = team_a, team_b\n",
    "filtered_dataframe = display_dataset(team_a, team_b, shot_goals_dataframe_from_json)\n",
    "shots_from_filtered_dataframe, goals_from_filtered_dataframe = calculate_goal_conversion_ratio(team_a, team_b, filtered_dataframe)\n",
    "shots_hexbin_offsets, shots_hexbin_values, goals_hexbin_offsets, goals_hexbin_values = plot_hexbin_shots_goals(shots_from_filtered_dataframe, goals_from_filtered_dataframe)\n",
    "plot_shots_goals_on_rink(shots_hexbin_offsets, shots_hexbin_values, goals_hexbin_offsets, goals_hexbin_values, False)"
   ]
  },
  {
   "cell_type": "markdown",
   "id": "1f5cc692",
   "metadata": {},
   "source": [
    "## Player statistics for top 4 players"
   ]
  },
  {
   "cell_type": "code",
   "execution_count": null,
   "id": "a58af0fc",
   "metadata": {},
   "outputs": [],
   "source": []
  },
  {
   "cell_type": "markdown",
   "id": "9cff6845",
   "metadata": {},
   "source": [
    "## Save data for visualization"
   ]
  }
 ],
 "metadata": {
  "kernelspec": {
   "display_name": "Python 3 (ipykernel)",
   "language": "python",
   "name": "python3"
  },
  "language_info": {
   "codemirror_mode": {
    "name": "ipython",
    "version": 3
   },
   "file_extension": ".py",
   "mimetype": "text/x-python",
   "name": "python",
   "nbconvert_exporter": "python",
   "pygments_lexer": "ipython3",
   "version": "3.9.7"
  }
 },
 "nbformat": 4,
 "nbformat_minor": 5
}
