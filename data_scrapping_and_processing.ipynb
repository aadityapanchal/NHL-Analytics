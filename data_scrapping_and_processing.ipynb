{
  "cells": [
    {
      "cell_type": "markdown",
      "metadata": {
        "id": "jPNVjJfs5Rt2"
      },
      "source": [
        "## Notebook for scrapping data for NHL game prediction."
      ]
    },
    {
      "cell_type": "code",
      "execution_count": 4,
      "metadata": {},
      "outputs": [],
      "source": [
        "import warnings\n",
        "warnings.filterwarnings(\"ignore\")"
      ]
    },
    {
      "cell_type": "code",
      "execution_count": null,
      "metadata": {
        "colab": {
          "base_uri": "https://localhost:8080/"
        },
        "id": "1I2LBNZvBVWU",
        "outputId": "6688beba-bb4e-4ff6-94b1-14a0cfdb42e3"
      },
      "outputs": [],
      "source": [
        "import requests\n",
        "import pandas as pd\n",
        "import numpy as np\n",
        "import json\n",
        "import time\n",
        "!pip install hockey_scraper\n",
        "\n",
        "import hockey_scraper\n",
        "from sklearn.preprocessing import LabelEncoder"
      ]
    },
    {
      "cell_type": "code",
      "execution_count": null,
      "metadata": {},
      "outputs": [],
      "source": []
    },
    {
      "cell_type": "markdown",
      "metadata": {
        "id": "eySuv8SU5eWy"
      },
      "source": [
        "### scrapping data for 6 seasons starting from 2015 to 2021."
      ]
    },
    {
      "cell_type": "markdown",
      "metadata": {
        "id": "CiGo7MV75XXc"
      },
      "source": [
        "### Scrapping player and goal keeper Id's."
      ]
    },
    {
      "cell_type": "code",
      "execution_count": 2,
      "metadata": {
        "id": "rVU6Nze1D5HY"
      },
      "outputs": [],
      "source": [
        "years=['20152016','20162017','20172018','20182019', '20192020','20202021']\n",
        "athleteid_url='http://{}.web.nhl.com/{}/{}/{}?expand={}.{}'\n",
        "id_data=json.loads((requests.get(athleteid_url.format('statsapi','api','v1','teams','team','roster'))).content)\n",
        "athlete_id=pd.DataFrame([])"
      ]
    },
    {
      "cell_type": "code",
      "execution_count": 3,
      "metadata": {
        "id": "T-6g_7F4-YBb"
      },
      "outputs": [],
      "source": [
        "id_teams=id_data[\"teams\"]"
      ]
    },
    {
      "cell_type": "code",
      "execution_count": 4,
      "metadata": {
        "id": "ozWpjJXapVhB"
      },
      "outputs": [],
      "source": [
        "full_name_list=[]\n",
        "playerid_list=[]\n",
        "playerposition_list=[]\n",
        "playerposition_code_list=[]\n",
        "for i in id_teams:\n",
        "  for j in i[\"roster\"][\"roster\"]:\n",
        "    full_name_list.append(j[\"person\"][\"fullName\"])\n",
        "    playerid_list.append(j[\"person\"][\"id\"])\n",
        "    playerposition_list.append(j[\"position\"][\"name\"])\n",
        "    playerposition_code_list.append(j[\"position\"][\"code\"])\n",
        "athlete_id[\"fullName\"]=full_name_list\n",
        "athlete_id[\"id\"]=playerid_list\n",
        "athlete_id[\"position\"]=playerposition_list\n",
        "athlete_id[\"position_code\"]=playerposition_code_list"
      ]
    },
    {
      "cell_type": "code",
      "execution_count": 5,
      "metadata": {
        "colab": {
          "base_uri": "https://localhost:8080/",
          "height": 206
        },
        "id": "YekEXEFxtyIX",
        "outputId": "2762293e-1376-4f7d-8172-a1d5f56a3f4f"
      },
      "outputs": [
        {
          "data": {
            "text/html": [
              "<div>\n",
              "<style scoped>\n",
              "    .dataframe tbody tr th:only-of-type {\n",
              "        vertical-align: middle;\n",
              "    }\n",
              "\n",
              "    .dataframe tbody tr th {\n",
              "        vertical-align: top;\n",
              "    }\n",
              "\n",
              "    .dataframe thead th {\n",
              "        text-align: right;\n",
              "    }\n",
              "</style>\n",
              "<table border=\"1\" class=\"dataframe\">\n",
              "  <thead>\n",
              "    <tr style=\"text-align: right;\">\n",
              "      <th></th>\n",
              "      <th>fullName</th>\n",
              "      <th>id</th>\n",
              "      <th>position</th>\n",
              "      <th>position_code</th>\n",
              "    </tr>\n",
              "  </thead>\n",
              "  <tbody>\n",
              "    <tr>\n",
              "      <th>0</th>\n",
              "      <td>Jonathan Bernier</td>\n",
              "      <td>8473541</td>\n",
              "      <td>Goalie</td>\n",
              "      <td>G</td>\n",
              "    </tr>\n",
              "    <tr>\n",
              "      <th>1</th>\n",
              "      <td>Mackenzie Blackwood</td>\n",
              "      <td>8478406</td>\n",
              "      <td>Goalie</td>\n",
              "      <td>G</td>\n",
              "    </tr>\n",
              "    <tr>\n",
              "      <th>2</th>\n",
              "      <td>P.K. Subban</td>\n",
              "      <td>8474056</td>\n",
              "      <td>Defenseman</td>\n",
              "      <td>D</td>\n",
              "    </tr>\n",
              "    <tr>\n",
              "      <th>3</th>\n",
              "      <td>Tomas Tatar</td>\n",
              "      <td>8475193</td>\n",
              "      <td>Left Wing</td>\n",
              "      <td>L</td>\n",
              "    </tr>\n",
              "    <tr>\n",
              "      <th>4</th>\n",
              "      <td>Dougie Hamilton</td>\n",
              "      <td>8476462</td>\n",
              "      <td>Defenseman</td>\n",
              "      <td>D</td>\n",
              "    </tr>\n",
              "  </tbody>\n",
              "</table>\n",
              "</div>"
            ],
            "text/plain": [
              "              fullName       id    position position_code\n",
              "0     Jonathan Bernier  8473541      Goalie             G\n",
              "1  Mackenzie Blackwood  8478406      Goalie             G\n",
              "2          P.K. Subban  8474056  Defenseman             D\n",
              "3          Tomas Tatar  8475193   Left Wing             L\n",
              "4      Dougie Hamilton  8476462  Defenseman             D"
            ]
          },
          "execution_count": 5,
          "metadata": {},
          "output_type": "execute_result"
        }
      ],
      "source": [
        "athlete_id.head()"
      ]
    },
    {
      "cell_type": "code",
      "execution_count": 6,
      "metadata": {
        "id": "aYcpbPkyuv7w"
      },
      "outputs": [],
      "source": [
        "goalkeepers_id=athlete_id[athlete_id[\"position_code\"]==\"G\"]"
      ]
    },
    {
      "cell_type": "code",
      "execution_count": 7,
      "metadata": {
        "colab": {
          "base_uri": "https://localhost:8080/",
          "height": 206
        },
        "id": "JZiYIlMewpE6",
        "outputId": "fe30fff1-82ad-4f6f-b639-33e48f8ea6b0"
      },
      "outputs": [
        {
          "data": {
            "text/html": [
              "<div>\n",
              "<style scoped>\n",
              "    .dataframe tbody tr th:only-of-type {\n",
              "        vertical-align: middle;\n",
              "    }\n",
              "\n",
              "    .dataframe tbody tr th {\n",
              "        vertical-align: top;\n",
              "    }\n",
              "\n",
              "    .dataframe thead th {\n",
              "        text-align: right;\n",
              "    }\n",
              "</style>\n",
              "<table border=\"1\" class=\"dataframe\">\n",
              "  <thead>\n",
              "    <tr style=\"text-align: right;\">\n",
              "      <th></th>\n",
              "      <th>fullName</th>\n",
              "      <th>id</th>\n",
              "      <th>position</th>\n",
              "      <th>position_code</th>\n",
              "    </tr>\n",
              "  </thead>\n",
              "  <tbody>\n",
              "    <tr>\n",
              "      <th>0</th>\n",
              "      <td>Jonathan Bernier</td>\n",
              "      <td>8473541</td>\n",
              "      <td>Goalie</td>\n",
              "      <td>G</td>\n",
              "    </tr>\n",
              "    <tr>\n",
              "      <th>1</th>\n",
              "      <td>Mackenzie Blackwood</td>\n",
              "      <td>8478406</td>\n",
              "      <td>Goalie</td>\n",
              "      <td>G</td>\n",
              "    </tr>\n",
              "    <tr>\n",
              "      <th>5</th>\n",
              "      <td>Jon Gillies</td>\n",
              "      <td>8476903</td>\n",
              "      <td>Goalie</td>\n",
              "      <td>G</td>\n",
              "    </tr>\n",
              "    <tr>\n",
              "      <th>8</th>\n",
              "      <td>Andrew Hammond</td>\n",
              "      <td>8477202</td>\n",
              "      <td>Goalie</td>\n",
              "      <td>G</td>\n",
              "    </tr>\n",
              "    <tr>\n",
              "      <th>28</th>\n",
              "      <td>Nico Daws</td>\n",
              "      <td>8482076</td>\n",
              "      <td>Goalie</td>\n",
              "      <td>G</td>\n",
              "    </tr>\n",
              "  </tbody>\n",
              "</table>\n",
              "</div>"
            ],
            "text/plain": [
              "               fullName       id position position_code\n",
              "0      Jonathan Bernier  8473541   Goalie             G\n",
              "1   Mackenzie Blackwood  8478406   Goalie             G\n",
              "5           Jon Gillies  8476903   Goalie             G\n",
              "8        Andrew Hammond  8477202   Goalie             G\n",
              "28            Nico Daws  8482076   Goalie             G"
            ]
          },
          "execution_count": 7,
          "metadata": {},
          "output_type": "execute_result"
        }
      ],
      "source": [
        "goalkeepers_id.head()"
      ]
    },
    {
      "cell_type": "code",
      "execution_count": 9,
      "metadata": {
        "id": "22rdNScJwqL7"
      },
      "outputs": [],
      "source": [
        "athlete_id.to_csv(\"data/athlete_id.csv\")\n",
        "goalkeepers_id.to_csv(\"data/goalkeepers_id.csv\")"
      ]
    },
    {
      "cell_type": "markdown",
      "metadata": {
        "id": "oib9hllE-euS"
      },
      "source": [
        "### Scarpping Goalkeeper performance data."
      ]
    },
    {
      "cell_type": "code",
      "execution_count": 10,
      "metadata": {
        "id": "PpKoxhaWDiGl"
      },
      "outputs": [],
      "source": [
        "goalkeeper_fulldata={}\n",
        "output_data=pd.DataFrame([])"
      ]
    },
    {
      "cell_type": "markdown",
      "metadata": {
        "id": "Fe5wavVt-n0Y"
      },
      "source": [
        "### Running scrapping loop with a time lapse to avoid IP ban\n",
        "### Below code cell takes ateast 2 hours to run. Don't run this, Please skip to next cell Where I load the saved files from previous runs. "
      ]
    },
    {
      "cell_type": "code",
      "execution_count": 130,
      "metadata": {
        "id": "UjBwxnv2nPPH"
      },
      "outputs": [],
      "source": [
        "for l in range(0,5,2):\n",
        "  goalkeeper_fulldata={}\n",
        "  output_data=pd.DataFrame([])\n",
        "  for i in range(l,l+1):\n",
        "    for j in range(len(goalkeepers_id)):\n",
        "      output=pd.read_html('https://www.naturalstattrick.com/{}.php?{}={}&{}={}&{}={}&sit={}&stype={}&stdoi={}&rate={}&v={}'.format('playerreport','fromseason',years[i],'thruseason',years[i+1],'playerid',goalkeepers_id.iloc[j][\"id\"],'all','2','oi','n','g'))[0]\n",
        "      if j==0:\n",
        "        output['id']=goalkeepers_id.iloc[i][\"id\"]\n",
        "        output['fullName']=goalkeepers_id.iloc[i][\"fullName\"]\n",
        "        output_final=output\n",
        "      else:\n",
        "        output['id']=goalkeepers_id.iloc[i][\"id\"]\n",
        "        output['fullName']=goalkeepers_id.iloc[i][\"fullName\"]\n",
        "        output_final=pd.concat([output,output_final])\n",
        "    output_data=output_final\n",
        "    time.sleep(7)\n",
        "  goalkeeper_fulldata[years[i]+'_'+years[i+1]]=output_data\n",
        "  time.sleep(15)\n",
        "goalkeeper_fulldata[\"20152016_20162017\"].to_csv(\"goalkeeper_fulldata_20152016_20162017.csv\")\n",
        "goalkeeper_fulldata[\"20172018_20182019\"].to_csv(\"goalkeeper_fulldata_20172018_20182019.csv\")\n",
        "goalkeeper_fulldata[\"20192020_20202021\"].to_csv(\"goalkeeper_fulldata_20192020_20202021.csv\")"
      ]
    },
    {
      "cell_type": "code",
      "execution_count": 11,
      "metadata": {
        "id": "_QoA1PFqLAmK"
      },
      "outputs": [],
      "source": [
        "data1_dummy=pd.read_csv(\"data/goalkeeper_fulldata_20152016_20162017.csv\")\n",
        "data2_dummy=pd.read_csv(\"data/goalkeeper_fulldata_20172018_20182019.csv\")\n",
        "data3_dummy=pd.read_csv(\"data/goalkeeper_fulldata_20192020_20202021.csv\")"
      ]
    },
    {
      "cell_type": "code",
      "execution_count": 12,
      "metadata": {
        "id": "QbY0WBmtP1_q"
      },
      "outputs": [],
      "source": [
        "goalkeeper_fulldata_df=pd.DataFrame([])\n",
        "marged_dataframe=[data1_dummy,data2_dummy,data3_dummy]"
      ]
    },
    {
      "cell_type": "code",
      "execution_count": 13,
      "metadata": {
        "id": "kYmrAX_qQB3r"
      },
      "outputs": [],
      "source": [
        "goalkeeper_fulldata=pd.concat(marged_dataframe,ignore_index=True)"
      ]
    },
    {
      "cell_type": "code",
      "execution_count": 14,
      "metadata": {
        "colab": {
          "base_uri": "https://localhost:8080/",
          "height": 35
        },
        "id": "LDw24sAo5Oj6",
        "outputId": "474c4210-91d7-4be9-deb7-d3cab4bdb7eb"
      },
      "outputs": [
        {
          "data": {
            "text/plain": [
              "'2015-10-23 WSH at EDM'"
            ]
          },
          "execution_count": 14,
          "metadata": {},
          "output_type": "execute_result"
        }
      ],
      "source": [
        "goalkeeper_fulldata[\"Game\"][2] "
      ]
    },
    {
      "cell_type": "code",
      "execution_count": 15,
      "metadata": {
        "id": "E4IzcQoX7yjY"
      },
      "outputs": [],
      "source": [
        "dummy_list1=[]\n",
        "for i in range(len(goalkeeper_fulldata[\"Team\"])):\n",
        "  dummy_list1.append(goalkeeper_fulldata[\"Team\"][i]+' + '+goalkeeper_fulldata[\"Game\"][i][0:10])"
      ]
    },
    {
      "cell_type": "code",
      "execution_count": 16,
      "metadata": {
        "id": "91SoEnMJ7yoK"
      },
      "outputs": [],
      "source": [
        "goalkeeper_fulldata[\"Team+day\"]=dummy_list1"
      ]
    },
    {
      "cell_type": "code",
      "execution_count": 17,
      "metadata": {
        "id": "TiyAvoe26SYF"
      },
      "outputs": [],
      "source": [
        "dummy_list2=[]\n",
        "for i in range(len(goalkeeper_fulldata[\"Team\"])):\n",
        "  dummy_list2.append(goalkeeper_fulldata[\"Game\"][i][0:10])"
      ]
    },
    {
      "cell_type": "code",
      "execution_count": 18,
      "metadata": {
        "id": "ulJA59bi62pu"
      },
      "outputs": [],
      "source": [
        "goalkeeper_fulldata[\"day\"]=dummy_list2"
      ]
    },
    {
      "cell_type": "code",
      "execution_count": 19,
      "metadata": {
        "colab": {
          "base_uri": "https://localhost:8080/",
          "height": 664
        },
        "id": "T29ZyBus7lbc",
        "outputId": "46ef6d85-9461-4441-9c79-25f6d2481d74"
      },
      "outputs": [
        {
          "data": {
            "text/html": [
              "<div>\n",
              "<style scoped>\n",
              "    .dataframe tbody tr th:only-of-type {\n",
              "        vertical-align: middle;\n",
              "    }\n",
              "\n",
              "    .dataframe tbody tr th {\n",
              "        vertical-align: top;\n",
              "    }\n",
              "\n",
              "    .dataframe thead th {\n",
              "        text-align: right;\n",
              "    }\n",
              "</style>\n",
              "<table border=\"1\" class=\"dataframe\">\n",
              "  <thead>\n",
              "    <tr style=\"text-align: right;\">\n",
              "      <th></th>\n",
              "      <th>Unnamed: 0</th>\n",
              "      <th>Game</th>\n",
              "      <th>Team</th>\n",
              "      <th>TOI</th>\n",
              "      <th>CF</th>\n",
              "      <th>CA</th>\n",
              "      <th>CF%</th>\n",
              "      <th>FF</th>\n",
              "      <th>FA</th>\n",
              "      <th>FF%</th>\n",
              "      <th>...</th>\n",
              "      <th>On The Fly Starts</th>\n",
              "      <th>Off. Zone Start %</th>\n",
              "      <th>Off. Zone Faceoffs</th>\n",
              "      <th>Neu. Zone Faceoffs</th>\n",
              "      <th>Def. Zone Faceoffs</th>\n",
              "      <th>Off. Zone Faceoff %</th>\n",
              "      <th>id</th>\n",
              "      <th>fullName</th>\n",
              "      <th>Team+day</th>\n",
              "      <th>day</th>\n",
              "    </tr>\n",
              "  </thead>\n",
              "  <tbody>\n",
              "    <tr>\n",
              "      <th>0</th>\n",
              "      <td>0</td>\n",
              "      <td>2015-12-12 OTT at MTL</td>\n",
              "      <td>OTT</td>\n",
              "      <td>31.816667</td>\n",
              "      <td>37</td>\n",
              "      <td>21</td>\n",
              "      <td>63.79</td>\n",
              "      <td>22</td>\n",
              "      <td>14</td>\n",
              "      <td>61.11</td>\n",
              "      <td>...</td>\n",
              "      <td>0</td>\n",
              "      <td>-</td>\n",
              "      <td>13</td>\n",
              "      <td>13</td>\n",
              "      <td>8</td>\n",
              "      <td>61.9</td>\n",
              "      <td>8473541</td>\n",
              "      <td>Jonathan Bernier</td>\n",
              "      <td>OTT + 2015-12-12</td>\n",
              "      <td>2015-12-12</td>\n",
              "    </tr>\n",
              "    <tr>\n",
              "      <th>1</th>\n",
              "      <td>1</td>\n",
              "      <td>2016-10-28 OTT at CGY</td>\n",
              "      <td>OTT</td>\n",
              "      <td>40.000000</td>\n",
              "      <td>43</td>\n",
              "      <td>39</td>\n",
              "      <td>52.44</td>\n",
              "      <td>33</td>\n",
              "      <td>26</td>\n",
              "      <td>55.93</td>\n",
              "      <td>...</td>\n",
              "      <td>0</td>\n",
              "      <td>-</td>\n",
              "      <td>23</td>\n",
              "      <td>10</td>\n",
              "      <td>13</td>\n",
              "      <td>63.89</td>\n",
              "      <td>8473541</td>\n",
              "      <td>Jonathan Bernier</td>\n",
              "      <td>OTT + 2016-10-28</td>\n",
              "      <td>2016-10-28</td>\n",
              "    </tr>\n",
              "    <tr>\n",
              "      <th>2</th>\n",
              "      <td>0</td>\n",
              "      <td>2015-10-23 WSH at EDM</td>\n",
              "      <td>WSH</td>\n",
              "      <td>59.666667</td>\n",
              "      <td>48</td>\n",
              "      <td>55</td>\n",
              "      <td>46.6</td>\n",
              "      <td>37</td>\n",
              "      <td>39</td>\n",
              "      <td>48.68</td>\n",
              "      <td>...</td>\n",
              "      <td>0</td>\n",
              "      <td>100.00</td>\n",
              "      <td>13</td>\n",
              "      <td>26</td>\n",
              "      <td>23</td>\n",
              "      <td>36.11</td>\n",
              "      <td>8473541</td>\n",
              "      <td>Jonathan Bernier</td>\n",
              "      <td>WSH + 2015-10-23</td>\n",
              "      <td>2015-10-23</td>\n",
              "    </tr>\n",
              "    <tr>\n",
              "      <th>3</th>\n",
              "      <td>1</td>\n",
              "      <td>2015-10-31 WSH at FLA</td>\n",
              "      <td>WSH</td>\n",
              "      <td>63.733333</td>\n",
              "      <td>48</td>\n",
              "      <td>44</td>\n",
              "      <td>52.17</td>\n",
              "      <td>36</td>\n",
              "      <td>38</td>\n",
              "      <td>48.65</td>\n",
              "      <td>...</td>\n",
              "      <td>0</td>\n",
              "      <td>-</td>\n",
              "      <td>15</td>\n",
              "      <td>22</td>\n",
              "      <td>18</td>\n",
              "      <td>45.45</td>\n",
              "      <td>8473541</td>\n",
              "      <td>Jonathan Bernier</td>\n",
              "      <td>WSH + 2015-10-31</td>\n",
              "      <td>2015-10-31</td>\n",
              "    </tr>\n",
              "    <tr>\n",
              "      <th>4</th>\n",
              "      <td>2</td>\n",
              "      <td>2015-11-13 CGY at WSH</td>\n",
              "      <td>WSH</td>\n",
              "      <td>61.666667</td>\n",
              "      <td>75</td>\n",
              "      <td>55</td>\n",
              "      <td>57.69</td>\n",
              "      <td>48</td>\n",
              "      <td>45</td>\n",
              "      <td>51.61</td>\n",
              "      <td>...</td>\n",
              "      <td>0</td>\n",
              "      <td>-</td>\n",
              "      <td>22</td>\n",
              "      <td>23</td>\n",
              "      <td>20</td>\n",
              "      <td>52.38</td>\n",
              "      <td>8473541</td>\n",
              "      <td>Jonathan Bernier</td>\n",
              "      <td>WSH + 2015-11-13</td>\n",
              "      <td>2015-11-13</td>\n",
              "    </tr>\n",
              "  </tbody>\n",
              "</table>\n",
              "<p>5 rows × 59 columns</p>\n",
              "</div>"
            ],
            "text/plain": [
              "   Unnamed: 0                   Game Team        TOI  CF  CA    CF%  FF  FA  \\\n",
              "0           0  2015-12-12 OTT at MTL  OTT  31.816667  37  21  63.79  22  14   \n",
              "1           1  2016-10-28 OTT at CGY  OTT  40.000000  43  39  52.44  33  26   \n",
              "2           0  2015-10-23 WSH at EDM  WSH  59.666667  48  55   46.6  37  39   \n",
              "3           1  2015-10-31 WSH at FLA  WSH  63.733333  48  44  52.17  36  38   \n",
              "4           2  2015-11-13 CGY at WSH  WSH  61.666667  75  55  57.69  48  45   \n",
              "\n",
              "     FF%  ...  On The Fly Starts  Off. Zone Start % Off. Zone Faceoffs  \\\n",
              "0  61.11  ...                  0                  -                 13   \n",
              "1  55.93  ...                  0                  -                 23   \n",
              "2  48.68  ...                  0             100.00                 13   \n",
              "3  48.65  ...                  0                  -                 15   \n",
              "4  51.61  ...                  0                  -                 22   \n",
              "\n",
              "   Neu. Zone Faceoffs  Def. Zone Faceoffs Off. Zone Faceoff %       id  \\\n",
              "0                  13                   8                61.9  8473541   \n",
              "1                  10                  13               63.89  8473541   \n",
              "2                  26                  23               36.11  8473541   \n",
              "3                  22                  18               45.45  8473541   \n",
              "4                  23                  20               52.38  8473541   \n",
              "\n",
              "           fullName          Team+day         day  \n",
              "0  Jonathan Bernier  OTT + 2015-12-12  2015-12-12  \n",
              "1  Jonathan Bernier  OTT + 2016-10-28  2016-10-28  \n",
              "2  Jonathan Bernier  WSH + 2015-10-23  2015-10-23  \n",
              "3  Jonathan Bernier  WSH + 2015-10-31  2015-10-31  \n",
              "4  Jonathan Bernier  WSH + 2015-11-13  2015-11-13  \n",
              "\n",
              "[5 rows x 59 columns]"
            ]
          },
          "execution_count": 19,
          "metadata": {},
          "output_type": "execute_result"
        }
      ],
      "source": [
        "goalkeeper_fulldata.head()"
      ]
    },
    {
      "cell_type": "markdown",
      "metadata": {
        "id": "TujTUNYDEqpx"
      },
      "source": []
    },
    {
      "cell_type": "markdown",
      "metadata": {
        "id": "wogloFz6Eqs5"
      },
      "source": [
        "### Since Ice Hockey is a low-scoring game. To smoothen out the varience in the data, we are calculating rolling averages of the data. \n",
        "###We have calculated 40 an 5 rolling game averages. In the end to include all the opponents a team might encounter, we have decided to use 40 games average. "
      ]
    },
    {
      "cell_type": "code",
      "execution_count": 20,
      "metadata": {
        "id": "nd7TjjANunp9"
      },
      "outputs": [],
      "source": [
        "list_1=[\"TOI_MovingAverage\",'SA_MovingAverage','FA_MovingAverage','GA_MovingAverage','xGA_MovingAverage','HDCA_MovingAverage','HDGA_MovingAverage']\n",
        "list_2=[\"TOI\",\"SA\",\"FA\",'GA','xGA','HDCA','HDGA','id']\n",
        "\n",
        "for i in range(len(list_1)):\n",
        "    goalkeeper_fulldata[list_1[i]]=goalkeeper_fulldata.groupby(list_2[-1])[list_2[i]].apply(lambda x: x.rolling(window=40,min_periods=10).sum().shift())"
      ]
    },
    {
      "cell_type": "code",
      "execution_count": 21,
      "metadata": {
        "id": "tS3ECQobtsql"
      },
      "outputs": [],
      "source": [
        "goalkeeper_fulldata['fwkSV%_GoalKeeper']=(goalkeeper_fulldata['FA_MovingAverage']-goalkeeper_fulldata['GA_MovingAverage'])/goalkeeper_fulldata['FA_MovingAverage']"
      ]
    },
    {
      "cell_type": "code",
      "execution_count": 22,
      "metadata": {
        "id": "AC8MdSvOvY_s"
      },
      "outputs": [],
      "source": [
        "goalkeeper_fulldata['GSAx_GoalKeeper']=(goalkeeper_fulldata['xGA_MovingAverage']*60/goalkeeper_fulldata['TOI_MovingAverage'])"
      ]
    },
    {
      "cell_type": "code",
      "execution_count": 23,
      "metadata": {
        "id": "Fc6IJH1kvZK-"
      },
      "outputs": [],
      "source": [
        "goalkeeper_fulldata['GSAx/60_GoalKeeper']=goalkeeper_fulldata['GSAx_GoalKeeper']*60/goalkeeper_fulldata['TOI_MovingAverage']\n",
        "goalkeeper_fulldata['HDCSV%__GoalKeeper']=(goalkeeper_fulldata['HDCA_MovingAverage']-goalkeeper_fulldata['HDGA_MovingAverage'])/goalkeeper_fulldata['HDCA_MovingAverage'] "
      ]
    },
    {
      "cell_type": "code",
      "execution_count": 24,
      "metadata": {
        "id": "en3rt41iQKcn"
      },
      "outputs": [],
      "source": [
        "goalkeeper_fulldata.to_csv(\"data/goalkeeper_fulldata_complete.csv\")"
      ]
    },
    {
      "cell_type": "code",
      "execution_count": 25,
      "metadata": {
        "colab": {
          "base_uri": "https://localhost:8080/",
          "height": 664
        },
        "id": "RdVV-EWXqNjk",
        "outputId": "e3f64d2f-dd3d-4329-89e8-9d82ed7b1cb3"
      },
      "outputs": [
        {
          "data": {
            "text/html": [
              "<div>\n",
              "<style scoped>\n",
              "    .dataframe tbody tr th:only-of-type {\n",
              "        vertical-align: middle;\n",
              "    }\n",
              "\n",
              "    .dataframe tbody tr th {\n",
              "        vertical-align: top;\n",
              "    }\n",
              "\n",
              "    .dataframe thead th {\n",
              "        text-align: right;\n",
              "    }\n",
              "</style>\n",
              "<table border=\"1\" class=\"dataframe\">\n",
              "  <thead>\n",
              "    <tr style=\"text-align: right;\">\n",
              "      <th></th>\n",
              "      <th>Unnamed: 0</th>\n",
              "      <th>Game</th>\n",
              "      <th>Team</th>\n",
              "      <th>TOI</th>\n",
              "      <th>CF</th>\n",
              "      <th>CA</th>\n",
              "      <th>CF%</th>\n",
              "      <th>FF</th>\n",
              "      <th>FA</th>\n",
              "      <th>FF%</th>\n",
              "      <th>...</th>\n",
              "      <th>SA_MovingAverage</th>\n",
              "      <th>FA_MovingAverage</th>\n",
              "      <th>GA_MovingAverage</th>\n",
              "      <th>xGA_MovingAverage</th>\n",
              "      <th>HDCA_MovingAverage</th>\n",
              "      <th>HDGA_MovingAverage</th>\n",
              "      <th>fwkSV%_GoalKeeper</th>\n",
              "      <th>GSAx_GoalKeeper</th>\n",
              "      <th>GSAx/60_GoalKeeper</th>\n",
              "      <th>HDCSV%__GoalKeeper</th>\n",
              "    </tr>\n",
              "  </thead>\n",
              "  <tbody>\n",
              "    <tr>\n",
              "      <th>0</th>\n",
              "      <td>0</td>\n",
              "      <td>2015-12-12 OTT at MTL</td>\n",
              "      <td>OTT</td>\n",
              "      <td>31.816667</td>\n",
              "      <td>37</td>\n",
              "      <td>21</td>\n",
              "      <td>63.79</td>\n",
              "      <td>22</td>\n",
              "      <td>14</td>\n",
              "      <td>61.11</td>\n",
              "      <td>...</td>\n",
              "      <td>NaN</td>\n",
              "      <td>NaN</td>\n",
              "      <td>NaN</td>\n",
              "      <td>NaN</td>\n",
              "      <td>NaN</td>\n",
              "      <td>NaN</td>\n",
              "      <td>NaN</td>\n",
              "      <td>NaN</td>\n",
              "      <td>NaN</td>\n",
              "      <td>NaN</td>\n",
              "    </tr>\n",
              "    <tr>\n",
              "      <th>1</th>\n",
              "      <td>1</td>\n",
              "      <td>2016-10-28 OTT at CGY</td>\n",
              "      <td>OTT</td>\n",
              "      <td>40.000000</td>\n",
              "      <td>43</td>\n",
              "      <td>39</td>\n",
              "      <td>52.44</td>\n",
              "      <td>33</td>\n",
              "      <td>26</td>\n",
              "      <td>55.93</td>\n",
              "      <td>...</td>\n",
              "      <td>NaN</td>\n",
              "      <td>NaN</td>\n",
              "      <td>NaN</td>\n",
              "      <td>NaN</td>\n",
              "      <td>NaN</td>\n",
              "      <td>NaN</td>\n",
              "      <td>NaN</td>\n",
              "      <td>NaN</td>\n",
              "      <td>NaN</td>\n",
              "      <td>NaN</td>\n",
              "    </tr>\n",
              "    <tr>\n",
              "      <th>2</th>\n",
              "      <td>0</td>\n",
              "      <td>2015-10-23 WSH at EDM</td>\n",
              "      <td>WSH</td>\n",
              "      <td>59.666667</td>\n",
              "      <td>48</td>\n",
              "      <td>55</td>\n",
              "      <td>46.6</td>\n",
              "      <td>37</td>\n",
              "      <td>39</td>\n",
              "      <td>48.68</td>\n",
              "      <td>...</td>\n",
              "      <td>NaN</td>\n",
              "      <td>NaN</td>\n",
              "      <td>NaN</td>\n",
              "      <td>NaN</td>\n",
              "      <td>NaN</td>\n",
              "      <td>NaN</td>\n",
              "      <td>NaN</td>\n",
              "      <td>NaN</td>\n",
              "      <td>NaN</td>\n",
              "      <td>NaN</td>\n",
              "    </tr>\n",
              "    <tr>\n",
              "      <th>3</th>\n",
              "      <td>1</td>\n",
              "      <td>2015-10-31 WSH at FLA</td>\n",
              "      <td>WSH</td>\n",
              "      <td>63.733333</td>\n",
              "      <td>48</td>\n",
              "      <td>44</td>\n",
              "      <td>52.17</td>\n",
              "      <td>36</td>\n",
              "      <td>38</td>\n",
              "      <td>48.65</td>\n",
              "      <td>...</td>\n",
              "      <td>NaN</td>\n",
              "      <td>NaN</td>\n",
              "      <td>NaN</td>\n",
              "      <td>NaN</td>\n",
              "      <td>NaN</td>\n",
              "      <td>NaN</td>\n",
              "      <td>NaN</td>\n",
              "      <td>NaN</td>\n",
              "      <td>NaN</td>\n",
              "      <td>NaN</td>\n",
              "    </tr>\n",
              "    <tr>\n",
              "      <th>4</th>\n",
              "      <td>2</td>\n",
              "      <td>2015-11-13 CGY at WSH</td>\n",
              "      <td>WSH</td>\n",
              "      <td>61.666667</td>\n",
              "      <td>75</td>\n",
              "      <td>55</td>\n",
              "      <td>57.69</td>\n",
              "      <td>48</td>\n",
              "      <td>45</td>\n",
              "      <td>51.61</td>\n",
              "      <td>...</td>\n",
              "      <td>NaN</td>\n",
              "      <td>NaN</td>\n",
              "      <td>NaN</td>\n",
              "      <td>NaN</td>\n",
              "      <td>NaN</td>\n",
              "      <td>NaN</td>\n",
              "      <td>NaN</td>\n",
              "      <td>NaN</td>\n",
              "      <td>NaN</td>\n",
              "      <td>NaN</td>\n",
              "    </tr>\n",
              "  </tbody>\n",
              "</table>\n",
              "<p>5 rows × 70 columns</p>\n",
              "</div>"
            ],
            "text/plain": [
              "   Unnamed: 0                   Game Team        TOI  CF  CA    CF%  FF  FA  \\\n",
              "0           0  2015-12-12 OTT at MTL  OTT  31.816667  37  21  63.79  22  14   \n",
              "1           1  2016-10-28 OTT at CGY  OTT  40.000000  43  39  52.44  33  26   \n",
              "2           0  2015-10-23 WSH at EDM  WSH  59.666667  48  55   46.6  37  39   \n",
              "3           1  2015-10-31 WSH at FLA  WSH  63.733333  48  44  52.17  36  38   \n",
              "4           2  2015-11-13 CGY at WSH  WSH  61.666667  75  55  57.69  48  45   \n",
              "\n",
              "     FF%  ...  SA_MovingAverage  FA_MovingAverage GA_MovingAverage  \\\n",
              "0  61.11  ...               NaN               NaN              NaN   \n",
              "1  55.93  ...               NaN               NaN              NaN   \n",
              "2  48.68  ...               NaN               NaN              NaN   \n",
              "3  48.65  ...               NaN               NaN              NaN   \n",
              "4  51.61  ...               NaN               NaN              NaN   \n",
              "\n",
              "   xGA_MovingAverage  HDCA_MovingAverage HDGA_MovingAverage  \\\n",
              "0                NaN                 NaN                NaN   \n",
              "1                NaN                 NaN                NaN   \n",
              "2                NaN                 NaN                NaN   \n",
              "3                NaN                 NaN                NaN   \n",
              "4                NaN                 NaN                NaN   \n",
              "\n",
              "   fwkSV%_GoalKeeper  GSAx_GoalKeeper GSAx/60_GoalKeeper  HDCSV%__GoalKeeper  \n",
              "0                NaN              NaN                NaN                 NaN  \n",
              "1                NaN              NaN                NaN                 NaN  \n",
              "2                NaN              NaN                NaN                 NaN  \n",
              "3                NaN              NaN                NaN                 NaN  \n",
              "4                NaN              NaN                NaN                 NaN  \n",
              "\n",
              "[5 rows x 70 columns]"
            ]
          },
          "execution_count": 25,
          "metadata": {},
          "output_type": "execute_result"
        }
      ],
      "source": [
        "goalkeeper_fulldata.head()"
      ]
    },
    {
      "cell_type": "code",
      "execution_count": 26,
      "metadata": {
        "id": "cL9OINYB0xMz"
      },
      "outputs": [],
      "source": [
        "ff_calc=(goalkeeper_fulldata['FA'].sum()-goalkeeper_fulldata['GA'].sum())/goalkeeper_fulldata['FA'].sum()\n",
        "GSAx_calc=goalkeeper_fulldata['xGA'].sum()-goalkeeper_fulldata['GA'].sum()\n",
        "GSAx60_calc=(GSAx_calc*60)/goalkeeper_fulldata['TOI'].sum()\n",
        "HDCSV_calc=(goalkeeper_fulldata['HDCA'].sum()-goalkeeper_fulldata['HDGA'].sum() )/goalkeeper_fulldata['HDCA'].sum()"
      ]
    },
    {
      "cell_type": "code",
      "execution_count": 153,
      "metadata": {
        "id": "dtjkrp42Lc74"
      },
      "outputs": [],
      "source": []
    },
    {
      "cell_type": "markdown",
      "metadata": {
        "id": "xsk13vIPLmdb"
      },
      "source": [
        "### Scrapping stats of every game from 2015 to 2021 in all three major formats (5v5, Powerplay, Powerkill)."
      ]
    },
    {
      "cell_type": "code",
      "execution_count": 27,
      "metadata": {
        "id": "tugdmFeYSbYi"
      },
      "outputs": [],
      "source": [
        "play=[\"sva\",\"pp\",\"pk\"]"
      ]
    },
    {
      "cell_type": "code",
      "execution_count": 28,
      "metadata": {
        "id": "SfOGoOdwc9j_"
      },
      "outputs": [],
      "source": [
        "play_stattrick_url='https://www.naturalstattrick.com/games.php?{}={}&{}={}&stype={}&sit={}&loc={}&team={}&rate={}'"
      ]
    },
    {
      "cell_type": "code",
      "execution_count": 29,
      "metadata": {
        "id": "ACuUiXfL_EN0"
      },
      "outputs": [],
      "source": [
        "teamshortids_dict=open(\"data/teamshortids.json\")\n",
        "teamshortids_dict=json.load(teamshortids_dict)"
      ]
    },
    {
      "cell_type": "code",
      "execution_count": 30,
      "metadata": {
        "id": "l9rNGcnq8wsu"
      },
      "outputs": [],
      "source": [
        "teamid_url='https://statsapi.web.nhl.com/api/v1/teams'\n",
        "teamid_data=json.loads((requests.get(teamid_url)).content)"
      ]
    },
    {
      "cell_type": "code",
      "execution_count": 31,
      "metadata": {
        "colab": {
          "base_uri": "https://localhost:8080/",
          "height": 35
        },
        "id": "aMQfS8r5jZXU",
        "outputId": "684d28c7-c806-479b-941d-4985ace3cf5a"
      },
      "outputs": [
        {
          "data": {
            "text/plain": [
              "'SN'"
            ]
          },
          "execution_count": 31,
          "metadata": {},
          "output_type": "execute_result"
        }
      ],
      "source": [
        "teamshortids_dict[\"Seattle Kraken\"]"
      ]
    },
    {
      "cell_type": "code",
      "execution_count": null,
      "metadata": {
        "colab": {
          "base_uri": "https://localhost:8080/"
        },
        "id": "sh41wJ54dIoI",
        "outputId": "38c57e97-cf77-463c-89ee-e8710de7af70"
      },
      "outputs": [],
      "source": [
        "final_data={}\n",
        "for i in range(len(years)):\n",
        "  for j in range(len(play)):\n",
        "    output=pd.read_html(play_stattrick_url.format('fromseason',years[i],'thruseason',years[i],play[j],'2','B','All','n'))    \n",
        "    for i1 in range(len(output[0][\"Team\"])):\n",
        "      output[0][\"Team\"][i1]=teamshortids_dict[output[0][\"Team\"][i1]]\n",
        "    dummy_list11=[]\n",
        "    for i2 in range(len(output[0][\"Team\"])):\n",
        "      dummy_list11.append(output[0][\"Team\"][i2]+' + '+output[0]['Game'][i2][0:10])\n",
        "    dummy_list12=[]\n",
        "    for i3 in range(len(output[0][\"Team\"])):\n",
        "      dummy_list12.append(output[0][\"Game\"][i3][0:10])\n",
        "    output[0][\"day\"]=dummy_list12\n",
        "    output[0][\"Team+day\"]=dummy_list11\n",
        "    final_data[years[i]+\"_\"+play[j]]=output[0]\n",
        "    time.sleep(3)\n",
        "  time.sleep(5)"
      ]
    },
    {
      "cell_type": "code",
      "execution_count": 159,
      "metadata": {
        "id": "eRh0OYvnnBIj"
      },
      "outputs": [],
      "source": [
        "finaldata_merged=pd.DataFrame([])\n",
        "list1_merge=['Team+day', 'TOI', 'xGF', 'GF']\n",
        "list2_merge=['Team+day', 'TOI', 'xGA', 'GA']"
      ]
    },
    {
      "cell_type": "code",
      "execution_count": 160,
      "metadata": {
        "id": "2Rl8Ckn4vsaW"
      },
      "outputs": [],
      "source": [
        "merge_20152016=final_data[\"20152016_sva\"].merge(final_data[\"20152016_pp\"][list1_merge],left_index=False,right_index=False,suffixes=(\"\",\"_pp\"),how='left',on='Team+day',indicator=False,validate=None,)\n",
        "merge_20152016=merge_20152016.merge(final_data[\"20152016_pk\"][list2_merge],left_index=False,right_index=False,suffixes=(\"\",\"_pk\"),how='left',on='Team+day',indicator=False,validate=None,)"
      ]
    },
    {
      "cell_type": "code",
      "execution_count": 161,
      "metadata": {
        "id": "vkFT0-I-vsjp"
      },
      "outputs": [],
      "source": [
        "merge_20162017=final_data[\"20162017_sva\"].merge(final_data[\"20162017_pp\"][list1_merge],left_index=False,right_index=False,suffixes=(\"\",\"_pp\"),how='left',on='Team+day',indicator=False,validate=None,)\n",
        "merge_20162017=merge_20162017.merge(final_data[\"20162017_pk\"][list2_merge],left_index=False,right_index=False,suffixes=(\"\",\"_pk\"),how='left',on='Team+day',indicator=False,validate=None,)"
      ]
    },
    {
      "cell_type": "code",
      "execution_count": 162,
      "metadata": {
        "id": "ASiTH7Hivsmd"
      },
      "outputs": [],
      "source": [
        "merge_20172018=final_data[\"20172018_sva\"].merge(final_data[\"20172018_pp\"][list1_merge],left_index=False,right_index=False,suffixes=(\"\",\"_pp\"),how='left',on='Team+day',indicator=False,validate=None,)\n",
        "merge_20172018=merge_20172018.merge(final_data[\"20172018_pk\"][list2_merge],left_index=False,right_index=False,suffixes=(\"\",\"_pk\"),how='left',on='Team+day',indicator=False,validate=None,)"
      ]
    },
    {
      "cell_type": "code",
      "execution_count": 163,
      "metadata": {
        "id": "5lae_CT349ax"
      },
      "outputs": [],
      "source": [
        "merge_20182019=final_data[\"20182019_sva\"].merge(final_data[\"20182019_pp\"][list1_merge],left_index=False,right_index=False,suffixes=(\"\",\"_pp\"),how='left',on='Team+day',indicator=False,validate=None,)\n",
        "merge_20182019=merge_20182019.merge(final_data[\"20182019_pk\"][list2_merge],left_index=False,right_index=False,suffixes=(\"\",\"_pk\"),how='left',on='Team+day',indicator=False,validate=None,)"
      ]
    },
    {
      "cell_type": "code",
      "execution_count": 164,
      "metadata": {
        "id": "_7TVC1rytAjc"
      },
      "outputs": [],
      "source": [
        "merge_20192020=final_data[\"20192020_sva\"].merge(final_data[\"20192020_pp\"][list1_merge],left_index=False,right_index=False,suffixes=(\"\",\"_pp\"),how='left',on='Team+day',indicator=False,validate=None,)\n",
        "merge_20192020=merge_20192020.merge(final_data[\"20192020_pk\"][list2_merge],left_index=False,right_index=False,suffixes=(\"\",\"_pk\"),how='left',on='Team+day',indicator=False,validate=None,)"
      ]
    },
    {
      "cell_type": "code",
      "execution_count": 165,
      "metadata": {
        "id": "RtAbBo6d4-WC"
      },
      "outputs": [],
      "source": [
        "merge_20202021=final_data[\"20202021_sva\"].merge(final_data[\"20202021_pp\"][list1_merge],left_index=False,right_index=False,suffixes=(\"\",\"_pp\"),how='left',on='Team+day',indicator=False,validate=None,)\n",
        "merge_20202021=merge_20202021.merge(final_data[\"20202021_pk\"][list2_merge],left_index=False,right_index=False,suffixes=(\"\",\"_pk\"),how='left',on='Team+day',indicator=False,validate=None,)"
      ]
    },
    {
      "cell_type": "code",
      "execution_count": 166,
      "metadata": {
        "id": "dKw8uYqIulm2"
      },
      "outputs": [],
      "source": [
        "final_output=pd.concat([merge_20152016,merge_20162017,merge_20172018,merge_20182019,merge_20192020,merge_20202021])"
      ]
    },
    {
      "cell_type": "code",
      "execution_count": 168,
      "metadata": {
        "colab": {
          "base_uri": "https://localhost:8080/"
        },
        "id": "dj6utInOBWJH",
        "outputId": "b5bcb434-8496-4f5b-df31-411934c5778e"
      },
      "outputs": [
        {
          "data": {
            "text/plain": [
              "array([False, False, False, False, False, False, False, False, False,\n",
              "       False, False, False, False, False, False, False, False, False,\n",
              "       False, False, False, False, False, False, False, False, False,\n",
              "       False, False, False, False, False, False, False, False, False,\n",
              "       False, False, False, False, False, False, False, False, False,\n",
              "       False, False, False, False, False, False, False, False, False,\n",
              "       False, False, False, False, False, False, False, False, False,\n",
              "       False, False, False, False])"
            ]
          },
          "execution_count": 168,
          "metadata": {},
          "output_type": "execute_result"
        }
      ],
      "source": [
        "final_output.columns.duplicated()"
      ]
    },
    {
      "cell_type": "markdown",
      "metadata": {
        "id": "po3kVS3XdUld"
      },
      "source": [
        "### Since Ice Hockey is a low-scoring game. To smoothen out the varience in the data, we are calculating rolling averages of the data. \n",
        "###We have calculated 40 an 5 rolling game averages. In the end to include all the opponents a team might encounter, we have decided to use 40 games average. "
      ]
    },
    {
      "cell_type": "code",
      "execution_count": null,
      "metadata": {},
      "outputs": [],
      "source": [
        "list_3=[\"TOI_SVA_TeamMoingAverage_40\",\"TOI_SVA_TeamMoingAverage_5\",\"CA_SVA_TeamMoingAverage_40\",\"CA_SVA_TeamMoingAverage_5\",\"FF_SVA_TeamMoingAverage_40\",\"FF_SVA_TeamMoingAverage_5\",\n",
        "        \"FA_SVA_TeamMoingAverage_40\",\"FA_SVA_TeamMoingAverage_5\",\"SF_SVA_TeamMoingAverage_40\",\"SF_SVA_TeamMoingAverage_5\",\"SA_SVA_TeamMoingAverage_40\",\"SA_SVA_TeamMoingAverage_5\",\n",
        "        \"GA_SVA_TeamMoingAverage_40\",\"GA_SVA_TeamMoingAverage_5\",\"GF_SVA_TeamMoingAverage_40\",\"GF_SVA_TeamMoingAverage_5\",\"xGA_SVA_TeamMoingAverage_40\",\"xGA_SVA_TeamMoingAverage_5\",\n",
        "        \"xGF_SVA_TeamMoingAverage_40\",\"xGF_SVA_TeamMoingAverage_5\",\"TOI_pp_TeamMoingAverage_40\",\"TOI_pp_TeamMoingAverage_5\",\"GF_pp_TeamMoingAverage_40\",\"GF_pp_TeamMoingAverage_5\",\n",
        "        \"xGF_pp_TeamMoingAverage_40\",\"xGF_pp_TeamMoingAverage_5\",\"TOI_Average_pp_TeamMoingAverage_40\",\"TOI_Average_pp_TeamMoingAverage_5\",\"TOI_pk_TeamMoingAverage_40\",\"TOI_pk_TeamMoingAverage_5\",\n",
        "        \"GA_pk_TeamMoingAverage_40\",\"GA_pk_TeamMoingAverage_5\",\"xGA_pk_TeamMoingAverage_40\",\"xGA_pk_TeamMoingAverage_5\",\"TOI_Average_pk_TeamMoingAverage_40\",\"TOI_Average_pk_TeamMoingAverage_5\"]\n",
        "\n",
        "list_4=[\"TOI\",\"TOI\",\"CA\",\"CA\",\"FF\",\"FF\",\"FA\",\"FA\",\"SF\",\"SF\",\"SA\",\"SA\",\"GA\",\"GA\",\"GF\",\"GF\",\"xGA\",\"xGA\",\"xGF\",\"xGF\",\"TOI_pp\",\"TOI_pp\",\"GF_pp\",\"GF_pp\",\"xGF_pp\",\"xGF_pp\",\"TOI_pp\",\"TOI_pp\",\n",
        "       \"TOI_pk\",\"TOI_pk\",\"GA_pk\",\"GA_pk\",\"xGA_pk\",\"xGA_pk\",\"TOI_pk\",\"TOI_pk\",\"Team\"]\n",
        "\n",
        "for i in range(len(list_3)):\n",
        "        final_output[list_3[i]]=final_output.groupby(list_4[-1])[list_4[i]].transform(lambda x: x.rolling(window=40,min_periods=40).sum().shift())"
      ]
    },
    {
      "cell_type": "code",
      "execution_count": 180,
      "metadata": {
        "id": "-pImDIRg_wJw"
      },
      "outputs": [],
      "source": [
        "final_output[\"Fenwick%_SVA_TeamMoingAverage_40\"]=(final_output[\"FF_SVA_TeamMoingAverage_40\"]/(final_output[\"FF_SVA_TeamMoingAverage_40\"]+final_output[\"FA_SVA_TeamMoingAverage_40\"]))*100\n",
        "final_output[\"Fenwick%_SVA_TeamMoingAverage_5\"]=(final_output[\"FF_SVA_TeamMoingAverage_5\"]/(final_output[\"FF_SVA_TeamMoingAverage_5\"]+final_output[\"FA_SVA_TeamMoingAverage_5\"]))*100"
      ]
    },
    {
      "cell_type": "code",
      "execution_count": 181,
      "metadata": {
        "id": "-JooWSoG_wMI"
      },
      "outputs": [],
      "source": [
        "final_output[\"GF%_SVA_TeamMoingAverage_40\"]=(final_output[\"GF_SVA_TeamMoingAverage_40\"]/(final_output[\"GF_SVA_TeamMoingAverage_40\"]+final_output[\"GA_SVA_TeamMoingAverage_40\"]))*100\n",
        "final_output[\"GF%_SVA_TeamMoingAverage_5\"]=(final_output[\"GF_SVA_TeamMoingAverage_5\"]/(final_output[\"GF_SVA_TeamMoingAverage_5\"]+final_output[\"GA_SVA_TeamMoingAverage_5\"]))*100"
      ]
    },
    {
      "cell_type": "code",
      "execution_count": 182,
      "metadata": {
        "id": "LPPLpQoTMa9t"
      },
      "outputs": [],
      "source": [
        "final_output[\"xGF%_SVA_TeamMoingAverage_40\"]=(final_output[\"xGF_SVA_TeamMoingAverage_40\"]/(final_output[\"xGF_SVA_TeamMoingAverage_40\"]+final_output[\"xGA_SVA_TeamMoingAverage_40\"]))*100\n",
        "final_output[\"xGF%_SVA_TeamMoingAverage_5\"]=(final_output[\"xGF_SVA_TeamMoingAverage_5\"]/(final_output[\"xGF_SVA_TeamMoingAverage_5\"]+final_output[\"xGA_SVA_TeamMoingAverage_5\"]))*100"
      ]
    },
    {
      "cell_type": "code",
      "execution_count": 183,
      "metadata": {
        "id": "80gXuhakMbGL"
      },
      "outputs": [],
      "source": [
        "final_output[\"SFGF%_SVA_TeamMoingAverage_40\"]=(final_output[\"GF_SVA_TeamMoingAverage_40\"]/(final_output[\"SF_SVA_TeamMoingAverage_40\"]))*100\n",
        "final_output[\"SFGF%_SVA_TeamMoingAverage_5\"]=(final_output[\"GF_SVA_TeamMoingAverage_5\"]/(final_output[\"SF_SVA_TeamMoingAverage_5\"]))*100"
      ]
    },
    {
      "cell_type": "code",
      "execution_count": 188,
      "metadata": {
        "id": "TUx0xHQXPxO6"
      },
      "outputs": [],
      "source": [
        "final_output[\"GF_Average_Average_pp_TeamMoingAverage_40\"]=final_output[\"GF_pp_TeamMoingAverage_40\"]/final_output[\"TOI_pp_TeamMoingAverage_40\"]\n",
        "final_output[\"GF_Average_Average_pp_TeamMoingAverage_5\"]=final_output[\"GF_pp_TeamMoingAverage_5\"]/final_output[\"TOI_pp_TeamMoingAverage_5\"]"
      ]
    },
    {
      "cell_type": "code",
      "execution_count": 189,
      "metadata": {
        "id": "YfdV8UWrPxRk"
      },
      "outputs": [],
      "source": [
        "final_output[\"xGF_Average_pp_TeamMoingAverage_40\"]=final_output[\"xGF_pp_TeamMoingAverage_40\"]/final_output[\"TOI_pp_TeamMoingAverage_40\"]\n",
        "final_output[\"xGF_Average_pp_TeamMoingAverage_5\"]=final_output[\"xGF_pp_TeamMoingAverage_5\"]/final_output[\"TOI_pp_TeamMoingAverage_5\"]"
      ]
    },
    {
      "cell_type": "code",
      "execution_count": 194,
      "metadata": {
        "id": "OWn4aPYvRDVw"
      },
      "outputs": [],
      "source": [
        "final_output[\"GA_Average_Average_pk_TeamMoingAverage_40\"]=final_output[\"GA_pk_TeamMoingAverage_40\"]/final_output[\"TOI_pk_TeamMoingAverage_40\"]\n",
        "final_output[\"GA_Average_Average_pk_TeamMoingAverage_5\"]=final_output[\"GA_pk_TeamMoingAverage_5\"]/final_output[\"TOI_pk_TeamMoingAverage_5\"]"
      ]
    },
    {
      "cell_type": "code",
      "execution_count": 195,
      "metadata": {
        "id": "EP12xIfdQ9-y"
      },
      "outputs": [],
      "source": [
        "final_output[\"xGA_Average_pk_TeamMoingAverage_40\"]=final_output[\"xGA_pk_TeamMoingAverage_40\"]/final_output[\"TOI_pk_TeamMoingAverage_40\"]\n",
        "final_output[\"xGA_Average_pk_TeamMoingAverage_5\"]=final_output[\"xGA_pk_TeamMoingAverage_5\"]/final_output[\"TOI_pk_TeamMoingAverage_5\"]"
      ]
    },
    {
      "cell_type": "code",
      "execution_count": 196,
      "metadata": {
        "id": "Ay5e0x1luXJN"
      },
      "outputs": [],
      "source": [
        "final_output['previous_play']=final_output.groupby('Team')['day'].shift()\n",
        "final_output['previous_play_day']=(final_output['day']).apply(lambda x: pd.to_datetime(x))-(final_output['previous_play']).apply(lambda x: pd.to_datetime(x))"
      ]
    },
    {
      "cell_type": "code",
      "execution_count": 198,
      "metadata": {
        "id": "m20nJJTccjk_"
      },
      "outputs": [],
      "source": [
        "final_output.loc[final_output['previous_play_day']=='1 days','BacktoBack']=1\n",
        "final_output.loc[final_output['previous_play_day']!='1 days','BacktoBack']=0"
      ]
    },
    {
      "cell_type": "code",
      "execution_count": 199,
      "metadata": {
        "colab": {
          "base_uri": "https://localhost:8080/"
        },
        "id": "u4j7la5ddFYG",
        "outputId": "04d30b59-8977-47da-c785-e985ae1bd9a9"
      },
      "outputs": [
        {
          "data": {
            "text/plain": [
              "0         NaT\n",
              "1         NaT\n",
              "2         NaT\n",
              "3      0 days\n",
              "4      0 days\n",
              "        ...  \n",
              "1899   2 days\n",
              "1900   3 days\n",
              "1901   3 days\n",
              "1902   2 days\n",
              "1903   2 days\n",
              "Name: previous_play_day, Length: 16176, dtype: timedelta64[ns]"
            ]
          },
          "execution_count": 199,
          "metadata": {},
          "output_type": "execute_result"
        }
      ],
      "source": [
        "final_output['previous_play_day']"
      ]
    },
    {
      "cell_type": "code",
      "execution_count": 231,
      "metadata": {
        "colab": {
          "base_uri": "https://localhost:8080/",
          "height": 1000
        },
        "id": "wl29Y1YY9SFK",
        "outputId": "965e635d-7cf1-4e4f-aa5d-3f6d41b3f8bd"
      },
      "outputs": [
        {
          "data": {
            "text/html": [
              "\n",
              "  <div id=\"df-0ff41f10-902c-4f07-b4fe-712af23f5828\">\n",
              "    <div class=\"colab-df-container\">\n",
              "      <div>\n",
              "<style scoped>\n",
              "    .dataframe tbody tr th:only-of-type {\n",
              "        vertical-align: middle;\n",
              "    }\n",
              "\n",
              "    .dataframe tbody tr th {\n",
              "        vertical-align: top;\n",
              "    }\n",
              "\n",
              "    .dataframe thead th {\n",
              "        text-align: right;\n",
              "    }\n",
              "</style>\n",
              "<table border=\"1\" class=\"dataframe\">\n",
              "  <thead>\n",
              "    <tr style=\"text-align: right;\">\n",
              "      <th></th>\n",
              "      <th>Game</th>\n",
              "      <th>Team</th>\n",
              "      <th>Unnamed: 2</th>\n",
              "      <th>TOI</th>\n",
              "      <th>CF</th>\n",
              "      <th>CA</th>\n",
              "      <th>CF%</th>\n",
              "      <th>FF</th>\n",
              "      <th>FA</th>\n",
              "      <th>FF%</th>\n",
              "      <th>...</th>\n",
              "      <th>xGA_pk_TeamMoingAverage_5</th>\n",
              "      <th>TOI_Average_pk_TeamMoingAverage_40</th>\n",
              "      <th>TOI_Average_pk_TeamMoingAverage_5</th>\n",
              "      <th>GA_Average_Average_pk_TeamMoingAverage_40</th>\n",
              "      <th>GA_Average_Average_pk_TeamMoingAverage_5</th>\n",
              "      <th>xGA_Average_pk_TeamMoingAverage_40</th>\n",
              "      <th>xGA_Average_pk_TeamMoingAverage_5</th>\n",
              "      <th>previous_play</th>\n",
              "      <th>previous_play_day</th>\n",
              "      <th>BacktoBack</th>\n",
              "    </tr>\n",
              "  </thead>\n",
              "  <tbody>\n",
              "    <tr>\n",
              "      <th>0</th>\n",
              "      <td>2015-09-20 - Panthers 3, Predators 2</td>\n",
              "      <td>FLA</td>\n",
              "      <td>Limited ReportFull Report</td>\n",
              "      <td>62.083333</td>\n",
              "      <td>41</td>\n",
              "      <td>45</td>\n",
              "      <td>47.67</td>\n",
              "      <td>34</td>\n",
              "      <td>37</td>\n",
              "      <td>47.89</td>\n",
              "      <td>...</td>\n",
              "      <td>NaN</td>\n",
              "      <td>NaN</td>\n",
              "      <td>NaN</td>\n",
              "      <td>NaN</td>\n",
              "      <td>NaN</td>\n",
              "      <td>NaN</td>\n",
              "      <td>NaN</td>\n",
              "      <td>NaN</td>\n",
              "      <td>NaT</td>\n",
              "      <td>0.0</td>\n",
              "    </tr>\n",
              "    <tr>\n",
              "      <th>1</th>\n",
              "      <td>2015-09-20 - Panthers 3, Predators 2</td>\n",
              "      <td>NSH</td>\n",
              "      <td>Limited ReportFull Report</td>\n",
              "      <td>62.083333</td>\n",
              "      <td>45</td>\n",
              "      <td>41</td>\n",
              "      <td>52.33</td>\n",
              "      <td>37</td>\n",
              "      <td>34</td>\n",
              "      <td>52.11</td>\n",
              "      <td>...</td>\n",
              "      <td>NaN</td>\n",
              "      <td>NaN</td>\n",
              "      <td>NaN</td>\n",
              "      <td>NaN</td>\n",
              "      <td>NaN</td>\n",
              "      <td>NaN</td>\n",
              "      <td>NaN</td>\n",
              "      <td>NaN</td>\n",
              "      <td>NaT</td>\n",
              "      <td>0.0</td>\n",
              "    </tr>\n",
              "    <tr>\n",
              "      <th>2</th>\n",
              "      <td>2015-09-21 - Oilers 3, Flames 1</td>\n",
              "      <td>CGY</td>\n",
              "      <td>Limited ReportFull Report</td>\n",
              "      <td>60.000000</td>\n",
              "      <td>53</td>\n",
              "      <td>65</td>\n",
              "      <td>44.92</td>\n",
              "      <td>41</td>\n",
              "      <td>47</td>\n",
              "      <td>46.59</td>\n",
              "      <td>...</td>\n",
              "      <td>NaN</td>\n",
              "      <td>NaN</td>\n",
              "      <td>NaN</td>\n",
              "      <td>NaN</td>\n",
              "      <td>NaN</td>\n",
              "      <td>NaN</td>\n",
              "      <td>NaN</td>\n",
              "      <td>NaN</td>\n",
              "      <td>NaT</td>\n",
              "      <td>0.0</td>\n",
              "    </tr>\n",
              "    <tr>\n",
              "      <th>3</th>\n",
              "      <td>2015-09-21 - Oilers 3, Flames 1</td>\n",
              "      <td>CGY</td>\n",
              "      <td>Limited ReportFull Report</td>\n",
              "      <td>60.000000</td>\n",
              "      <td>53</td>\n",
              "      <td>65</td>\n",
              "      <td>44.92</td>\n",
              "      <td>41</td>\n",
              "      <td>47</td>\n",
              "      <td>46.59</td>\n",
              "      <td>...</td>\n",
              "      <td>NaN</td>\n",
              "      <td>NaN</td>\n",
              "      <td>NaN</td>\n",
              "      <td>NaN</td>\n",
              "      <td>NaN</td>\n",
              "      <td>NaN</td>\n",
              "      <td>NaN</td>\n",
              "      <td>2015-09-21</td>\n",
              "      <td>0 days</td>\n",
              "      <td>0.0</td>\n",
              "    </tr>\n",
              "    <tr>\n",
              "      <th>4</th>\n",
              "      <td>2015-09-21 - Oilers 3, Flames 1</td>\n",
              "      <td>CGY</td>\n",
              "      <td>Limited ReportFull Report</td>\n",
              "      <td>60.000000</td>\n",
              "      <td>53</td>\n",
              "      <td>65</td>\n",
              "      <td>44.92</td>\n",
              "      <td>41</td>\n",
              "      <td>47</td>\n",
              "      <td>46.59</td>\n",
              "      <td>...</td>\n",
              "      <td>NaN</td>\n",
              "      <td>NaN</td>\n",
              "      <td>NaN</td>\n",
              "      <td>NaN</td>\n",
              "      <td>NaN</td>\n",
              "      <td>NaN</td>\n",
              "      <td>NaN</td>\n",
              "      <td>2015-09-21</td>\n",
              "      <td>0 days</td>\n",
              "      <td>0.0</td>\n",
              "    </tr>\n",
              "    <tr>\n",
              "      <th>...</th>\n",
              "      <td>...</td>\n",
              "      <td>...</td>\n",
              "      <td>...</td>\n",
              "      <td>...</td>\n",
              "      <td>...</td>\n",
              "      <td>...</td>\n",
              "      <td>...</td>\n",
              "      <td>...</td>\n",
              "      <td>...</td>\n",
              "      <td>...</td>\n",
              "      <td>...</td>\n",
              "      <td>...</td>\n",
              "      <td>...</td>\n",
              "      <td>...</td>\n",
              "      <td>...</td>\n",
              "      <td>...</td>\n",
              "      <td>...</td>\n",
              "      <td>...</td>\n",
              "      <td>...</td>\n",
              "      <td>...</td>\n",
              "      <td>...</td>\n",
              "    </tr>\n",
              "    <tr>\n",
              "      <th>1899</th>\n",
              "      <td>2021-07-02 - Lightning 6, Canadiens 3</td>\n",
              "      <td>T.B</td>\n",
              "      <td>Limited ReportFull Report</td>\n",
              "      <td>60.000000</td>\n",
              "      <td>48</td>\n",
              "      <td>59</td>\n",
              "      <td>44.86</td>\n",
              "      <td>37</td>\n",
              "      <td>46</td>\n",
              "      <td>44.58</td>\n",
              "      <td>...</td>\n",
              "      <td>11.21</td>\n",
              "      <td>60.547917</td>\n",
              "      <td>60.226667</td>\n",
              "      <td>0.040877</td>\n",
              "      <td>0.016604</td>\n",
              "      <td>0.042342</td>\n",
              "      <td>0.037226</td>\n",
              "      <td>2021-06-30</td>\n",
              "      <td>2 days</td>\n",
              "      <td>0.0</td>\n",
              "    </tr>\n",
              "    <tr>\n",
              "      <th>1900</th>\n",
              "      <td>2021-07-05 - Lightning 2, Canadiens 3</td>\n",
              "      <td>MTL</td>\n",
              "      <td>Limited ReportFull Report</td>\n",
              "      <td>63.950000</td>\n",
              "      <td>42</td>\n",
              "      <td>70</td>\n",
              "      <td>37.5</td>\n",
              "      <td>26</td>\n",
              "      <td>51</td>\n",
              "      <td>33.77</td>\n",
              "      <td>...</td>\n",
              "      <td>14.01</td>\n",
              "      <td>61.122083</td>\n",
              "      <td>60.330000</td>\n",
              "      <td>0.047037</td>\n",
              "      <td>0.056357</td>\n",
              "      <td>0.044403</td>\n",
              "      <td>0.046445</td>\n",
              "      <td>2021-07-02</td>\n",
              "      <td>3 days</td>\n",
              "      <td>0.0</td>\n",
              "    </tr>\n",
              "    <tr>\n",
              "      <th>1901</th>\n",
              "      <td>2021-07-05 - Lightning 2, Canadiens 3</td>\n",
              "      <td>T.B</td>\n",
              "      <td>Limited ReportFull Report</td>\n",
              "      <td>63.950000</td>\n",
              "      <td>70</td>\n",
              "      <td>42</td>\n",
              "      <td>62.5</td>\n",
              "      <td>51</td>\n",
              "      <td>26</td>\n",
              "      <td>66.23</td>\n",
              "      <td>...</td>\n",
              "      <td>11.21</td>\n",
              "      <td>60.547917</td>\n",
              "      <td>60.226667</td>\n",
              "      <td>0.040877</td>\n",
              "      <td>0.026566</td>\n",
              "      <td>0.042396</td>\n",
              "      <td>0.037226</td>\n",
              "      <td>2021-07-02</td>\n",
              "      <td>3 days</td>\n",
              "      <td>0.0</td>\n",
              "    </tr>\n",
              "    <tr>\n",
              "      <th>1902</th>\n",
              "      <td>2021-07-07 - Canadiens 0, Lightning 1</td>\n",
              "      <td>MTL</td>\n",
              "      <td>Limited ReportFull Report</td>\n",
              "      <td>60.000000</td>\n",
              "      <td>42</td>\n",
              "      <td>47</td>\n",
              "      <td>47.19</td>\n",
              "      <td>33</td>\n",
              "      <td>38</td>\n",
              "      <td>46.48</td>\n",
              "      <td>...</td>\n",
              "      <td>15.43</td>\n",
              "      <td>61.220833</td>\n",
              "      <td>61.120000</td>\n",
              "      <td>0.047369</td>\n",
              "      <td>0.058901</td>\n",
              "      <td>0.045507</td>\n",
              "      <td>0.050491</td>\n",
              "      <td>2021-07-05</td>\n",
              "      <td>2 days</td>\n",
              "      <td>0.0</td>\n",
              "    </tr>\n",
              "    <tr>\n",
              "      <th>1903</th>\n",
              "      <td>2021-07-07 - Canadiens 0, Lightning 1</td>\n",
              "      <td>T.B</td>\n",
              "      <td>Limited ReportFull Report</td>\n",
              "      <td>60.000000</td>\n",
              "      <td>47</td>\n",
              "      <td>42</td>\n",
              "      <td>52.81</td>\n",
              "      <td>38</td>\n",
              "      <td>33</td>\n",
              "      <td>53.52</td>\n",
              "      <td>...</td>\n",
              "      <td>10.43</td>\n",
              "      <td>60.646667</td>\n",
              "      <td>60.790000</td>\n",
              "      <td>0.041222</td>\n",
              "      <td>0.026320</td>\n",
              "      <td>0.041915</td>\n",
              "      <td>0.034315</td>\n",
              "      <td>2021-07-05</td>\n",
              "      <td>2 days</td>\n",
              "      <td>0.0</td>\n",
              "    </tr>\n",
              "  </tbody>\n",
              "</table>\n",
              "<p>16176 rows × 122 columns</p>\n",
              "</div>\n",
              "      <button class=\"colab-df-convert\" onclick=\"convertToInteractive('df-0ff41f10-902c-4f07-b4fe-712af23f5828')\"\n",
              "              title=\"Convert this dataframe to an interactive table.\"\n",
              "              style=\"display:none;\">\n",
              "        \n",
              "  <svg xmlns=\"http://www.w3.org/2000/svg\" height=\"24px\"viewBox=\"0 0 24 24\"\n",
              "       width=\"24px\">\n",
              "    <path d=\"M0 0h24v24H0V0z\" fill=\"none\"/>\n",
              "    <path d=\"M18.56 5.44l.94 2.06.94-2.06 2.06-.94-2.06-.94-.94-2.06-.94 2.06-2.06.94zm-11 1L8.5 8.5l.94-2.06 2.06-.94-2.06-.94L8.5 2.5l-.94 2.06-2.06.94zm10 10l.94 2.06.94-2.06 2.06-.94-2.06-.94-.94-2.06-.94 2.06-2.06.94z\"/><path d=\"M17.41 7.96l-1.37-1.37c-.4-.4-.92-.59-1.43-.59-.52 0-1.04.2-1.43.59L10.3 9.45l-7.72 7.72c-.78.78-.78 2.05 0 2.83L4 21.41c.39.39.9.59 1.41.59.51 0 1.02-.2 1.41-.59l7.78-7.78 2.81-2.81c.8-.78.8-2.07 0-2.86zM5.41 20L4 18.59l7.72-7.72 1.47 1.35L5.41 20z\"/>\n",
              "  </svg>\n",
              "      </button>\n",
              "      \n",
              "  <style>\n",
              "    .colab-df-container {\n",
              "      display:flex;\n",
              "      flex-wrap:wrap;\n",
              "      gap: 12px;\n",
              "    }\n",
              "\n",
              "    .colab-df-convert {\n",
              "      background-color: #E8F0FE;\n",
              "      border: none;\n",
              "      border-radius: 50%;\n",
              "      cursor: pointer;\n",
              "      display: none;\n",
              "      fill: #1967D2;\n",
              "      height: 32px;\n",
              "      padding: 0 0 0 0;\n",
              "      width: 32px;\n",
              "    }\n",
              "\n",
              "    .colab-df-convert:hover {\n",
              "      background-color: #E2EBFA;\n",
              "      box-shadow: 0px 1px 2px rgba(60, 64, 67, 0.3), 0px 1px 3px 1px rgba(60, 64, 67, 0.15);\n",
              "      fill: #174EA6;\n",
              "    }\n",
              "\n",
              "    [theme=dark] .colab-df-convert {\n",
              "      background-color: #3B4455;\n",
              "      fill: #D2E3FC;\n",
              "    }\n",
              "\n",
              "    [theme=dark] .colab-df-convert:hover {\n",
              "      background-color: #434B5C;\n",
              "      box-shadow: 0px 1px 3px 1px rgba(0, 0, 0, 0.15);\n",
              "      filter: drop-shadow(0px 1px 2px rgba(0, 0, 0, 0.3));\n",
              "      fill: #FFFFFF;\n",
              "    }\n",
              "  </style>\n",
              "\n",
              "      <script>\n",
              "        const buttonEl =\n",
              "          document.querySelector('#df-0ff41f10-902c-4f07-b4fe-712af23f5828 button.colab-df-convert');\n",
              "        buttonEl.style.display =\n",
              "          google.colab.kernel.accessAllowed ? 'block' : 'none';\n",
              "\n",
              "        async function convertToInteractive(key) {\n",
              "          const element = document.querySelector('#df-0ff41f10-902c-4f07-b4fe-712af23f5828');\n",
              "          const dataTable =\n",
              "            await google.colab.kernel.invokeFunction('convertToInteractive',\n",
              "                                                     [key], {});\n",
              "          if (!dataTable) return;\n",
              "\n",
              "          const docLinkHtml = 'Like what you see? Visit the ' +\n",
              "            '<a target=\"_blank\" href=https://colab.research.google.com/notebooks/data_table.ipynb>data table notebook</a>'\n",
              "            + ' to learn more about interactive tables.';\n",
              "          element.innerHTML = '';\n",
              "          dataTable['output_type'] = 'display_data';\n",
              "          await google.colab.output.renderOutput(dataTable, element);\n",
              "          const docLink = document.createElement('div');\n",
              "          docLink.innerHTML = docLinkHtml;\n",
              "          element.appendChild(docLink);\n",
              "        }\n",
              "      </script>\n",
              "    </div>\n",
              "  </div>\n",
              "  "
            ],
            "text/plain": [
              "                                       Game Team                 Unnamed: 2  \\\n",
              "0      2015-09-20 - Panthers 3, Predators 2  FLA  Limited ReportFull Report   \n",
              "1      2015-09-20 - Panthers 3, Predators 2  NSH  Limited ReportFull Report   \n",
              "2           2015-09-21 - Oilers 3, Flames 1  CGY  Limited ReportFull Report   \n",
              "3           2015-09-21 - Oilers 3, Flames 1  CGY  Limited ReportFull Report   \n",
              "4           2015-09-21 - Oilers 3, Flames 1  CGY  Limited ReportFull Report   \n",
              "...                                     ...  ...                        ...   \n",
              "1899  2021-07-02 - Lightning 6, Canadiens 3  T.B  Limited ReportFull Report   \n",
              "1900  2021-07-05 - Lightning 2, Canadiens 3  MTL  Limited ReportFull Report   \n",
              "1901  2021-07-05 - Lightning 2, Canadiens 3  T.B  Limited ReportFull Report   \n",
              "1902  2021-07-07 - Canadiens 0, Lightning 1  MTL  Limited ReportFull Report   \n",
              "1903  2021-07-07 - Canadiens 0, Lightning 1  T.B  Limited ReportFull Report   \n",
              "\n",
              "            TOI  CF  CA    CF%  FF  FA    FF%  ...  xGA_pk_TeamMoingAverage_5  \\\n",
              "0     62.083333  41  45  47.67  34  37  47.89  ...                        NaN   \n",
              "1     62.083333  45  41  52.33  37  34  52.11  ...                        NaN   \n",
              "2     60.000000  53  65  44.92  41  47  46.59  ...                        NaN   \n",
              "3     60.000000  53  65  44.92  41  47  46.59  ...                        NaN   \n",
              "4     60.000000  53  65  44.92  41  47  46.59  ...                        NaN   \n",
              "...         ...  ..  ..    ...  ..  ..    ...  ...                        ...   \n",
              "1899  60.000000  48  59  44.86  37  46  44.58  ...                      11.21   \n",
              "1900  63.950000  42  70   37.5  26  51  33.77  ...                      14.01   \n",
              "1901  63.950000  70  42   62.5  51  26  66.23  ...                      11.21   \n",
              "1902  60.000000  42  47  47.19  33  38  46.48  ...                      15.43   \n",
              "1903  60.000000  47  42  52.81  38  33  53.52  ...                      10.43   \n",
              "\n",
              "      TOI_Average_pk_TeamMoingAverage_40 TOI_Average_pk_TeamMoingAverage_5  \\\n",
              "0                                    NaN                               NaN   \n",
              "1                                    NaN                               NaN   \n",
              "2                                    NaN                               NaN   \n",
              "3                                    NaN                               NaN   \n",
              "4                                    NaN                               NaN   \n",
              "...                                  ...                               ...   \n",
              "1899                           60.547917                         60.226667   \n",
              "1900                           61.122083                         60.330000   \n",
              "1901                           60.547917                         60.226667   \n",
              "1902                           61.220833                         61.120000   \n",
              "1903                           60.646667                         60.790000   \n",
              "\n",
              "      GA_Average_Average_pk_TeamMoingAverage_40  \\\n",
              "0                                           NaN   \n",
              "1                                           NaN   \n",
              "2                                           NaN   \n",
              "3                                           NaN   \n",
              "4                                           NaN   \n",
              "...                                         ...   \n",
              "1899                                   0.040877   \n",
              "1900                                   0.047037   \n",
              "1901                                   0.040877   \n",
              "1902                                   0.047369   \n",
              "1903                                   0.041222   \n",
              "\n",
              "      GA_Average_Average_pk_TeamMoingAverage_5  \\\n",
              "0                                          NaN   \n",
              "1                                          NaN   \n",
              "2                                          NaN   \n",
              "3                                          NaN   \n",
              "4                                          NaN   \n",
              "...                                        ...   \n",
              "1899                                  0.016604   \n",
              "1900                                  0.056357   \n",
              "1901                                  0.026566   \n",
              "1902                                  0.058901   \n",
              "1903                                  0.026320   \n",
              "\n",
              "     xGA_Average_pk_TeamMoingAverage_40  xGA_Average_pk_TeamMoingAverage_5  \\\n",
              "0                                   NaN                                NaN   \n",
              "1                                   NaN                                NaN   \n",
              "2                                   NaN                                NaN   \n",
              "3                                   NaN                                NaN   \n",
              "4                                   NaN                                NaN   \n",
              "...                                 ...                                ...   \n",
              "1899                           0.042342                           0.037226   \n",
              "1900                           0.044403                           0.046445   \n",
              "1901                           0.042396                           0.037226   \n",
              "1902                           0.045507                           0.050491   \n",
              "1903                           0.041915                           0.034315   \n",
              "\n",
              "      previous_play previous_play_day  BacktoBack  \n",
              "0               NaN               NaT         0.0  \n",
              "1               NaN               NaT         0.0  \n",
              "2               NaN               NaT         0.0  \n",
              "3        2015-09-21            0 days         0.0  \n",
              "4        2015-09-21            0 days         0.0  \n",
              "...             ...               ...         ...  \n",
              "1899     2021-06-30            2 days         0.0  \n",
              "1900     2021-07-02            3 days         0.0  \n",
              "1901     2021-07-02            3 days         0.0  \n",
              "1902     2021-07-05            2 days         0.0  \n",
              "1903     2021-07-05            2 days         0.0  \n",
              "\n",
              "[16176 rows x 122 columns]"
            ]
          },
          "execution_count": 231,
          "metadata": {},
          "output_type": "execute_result"
        }
      ],
      "source": [
        "final_output"
      ]
    },
    {
      "cell_type": "code",
      "execution_count": 200,
      "metadata": {
        "id": "05T86rMgdyRY"
      },
      "outputs": [],
      "source": []
    },
    {
      "cell_type": "markdown",
      "metadata": {
        "id": "DGfV6LRGd070"
      },
      "source": [
        "### Using NHL API to import season start and end dates."
      ]
    },
    {
      "cell_type": "code",
      "execution_count": 201,
      "metadata": {
        "id": "nc9RIlXgRtJf"
      },
      "outputs": [],
      "source": [
        "season_dates=json.loads(requests.get(\"https://statsapi.web.nhl.com/api/v1/seasons\").content)"
      ]
    },
    {
      "cell_type": "code",
      "execution_count": 202,
      "metadata": {
        "id": "lrPsbrIpRtO_"
      },
      "outputs": [],
      "source": [
        "season_dates_output=[]\n",
        "for i in range(len(years)):\n",
        "  if(len([i1 for i1 in season_dates[\"seasons\"] if i1[\"regularSeasonEndDate\"][0:4]==years[i][4:]])>0):\n",
        "    season_dates_output.append([i1 for i1 in season_dates[\"seasons\"] if i1[\"regularSeasonEndDate\"][0:4]==years[i][4:]])"
      ]
    },
    {
      "cell_type": "markdown",
      "metadata": {
        "id": "RRie9MOxevwP"
      },
      "source": [
        "### Using hockey scrappr to acquire game results for each season"
      ]
    },
    {
      "cell_type": "code",
      "execution_count": 203,
      "metadata": {
        "colab": {
          "base_uri": "https://localhost:8080/"
        },
        "id": "azC6Sz-C_wWO",
        "outputId": "95c875b1-c51a-4937-d2e0-3c10ffe13483"
      },
      "outputs": [
        {
          "name": "stdout",
          "output_type": "stream",
          "text": [
            "Scraping the schedule between 2015-10-07 and 2016-06-12\n",
            "Scraping the schedule between 2016-10-12 and 2017-06-11\n",
            "Scraping the schedule between 2017-10-04 and 2018-06-07\n",
            "Scraping the schedule between 2018-10-03 and 2019-06-15\n",
            "Scraping the schedule between 2019-10-02 and 2020-09-29\n",
            "Scraping the schedule between 2021-01-13 and 2021-07-15\n"
          ]
        }
      ],
      "source": [
        "season_results={}\n",
        "for i in range(len(season_dates_output)):\n",
        "  time.sleep(3)\n",
        "  dummy_list21=[]\n",
        "  season_iteration=hockey_scraper.scrape_schedule(season_dates_output[i][0][\"regularSeasonStartDate\"],season_dates_output[i][0][\"seasonEndDate\"])\n",
        "  for j in range(len(season_iteration)):\n",
        "    if(season_iteration[\"home_score\"][j]>season_iteration[\"away_score\"][j]):\n",
        "      dummy_list21.append(1)\n",
        "    else:\n",
        "      dummy_list21.append(0)\n",
        "  season_iteration[\"Host_won\"]=dummy_list21\n",
        "  season_iteration[\"Team+day_Host\"]=season_iteration[\"home_team\"]+' + '+season_iteration[\"date\"]\n",
        "  season_iteration[\"Team+day_guest\"]=season_iteration[\"away_team\"]+' + '+season_iteration[\"date\"]\n",
        "  season_results[season_dates_output[i][0][\"regularSeasonStartDate\"][0:4]+\"_\"+season_dates_output[i][0][\"seasonEndDate\"][0:4]]=season_iteration"
      ]
    },
    {
      "cell_type": "code",
      "execution_count": 204,
      "metadata": {
        "id": "gh3EpcJOonSj"
      },
      "outputs": [],
      "source": [
        "def final_combine(input1,input2,input3,input4,indexes):\n",
        "  home='home_'\n",
        "  guest='guest_'\n",
        "  outpt=input1.merge(input2[indexes].add_prefix(home),left_on='Team+day_Host', right_on = 'home_Team+day', how = 'left').drop(columns ='home_Team+day')\n",
        "  outpt=outpt.merge(input2[indexes].add_prefix(guest),left_on='Team+day_guest',right_on='guest_Team+day',how ='left').drop(columns='guest_Team+day')\n",
        "  outpt=outpt.merge(input3[input4].add_prefix(home),left_on='Team+day_Host',right_on='home_Team+day',how = 'left')\n",
        "  outpt=outpt.merge(input3[input4].add_prefix(guest),left_on='Team+day_guest',right_on='guest_Team+day',how = 'left')\n",
        "  outpt['year']=np.select([((outpt['date'] >= season_dates_output[0][0][\"regularSeasonStartDate\"]) & (outpt['date'] <= season_dates_output[0][0][\"seasonEndDate\"])),((outpt['date'] >= season_dates_output[1][0][\"regularSeasonStartDate\"]) & (outpt['date'] <= season_dates_output[1][0][\"seasonEndDate\"])),((outpt['date'] >= season_dates_output[2][0][\"regularSeasonStartDate\"]) & (outpt['date'] <= season_dates_output[2][0][\"seasonEndDate\"])),((outpt['date'] >= season_dates_output[3][0][\"regularSeasonStartDate\"]) & (outpt['date'] <= season_dates_output[3][0][\"seasonEndDate\"])),\n",
        "                  ((outpt['date'] >= season_dates_output[4][0][\"regularSeasonStartDate\"]) & (outpt['date'] <= season_dates_output[4][0][\"seasonEndDate\"])),((outpt['date'] >= '2020-04-01') & (outpt['date'] <= season_dates_output[5][0][\"seasonEndDate\"]))],['20152016','20162017','20172018','20182019','20192020','20202021'])\n",
        "  outpt['match_BacktoBack']=np.select([((outpt['home_BacktoBack'] == 0) & (outpt['guest_BacktoBack'] == 0)),((outpt['home_BacktoBack']==1)&(outpt['guest_BacktoBack']==0)),((outpt['home_BacktoBack']==0)&(outpt['guest_BacktoBack']==1)),((outpt['home_BacktoBack']==1)&(outpt['guest_BacktoBack']==1))],['Neither','Home_only','guest_only','Both'])\n",
        "  return outpt\n",
        "  "
      ]
    },
    {
      "cell_type": "code",
      "execution_count": 205,
      "metadata": {
        "id": "b5xnG-lzoMH9"
      },
      "outputs": [],
      "source": [
        "x1=[]\n",
        "years2=[\"2015_2016\",\"2016_2017\",\"2017_2018\",\"2018_2019\",\"2019_2020\",\"2021_2021\"]"
      ]
    },
    {
      "cell_type": "code",
      "execution_count": 206,
      "metadata": {
        "id": "GsO1aGtOogvD"
      },
      "outputs": [],
      "source": [
        "for i in range(len(years2)):\n",
        "  x1.append(final_combine(season_results[years2[i]],goalkeeper_fulldata,final_output,final_output.columns,['Team+day','fullName','fwkSV%_GoalKeeper','GSAx/60_GoalKeeper','HDCSV%__GoalKeeper']))"
      ]
    },
    {
      "cell_type": "code",
      "execution_count": 207,
      "metadata": {
        "id": "bep8lS5Q0Nqg"
      },
      "outputs": [],
      "source": [
        "final_scrapped_data=pd.concat([x1[0],x1[1],x1[2],x1[3],x1[4],x1[5]])"
      ]
    },
    {
      "cell_type": "code",
      "execution_count": 208,
      "metadata": {
        "id": "YQM34WL4m981"
      },
      "outputs": [],
      "source": [
        "y=['guest_fwkSV%_GoalKeeper','guest_GSAx/60_GoalKeeper','guest_HDCSV%__GoalKeeper','home_fwkSV%_GoalKeeper','home_GSAx/60_GoalKeeper','home_HDCSV%__GoalKeeper']\n",
        "y1=[ff_calc,GSAx60_calc,HDCSV_calc,ff_calc,GSAx60_calc,HDCSV_calc]"
      ]
    },
    {
      "cell_type": "code",
      "execution_count": 209,
      "metadata": {
        "id": "snb6oop5nQbz"
      },
      "outputs": [],
      "source": [
        "for i in range(len(y)):\n",
        "  final_scrapped_data[y[i]]=np.where(final_scrapped_data[y[i]].isna(),y1[i],final_scrapped_data[y[i]])"
      ]
    },
    {
      "cell_type": "markdown",
      "metadata": {
        "id": "EIwjmoAxf9NY"
      },
      "source": [
        "### Encoding team name with team label for each team"
      ]
    },
    {
      "cell_type": "code",
      "execution_count": 210,
      "metadata": {
        "id": "yzEr1Me5UtFR"
      },
      "outputs": [],
      "source": [
        "labelencoder=LabelEncoder()"
      ]
    },
    {
      "cell_type": "code",
      "execution_count": 211,
      "metadata": {
        "id": "t0_pBNVTUtdo"
      },
      "outputs": [],
      "source": [
        "final_scrapped_data['home_team_label']=labelencoder.fit_transform(final_scrapped_data['home_team'])"
      ]
    },
    {
      "cell_type": "code",
      "execution_count": 212,
      "metadata": {
        "id": "yUxoRsK0VAxq"
      },
      "outputs": [],
      "source": [
        "final_scrapped_data['away_team_label']=labelencoder.fit_transform(final_scrapped_data['away_team'])"
      ]
    },
    {
      "cell_type": "code",
      "execution_count": 213,
      "metadata": {
        "colab": {
          "base_uri": "https://localhost:8080/",
          "height": 386
        },
        "id": "YtsxRFiln4MU",
        "outputId": "22d43010-2b8b-475b-cf71-ba60bb0e8dcf"
      },
      "outputs": [
        {
          "data": {
            "text/html": [
              "\n",
              "  <div id=\"df-0ff6b33d-78eb-428a-85c8-15bf501ac490\">\n",
              "    <div class=\"colab-df-container\">\n",
              "      <div>\n",
              "<style scoped>\n",
              "    .dataframe tbody tr th:only-of-type {\n",
              "        vertical-align: middle;\n",
              "    }\n",
              "\n",
              "    .dataframe tbody tr th {\n",
              "        vertical-align: top;\n",
              "    }\n",
              "\n",
              "    .dataframe thead th {\n",
              "        text-align: right;\n",
              "    }\n",
              "</style>\n",
              "<table border=\"1\" class=\"dataframe\">\n",
              "  <thead>\n",
              "    <tr style=\"text-align: right;\">\n",
              "      <th></th>\n",
              "      <th>game_id</th>\n",
              "      <th>date</th>\n",
              "      <th>venue</th>\n",
              "      <th>home_team</th>\n",
              "      <th>away_team</th>\n",
              "      <th>start_time</th>\n",
              "      <th>home_score</th>\n",
              "      <th>away_score</th>\n",
              "      <th>status</th>\n",
              "      <th>Host_won</th>\n",
              "      <th>...</th>\n",
              "      <th>guest_GA_Average_Average_pk_TeamMoingAverage_5</th>\n",
              "      <th>guest_xGA_Average_pk_TeamMoingAverage_40</th>\n",
              "      <th>guest_xGA_Average_pk_TeamMoingAverage_5</th>\n",
              "      <th>guest_previous_play</th>\n",
              "      <th>guest_previous_play_day</th>\n",
              "      <th>guest_BacktoBack</th>\n",
              "      <th>match_BacktoBack</th>\n",
              "      <th>year</th>\n",
              "      <th>home_team_label</th>\n",
              "      <th>away_team_label</th>\n",
              "    </tr>\n",
              "  </thead>\n",
              "  <tbody>\n",
              "    <tr>\n",
              "      <th>0</th>\n",
              "      <td>2015020001</td>\n",
              "      <td>2015-10-07</td>\n",
              "      <td>Air Canada Centre</td>\n",
              "      <td>TOR</td>\n",
              "      <td>MTL</td>\n",
              "      <td>2015-10-07 23:00:00</td>\n",
              "      <td>1</td>\n",
              "      <td>3</td>\n",
              "      <td>Final</td>\n",
              "      <td>0</td>\n",
              "      <td>...</td>\n",
              "      <td>0.059016</td>\n",
              "      <td>NaN</td>\n",
              "      <td>0.034656</td>\n",
              "      <td>2015-10-03</td>\n",
              "      <td>4 days</td>\n",
              "      <td>0.0</td>\n",
              "      <td>Neither</td>\n",
              "      <td>20152016</td>\n",
              "      <td>28</td>\n",
              "      <td>16</td>\n",
              "    </tr>\n",
              "    <tr>\n",
              "      <th>1</th>\n",
              "      <td>2015020002</td>\n",
              "      <td>2015-10-07</td>\n",
              "      <td>United Center</td>\n",
              "      <td>CHI</td>\n",
              "      <td>NYR</td>\n",
              "      <td>2015-10-08 00:00:00</td>\n",
              "      <td>2</td>\n",
              "      <td>3</td>\n",
              "      <td>Final</td>\n",
              "      <td>0</td>\n",
              "      <td>...</td>\n",
              "      <td>0.048977</td>\n",
              "      <td>NaN</td>\n",
              "      <td>0.047899</td>\n",
              "      <td>2015-09-30</td>\n",
              "      <td>7 days</td>\n",
              "      <td>0.0</td>\n",
              "      <td>Neither</td>\n",
              "      <td>20152016</td>\n",
              "      <td>8</td>\n",
              "      <td>20</td>\n",
              "    </tr>\n",
              "    <tr>\n",
              "      <th>2</th>\n",
              "      <td>2015020003</td>\n",
              "      <td>2015-10-07</td>\n",
              "      <td>Scotiabank Saddledome</td>\n",
              "      <td>CGY</td>\n",
              "      <td>VAN</td>\n",
              "      <td>2015-10-08 02:00:00</td>\n",
              "      <td>1</td>\n",
              "      <td>5</td>\n",
              "      <td>Final</td>\n",
              "      <td>0</td>\n",
              "      <td>...</td>\n",
              "      <td>0.033102</td>\n",
              "      <td>NaN</td>\n",
              "      <td>0.044389</td>\n",
              "      <td>2015-10-03</td>\n",
              "      <td>4 days</td>\n",
              "      <td>0.0</td>\n",
              "      <td>Neither</td>\n",
              "      <td>20152016</td>\n",
              "      <td>7</td>\n",
              "      <td>28</td>\n",
              "    </tr>\n",
              "    <tr>\n",
              "      <th>3</th>\n",
              "      <td>2015020004</td>\n",
              "      <td>2015-10-07</td>\n",
              "      <td>STAPLES Center</td>\n",
              "      <td>L.A</td>\n",
              "      <td>S.J</td>\n",
              "      <td>2015-10-08 02:30:00</td>\n",
              "      <td>1</td>\n",
              "      <td>5</td>\n",
              "      <td>Final</td>\n",
              "      <td>0</td>\n",
              "      <td>...</td>\n",
              "      <td>0.029515</td>\n",
              "      <td>NaN</td>\n",
              "      <td>0.041484</td>\n",
              "      <td>2015-10-03</td>\n",
              "      <td>4 days</td>\n",
              "      <td>0.0</td>\n",
              "      <td>Neither</td>\n",
              "      <td>20152016</td>\n",
              "      <td>15</td>\n",
              "      <td>24</td>\n",
              "    </tr>\n",
              "    <tr>\n",
              "      <th>4</th>\n",
              "      <td>2015020005</td>\n",
              "      <td>2015-10-08</td>\n",
              "      <td>TD Garden</td>\n",
              "      <td>BOS</td>\n",
              "      <td>WPG</td>\n",
              "      <td>2015-10-08 23:00:00</td>\n",
              "      <td>2</td>\n",
              "      <td>6</td>\n",
              "      <td>Final</td>\n",
              "      <td>0</td>\n",
              "      <td>...</td>\n",
              "      <td>0.059068</td>\n",
              "      <td>NaN</td>\n",
              "      <td>0.043809</td>\n",
              "      <td>2015-10-03</td>\n",
              "      <td>5 days</td>\n",
              "      <td>0.0</td>\n",
              "      <td>Neither</td>\n",
              "      <td>20152016</td>\n",
              "      <td>3</td>\n",
              "      <td>30</td>\n",
              "    </tr>\n",
              "  </tbody>\n",
              "</table>\n",
              "<p>5 rows × 268 columns</p>\n",
              "</div>\n",
              "      <button class=\"colab-df-convert\" onclick=\"convertToInteractive('df-0ff6b33d-78eb-428a-85c8-15bf501ac490')\"\n",
              "              title=\"Convert this dataframe to an interactive table.\"\n",
              "              style=\"display:none;\">\n",
              "        \n",
              "  <svg xmlns=\"http://www.w3.org/2000/svg\" height=\"24px\"viewBox=\"0 0 24 24\"\n",
              "       width=\"24px\">\n",
              "    <path d=\"M0 0h24v24H0V0z\" fill=\"none\"/>\n",
              "    <path d=\"M18.56 5.44l.94 2.06.94-2.06 2.06-.94-2.06-.94-.94-2.06-.94 2.06-2.06.94zm-11 1L8.5 8.5l.94-2.06 2.06-.94-2.06-.94L8.5 2.5l-.94 2.06-2.06.94zm10 10l.94 2.06.94-2.06 2.06-.94-2.06-.94-.94-2.06-.94 2.06-2.06.94z\"/><path d=\"M17.41 7.96l-1.37-1.37c-.4-.4-.92-.59-1.43-.59-.52 0-1.04.2-1.43.59L10.3 9.45l-7.72 7.72c-.78.78-.78 2.05 0 2.83L4 21.41c.39.39.9.59 1.41.59.51 0 1.02-.2 1.41-.59l7.78-7.78 2.81-2.81c.8-.78.8-2.07 0-2.86zM5.41 20L4 18.59l7.72-7.72 1.47 1.35L5.41 20z\"/>\n",
              "  </svg>\n",
              "      </button>\n",
              "      \n",
              "  <style>\n",
              "    .colab-df-container {\n",
              "      display:flex;\n",
              "      flex-wrap:wrap;\n",
              "      gap: 12px;\n",
              "    }\n",
              "\n",
              "    .colab-df-convert {\n",
              "      background-color: #E8F0FE;\n",
              "      border: none;\n",
              "      border-radius: 50%;\n",
              "      cursor: pointer;\n",
              "      display: none;\n",
              "      fill: #1967D2;\n",
              "      height: 32px;\n",
              "      padding: 0 0 0 0;\n",
              "      width: 32px;\n",
              "    }\n",
              "\n",
              "    .colab-df-convert:hover {\n",
              "      background-color: #E2EBFA;\n",
              "      box-shadow: 0px 1px 2px rgba(60, 64, 67, 0.3), 0px 1px 3px 1px rgba(60, 64, 67, 0.15);\n",
              "      fill: #174EA6;\n",
              "    }\n",
              "\n",
              "    [theme=dark] .colab-df-convert {\n",
              "      background-color: #3B4455;\n",
              "      fill: #D2E3FC;\n",
              "    }\n",
              "\n",
              "    [theme=dark] .colab-df-convert:hover {\n",
              "      background-color: #434B5C;\n",
              "      box-shadow: 0px 1px 3px 1px rgba(0, 0, 0, 0.15);\n",
              "      filter: drop-shadow(0px 1px 2px rgba(0, 0, 0, 0.3));\n",
              "      fill: #FFFFFF;\n",
              "    }\n",
              "  </style>\n",
              "\n",
              "      <script>\n",
              "        const buttonEl =\n",
              "          document.querySelector('#df-0ff6b33d-78eb-428a-85c8-15bf501ac490 button.colab-df-convert');\n",
              "        buttonEl.style.display =\n",
              "          google.colab.kernel.accessAllowed ? 'block' : 'none';\n",
              "\n",
              "        async function convertToInteractive(key) {\n",
              "          const element = document.querySelector('#df-0ff6b33d-78eb-428a-85c8-15bf501ac490');\n",
              "          const dataTable =\n",
              "            await google.colab.kernel.invokeFunction('convertToInteractive',\n",
              "                                                     [key], {});\n",
              "          if (!dataTable) return;\n",
              "\n",
              "          const docLinkHtml = 'Like what you see? Visit the ' +\n",
              "            '<a target=\"_blank\" href=https://colab.research.google.com/notebooks/data_table.ipynb>data table notebook</a>'\n",
              "            + ' to learn more about interactive tables.';\n",
              "          element.innerHTML = '';\n",
              "          dataTable['output_type'] = 'display_data';\n",
              "          await google.colab.output.renderOutput(dataTable, element);\n",
              "          const docLink = document.createElement('div');\n",
              "          docLink.innerHTML = docLinkHtml;\n",
              "          element.appendChild(docLink);\n",
              "        }\n",
              "      </script>\n",
              "    </div>\n",
              "  </div>\n",
              "  "
            ],
            "text/plain": [
              "      game_id        date                  venue home_team away_team  \\\n",
              "0  2015020001  2015-10-07      Air Canada Centre       TOR       MTL   \n",
              "1  2015020002  2015-10-07          United Center       CHI       NYR   \n",
              "2  2015020003  2015-10-07  Scotiabank Saddledome       CGY       VAN   \n",
              "3  2015020004  2015-10-07         STAPLES Center       L.A       S.J   \n",
              "4  2015020005  2015-10-08              TD Garden       BOS       WPG   \n",
              "\n",
              "           start_time  home_score  away_score status  Host_won  ...  \\\n",
              "0 2015-10-07 23:00:00           1           3  Final         0  ...   \n",
              "1 2015-10-08 00:00:00           2           3  Final         0  ...   \n",
              "2 2015-10-08 02:00:00           1           5  Final         0  ...   \n",
              "3 2015-10-08 02:30:00           1           5  Final         0  ...   \n",
              "4 2015-10-08 23:00:00           2           6  Final         0  ...   \n",
              "\n",
              "  guest_GA_Average_Average_pk_TeamMoingAverage_5  \\\n",
              "0                                       0.059016   \n",
              "1                                       0.048977   \n",
              "2                                       0.033102   \n",
              "3                                       0.029515   \n",
              "4                                       0.059068   \n",
              "\n",
              "  guest_xGA_Average_pk_TeamMoingAverage_40  \\\n",
              "0                                      NaN   \n",
              "1                                      NaN   \n",
              "2                                      NaN   \n",
              "3                                      NaN   \n",
              "4                                      NaN   \n",
              "\n",
              "  guest_xGA_Average_pk_TeamMoingAverage_5  guest_previous_play  \\\n",
              "0                                0.034656           2015-10-03   \n",
              "1                                0.047899           2015-09-30   \n",
              "2                                0.044389           2015-10-03   \n",
              "3                                0.041484           2015-10-03   \n",
              "4                                0.043809           2015-10-03   \n",
              "\n",
              "   guest_previous_play_day  guest_BacktoBack match_BacktoBack      year  \\\n",
              "0                   4 days               0.0          Neither  20152016   \n",
              "1                   7 days               0.0          Neither  20152016   \n",
              "2                   4 days               0.0          Neither  20152016   \n",
              "3                   4 days               0.0          Neither  20152016   \n",
              "4                   5 days               0.0          Neither  20152016   \n",
              "\n",
              "   home_team_label  away_team_label  \n",
              "0               28               16  \n",
              "1                8               20  \n",
              "2                7               28  \n",
              "3               15               24  \n",
              "4                3               30  \n",
              "\n",
              "[5 rows x 268 columns]"
            ]
          },
          "execution_count": 213,
          "metadata": {},
          "output_type": "execute_result"
        }
      ],
      "source": [
        "final_scrapped_data.head()"
      ]
    },
    {
      "cell_type": "code",
      "execution_count": 217,
      "metadata": {
        "id": "wwZ-115RyoHY"
      },
      "outputs": [],
      "source": [
        "final_scrapped_data.to_csv('data/final_scrapped_data.csv')"
      ]
    },
    {
      "cell_type": "code",
      "execution_count": 215,
      "metadata": {
        "colab": {
          "base_uri": "https://localhost:8080/"
        },
        "id": "0Nh54f8RpbnQ",
        "outputId": "d7ce373f-2243-4717-f8ba-185d3c71f955"
      },
      "outputs": [
        {
          "data": {
            "text/plain": [
              "Index(['game_id', 'date', 'venue', 'home_team', 'away_team', 'start_time',\n",
              "       'home_score', 'away_score', 'status', 'Host_won',\n",
              "       ...\n",
              "       'guest_GA_Average_Average_pk_TeamMoingAverage_5',\n",
              "       'guest_xGA_Average_pk_TeamMoingAverage_40',\n",
              "       'guest_xGA_Average_pk_TeamMoingAverage_5', 'guest_previous_play',\n",
              "       'guest_previous_play_day', 'guest_BacktoBack', 'match_BacktoBack',\n",
              "       'year', 'home_team_label', 'away_team_label'],\n",
              "      dtype='object', length=268)"
            ]
          },
          "execution_count": 215,
          "metadata": {},
          "output_type": "execute_result"
        }
      ],
      "source": [
        "final_scrapped_data.columns"
      ]
    },
    {
      "cell_type": "code",
      "execution_count": null,
      "metadata": {
        "id": "js6FyJKzirE-"
      },
      "outputs": [],
      "source": []
    }
  ],
  "metadata": {
    "accelerator": "TPU",
    "colab": {
      "collapsed_sections": [],
      "machine_shape": "hm",
      "name": "data_scrapping_and_processing.ipynb",
      "provenance": []
    },
    "kernelspec": {
      "display_name": "Python 3",
      "name": "python3"
    },
    "language_info": {
      "codemirror_mode": {
        "name": "ipython",
        "version": 3
      },
      "file_extension": ".py",
      "mimetype": "text/x-python",
      "name": "python",
      "nbconvert_exporter": "python",
      "pygments_lexer": "ipython3",
      "version": "3.10.0"
    }
  },
  "nbformat": 4,
  "nbformat_minor": 0
}
