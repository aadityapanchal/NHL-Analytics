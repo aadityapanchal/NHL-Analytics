{
 "cells": [
  {
   "cell_type": "markdown",
   "id": "7f99ac59",
   "metadata": {},
   "source": [
    "# NHL Fights Data Scrapper"
   ]
  },
  {
   "cell_type": "markdown",
   "id": "c36a0782",
   "metadata": {},
   "source": [
    "### In this notebook, we have scrapped the data from www.hockeyfights.com. This data will be used for NHL Fight Analysis."
   ]
  },
  {
   "cell_type": "markdown",
   "id": "17b23f5b",
   "metadata": {},
   "source": [
    "### Imported the required libraries"
   ]
  },
  {
   "cell_type": "code",
   "execution_count": 1,
   "id": "4e61edef",
   "metadata": {},
   "outputs": [],
   "source": [
    "import pandas as pd\n",
    "from requests import get\n",
    "from bs4 import BeautifulSoup"
   ]
  },
  {
   "cell_type": "code",
   "execution_count": 2,
   "id": "1a285045",
   "metadata": {},
   "outputs": [],
   "source": [
    "headers = {\n",
    "        'User-Agent': 'Mozilla/5.0 (Macintosh; Intel Mac OS X 10_11_6) AppleWebKit/537.36 (KHTML, like Gecko) Chrome/56.0.2924.87 Safari/537.36',\n",
    "    }"
   ]
  },
  {
   "cell_type": "markdown",
   "id": "7968186e",
   "metadata": {},
   "source": [
    "### We have scrapped the data from the year 2000 to 2022 which includes the date of match (in which fight occured), name of players who were involved in the fights, name of teams that fought and fight winner outcome."
   ]
  },
  {
   "cell_type": "code",
   "execution_count": 6,
   "id": "1d52561a",
   "metadata": {},
   "outputs": [
    {
     "name": "stdout",
     "output_type": "stream",
     "text": [
      "Year:  2000\n",
      "Year:  2001\n",
      "Year:  2002\n",
      "Year:  2003\n",
      "Year:  2004\n",
      "Year:  2006\n",
      "Year:  2007\n",
      "Year:  2008\n",
      "Year:  2009\n",
      "Year:  2010\n",
      "Year:  2011\n",
      "Year:  2012\n",
      "Year:  2013\n",
      "Year:  2014\n",
      "Year:  2015\n",
      "Year:  2016\n",
      "Year:  2017\n",
      "Year:  2018\n",
      "Year:  2019\n",
      "Year:  2020\n",
      "Year:  2021\n",
      "Year:  2022\n"
     ]
    }
   ],
   "source": [
    "date_of_fight = []\n",
    "idk_column = []\n",
    "player1_name = []\n",
    "player2_name = []\n",
    "player1_team = []\n",
    "player2_team = []\n",
    "winner = []\n",
    "\n",
    "years_url = [str(i) for i in range(2000,2023)]\n",
    "\n",
    "page_no = [str(i) for i in range(1,100)]\n",
    "\n",
    "\n",
    "for year_url in years_url:\n",
    "    if int(year_url) == 2005:\n",
    "        continue\n",
    "    \n",
    "    else:\n",
    "        print(\"Year: \", year_url)\n",
    "        for page in page_no:\n",
    "            response = get('https://www.hockeyfights.com/fightlog/1/reg'+year_url+'/'+page, headers=headers)\n",
    "            html_soup = BeautifulSoup(response.text, 'html.parser')\n",
    "            fight_containers = html_soup.find_all('div', class_ = 'fight-log')\n",
    "\n",
    "            bottom = html_soup.find_all('div', class_='bottom fightlog-pagination')\n",
    "            temp = bottom[0].find_all('a')\n",
    "            leng = temp[-1].text\n",
    "\n",
    "            if int(leng) >= int(page) :\n",
    "                for i in range(len(fight_containers)):\n",
    "                    fight = fight_containers[i]\n",
    "\n",
    "                    #Store dates\n",
    "                    dates = fight.find_all('span', class_='date')\n",
    "                    dates1 = dates[0]\n",
    "                    dates1 = dates1.find_all('div')\n",
    "                    date_of_fight.append(dates1[0].text)\n",
    "                    idk_column.append(dates1[1].text)\n",
    "\n",
    "                    #Store Player Names and Player Teams\n",
    "                    players_temp = fight.find_all('span', class_='players')\n",
    "                    players = players_temp[0].find_all('a')\n",
    "                    player1_name.append(players[0].text)\n",
    "                    player1_team.append(players[1].text)\n",
    "                    player2_name.append(players[2].text)\n",
    "                    player2_team.append(players[3].text)\n",
    "\n",
    "                    #Store Winner\n",
    "                    winner_temp = fight.find_all('span', class_='status')\n",
    "                    winner.append(winner_temp[0].text)\n",
    "\n",
    "\n",
    "            else: \n",
    "                break\n",
    "        "
   ]
  },
  {
   "cell_type": "markdown",
   "id": "908ac309",
   "metadata": {},
   "source": [
    "### The scraped data is stored into a dataframe, which is then saved as a csv file in the folder named 'data'."
   ]
  },
  {
   "cell_type": "code",
   "execution_count": 7,
   "id": "086763a6",
   "metadata": {},
   "outputs": [],
   "source": [
    "fight_df = pd.DataFrame({\n",
    "    'date_of_fight' : date_of_fight,\n",
    "    'idk_column' : idk_column,\n",
    "    'player1_name' : player1_name,\n",
    "    'player1_team' : player1_team,\n",
    "    'player2_name' : player2_name,\n",
    "    'player2_team' : player2_team,\n",
    "    'winner' : winner\n",
    "})\n",
    "fight_df.to_csv('../data/fight_table.csv', index =False)"
   ]
  }
 ],
 "metadata": {
  "kernelspec": {
   "display_name": "Python 3 (ipykernel)",
   "language": "python",
   "name": "python3"
  },
  "language_info": {
   "codemirror_mode": {
    "name": "ipython",
    "version": 3
   },
   "file_extension": ".py",
   "mimetype": "text/x-python",
   "name": "python",
   "nbconvert_exporter": "python",
   "pygments_lexer": "ipython3",
   "version": "3.9.7"
  }
 },
 "nbformat": 4,
 "nbformat_minor": 5
}
