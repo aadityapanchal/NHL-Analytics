{
 "cells": [
  {
   "cell_type": "markdown",
   "id": "7f20ad91",
   "metadata": {},
   "source": [
    "# Fetching Tweets using Twitter API\n",
    "\n",
    "In this notebook, we have fetched the data using Twitter API. The keys are generated using Twitter developer account - https://developer.twitter.com/en/docs/twitter-api/getting-started/getting-access-to-the-twitter-api. This data will be used for Fans' Sentiment Analysis and Topic modelling."
   ]
  },
  {
   "cell_type": "code",
   "execution_count": 1,
   "id": "8d22faaf",
   "metadata": {},
   "outputs": [],
   "source": [
    "from bs4 import BeautifulSoup\n",
    "from requests import get\n",
    "import pandas as pd\n",
    "import csv"
   ]
  },
  {
   "cell_type": "markdown",
   "id": "7ff694e9",
   "metadata": {},
   "source": [
    "Scraped team names from http://www.espn.com/nhl/teams"
   ]
  },
  {
   "cell_type": "code",
   "execution_count": 2,
   "id": "ac22fe6a",
   "metadata": {},
   "outputs": [
    {
     "name": "stdout",
     "output_type": "stream",
     "text": [
      "                Team_Name\n",
      "0           Boston Bruins\n",
      "1          Buffalo Sabres\n",
      "2       Detroit Red Wings\n",
      "3        Florida Panthers\n",
      "4      Montreal Canadiens\n",
      "5         Ottawa Senators\n",
      "6     Tampa Bay Lightning\n",
      "7     Toronto Maple Leafs\n",
      "8         Arizona Coyotes\n",
      "9      Chicago Blackhawks\n",
      "10     Colorado Avalanche\n",
      "11           Dallas Stars\n",
      "12         Minnesota Wild\n",
      "13    Nashville Predators\n",
      "14        St. Louis Blues\n",
      "15          Winnipeg Jets\n",
      "16    Carolina Hurricanes\n",
      "17  Columbus Blue Jackets\n",
      "18      New Jersey Devils\n",
      "19     New York Islanders\n",
      "20       New York Rangers\n",
      "21    Philadelphia Flyers\n",
      "22    Pittsburgh Penguins\n",
      "23    Washington Capitals\n",
      "24          Anaheim Ducks\n",
      "25         Calgary Flames\n",
      "26        Edmonton Oilers\n",
      "27      Los Angeles Kings\n",
      "28        San Jose Sharks\n",
      "29         Seattle Kraken\n",
      "30      Vancouver Canucks\n",
      "31   Vegas Golden Knights\n"
     ]
    }
   ],
   "source": [
    "nhl_team_url = \"http://www.espn.com/nhl/teams\"\n",
    "team_response = get(nhl_team_url)\n",
    "team_soup = BeautifulSoup(team_response.text, \"html\")\n",
    "team_containers = team_soup.find_all('h2', class_ = 'di clr-gray-01 h5')\n",
    "\n",
    "team_name = []\n",
    "for each_team in team_containers:\n",
    "    team_name.append(each_team.text)\n",
    "\n",
    "NHL_teamName_DF = pd.DataFrame({'Team_Name':team_name})\n",
    "print(NHL_teamName_DF)\n"
   ]
  },
  {
   "cell_type": "code",
   "execution_count": 3,
   "id": "a9721a08",
   "metadata": {},
   "outputs": [],
   "source": [
    "import tweepy\n",
    "import requests\n",
    "from tweepy import OAuthHandler\n",
    "\n",
    "consumer_key = '****'\n",
    "consumer_secret = '******'\n",
    "access_token = '*********'\n",
    "access_token_secret = '*********'\n",
    "bearer_token = \"*****\"\n",
    "\n",
    "auth = tweepy.OAuthHandler(consumer_key, consumer_secret)\n",
    "auth.set_access_token(access_token, access_token_secret)\n",
    "api = tweepy.API(auth)\n",
    "#api = tweepy.API(auth)\n",
    "\n",
    "AllTweets = []\n",
    "prTweets = []\n"
   ]
  },
  {
   "cell_type": "markdown",
   "id": "a64ffb11",
   "metadata": {},
   "source": [
    "The tweets data for each team is stored into a single file."
   ]
  },
  {
   "cell_type": "code",
   "execution_count": 4,
   "id": "e7e9aa4c",
   "metadata": {},
   "outputs": [
    {
     "name": "stdout",
     "output_type": "stream",
     "text": [
      "Finished Writing Boston Bruins\n",
      "Finished Writing Buffalo Sabres\n",
      "Finished Writing Detroit Red Wings\n",
      "Finished Writing Florida Panthers\n",
      "Finished Writing Montreal Canadiens\n",
      "Finished Writing Ottawa Senators\n",
      "Finished Writing Tampa Bay Lightning\n",
      "Finished Writing Toronto Maple Leafs\n",
      "Finished Writing Arizona Coyotes\n",
      "Finished Writing Chicago Blackhawks\n",
      "Finished Writing Colorado Avalanche\n",
      "Finished Writing Dallas Stars\n",
      "Finished Writing Minnesota Wild\n",
      "Finished Writing Nashville Predators\n",
      "Finished Writing St. Louis Blues\n",
      "Finished Writing Winnipeg Jets\n",
      "Finished Writing Carolina Hurricanes\n",
      "Finished Writing Columbus Blue Jackets\n",
      "Finished Writing New Jersey Devils\n",
      "Finished Writing New York Islanders\n",
      "Finished Writing New York Rangers\n",
      "Finished Writing Philadelphia Flyers\n",
      "Finished Writing Pittsburgh Penguins\n",
      "Finished Writing Washington Capitals\n",
      "Finished Writing Anaheim Ducks\n",
      "Finished Writing Calgary Flames\n",
      "Finished Writing Edmonton Oilers\n",
      "Finished Writing Los Angeles Kings\n",
      "Finished Writing San Jose Sharks\n",
      "Finished Writing Seattle Kraken\n",
      "Finished Writing Vancouver Canucks\n",
      "Finished Writing Vegas Golden Knights\n"
     ]
    }
   ],
   "source": [
    "import time\n",
    "\n",
    "with open('Team_tweets_06_04_2020.csv', mode='w', encoding=\"utf-8\") as tweets_file:\n",
    "    writer = csv.writer(tweets_file, delimiter = ',', quotechar = '\"', quoting = csv.QUOTE_MINIMAL)\n",
    "    for team in team_name:\n",
    "        tweets = list(tweepy.Cursor(api.search_tweets, q = team, lang = \"en\", tweet_mode = 'extended').items(500))\n",
    "        for tweet in tweets:\n",
    "            row = [team, tweet.created_at, tweet.full_text.strip()]\n",
    "            writer.writerow(row)\n",
    "        print(\"Finished Writing \" + team)\n",
    "        time.sleep(300)\n",
    "tweets_file.close()"
   ]
  },
  {
   "cell_type": "code",
   "execution_count": null,
   "id": "723fb58a",
   "metadata": {},
   "outputs": [],
   "source": []
  },
  {
   "cell_type": "code",
   "execution_count": null,
   "id": "e099d84d",
   "metadata": {},
   "outputs": [],
   "source": []
  }
 ],
 "metadata": {
  "kernelspec": {
   "display_name": "Python 3 (ipykernel)",
   "language": "python",
   "name": "python3"
  },
  "language_info": {
   "codemirror_mode": {
    "name": "ipython",
    "version": 3
   },
   "file_extension": ".py",
   "mimetype": "text/x-python",
   "name": "python",
   "nbconvert_exporter": "python",
   "pygments_lexer": "ipython3",
   "version": "3.9.7"
  }
 },
 "nbformat": 4,
 "nbformat_minor": 5
}
