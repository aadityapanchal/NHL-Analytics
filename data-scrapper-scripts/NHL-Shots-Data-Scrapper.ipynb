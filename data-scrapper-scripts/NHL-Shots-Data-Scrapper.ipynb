{
 "cells": [
  {
   "cell_type": "code",
   "execution_count": null,
   "id": "8727892a",
   "metadata": {},
   "outputs": [],
   "source": []
  },
  {
   "cell_type": "code",
   "execution_count": 1,
   "id": "3dc239f4",
   "metadata": {},
   "outputs": [],
   "source": [
    "# importing the requests library\n",
    "import requests\n",
    "from datetime import datetime\n",
    "import json\n",
    "import time \n",
    "import pandas as pd\n",
    "from tqdm.notebook import tqdm_notebook\n",
    "from flatten_json import flatten\n",
    "import numpy as np \n",
    "\n",
    "\n",
    "import matplotlib.pyplot as plt\n",
    "color_map = plt.cm.winter\n",
    "from matplotlib.patches import RegularPolygon\n",
    "import math\n",
    "from PIL import Image\n",
    "from matplotlib.colors import ListedColormap,LinearSegmentedColormap\n",
    "import matplotlib.colors as mcolors\n",
    "import warnings\n",
    "warnings.filterwarnings('ignore')\n",
    "\n",
    "API_URL = 'https://statsapi.web.nhl.com/api/v1/'"
   ]
  },
  {
   "cell_type": "code",
   "execution_count": 2,
   "id": "d8aab516",
   "metadata": {},
   "outputs": [],
   "source": [
    "# NHL-api-endpoints of use\n",
    "seasons_url = 'seasons'\n",
    "games_schedule_of_season_url = 'schedule?season={}&gameType={}'\n",
    "game_events_url = 'game/{}/feed/live'\n",
    "game_types = ['R', 'P']\n"
   ]
  },
  {
   "cell_type": "code",
   "execution_count": 3,
   "id": "b08b0859",
   "metadata": {},
   "outputs": [
    {
     "name": "stdout",
     "output_type": "stream",
     "text": [
      "['20192020', '20202021', '20212022']\n"
     ]
    }
   ],
   "source": [
    "#SEASON DETAILS\n",
    "seasons_response = requests.get(url = API_URL + seasons_url)\n",
    "seasons = seasons_response.json()['seasons']\n",
    "# games_played_all_seasons = []\n",
    "season_ids = []\n",
    "for season in seasons:\n",
    "    season_end_date_year = datetime.strptime(season['seasonEndDate'], '%Y-%m-%d').date().year\n",
    "    if(season_end_date_year > 2019):\n",
    "        season_ids.append(season['seasonId'])\n",
    "print(season_ids)"
   ]
  },
  {
   "cell_type": "code",
   "execution_count": 4,
   "id": "ddc9e500",
   "metadata": {},
   "outputs": [
    {
     "name": "stdout",
     "output_type": "stream",
     "text": [
      "952\n"
     ]
    }
   ],
   "source": [
    "#get game IDs from the scheulde to fetch the actual events of the game\n",
    "# {\n",
    "#     game_Date : [{home_team: val1, away_team: val2, game_id: val3, winner: val4, }, {}]\n",
    "#     #array coz there are multiple games on the same day \n",
    "# }\n",
    "\n",
    "season_id_to_game_ids = {} #{20192020: [1,2,3]}\n",
    "game_ids = []\n",
    "for season_id in season_ids:\n",
    "    for game_type in game_types:\n",
    "        season_games_schedule_url = API_URL+games_schedule_of_season_url.format(season_id, game_type)\n",
    "        #https://statsapi.web.nhl.com/api/v1/schedule?season=20182019&gameType=R\n",
    "        schedule_details_response = requests.get(url = season_games_schedule_url)\n",
    "        schedule_details_dates = schedule_details_response.json()['dates']\n",
    "        for schedule_details_date in schedule_details_dates:\n",
    "            scheduled_games = schedule_details_date[\"games\"]\n",
    "            for scheduled_game in scheduled_games:\n",
    "                if season_id not in season_id_to_game_ids:\n",
    "                    season_id_to_game_ids[season_id] = []\n",
    "                season_id_to_game_ids[season_id].append(scheduled_game['gamePk'])\n",
    "                game_ids.append(scheduled_game['gamePk']) \n",
    "                #this is just game ids that we need to use to get the events\n",
    "                \n",
    "print(len(season_id_to_game_ids['20202021']))"
   ]
  },
  {
   "cell_type": "code",
   "execution_count": 5,
   "id": "158edda8",
   "metadata": {},
   "outputs": [
    {
     "data": {
      "application/vnd.jupyter.widget-view+json": {
       "model_id": "842d67fa8829433aa2e21671f4905cc1",
       "version_major": 2,
       "version_minor": 0
      },
      "text/plain": [
       "  0%|          | 0/3476 [00:00<?, ?it/s]"
      ]
     },
     "metadata": {},
     "output_type": "display_data"
    },
    {
     "name": "stdout",
     "output_type": "stream",
     "text": [
      "Total runtime of the program is 677.9715399742126\n"
     ]
    }
   ],
   "source": [
    "begin = time.time()\n",
    "game_id_to_live_feed_storage = {}\n",
    "combined_games_data = [] #final array that will contain all the details \n",
    "player_statistics = []\n",
    "top_4_player_coordinates = {}\n",
    "top_4_players = ['Connor McDavid', 'Nikita Kucherov', 'Sidney Crosby', 'Nathan MacKinnon']\n",
    "\n",
    "for game_id in tqdm_notebook(game_ids):\n",
    "    game_live_feed_url = API_URL + game_events_url.format(game_id)\n",
    "    game_live_feed_response = requests.get(url = game_live_feed_url)\n",
    "    game_live_feed_json_response = game_live_feed_response.json()\n",
    "    game_id_to_live_feed_storage[game_id] = game_live_feed_json_response #HTTP data saved for future use\n",
    "    \n",
    "    #teams playing the match\n",
    "    teams_playing = game_live_feed_json_response['gameData']['teams']\n",
    "    current_match_away_team = teams_playing['away']['name'] \n",
    "    current_match_home_team = teams_playing['home']['name']\n",
    "    \n",
    "    # events/live data/plays of the match\n",
    "    game_live_data = game_live_feed_json_response['liveData']['plays'] #only the play data(goals etc)\n",
    "    scoring_play_event_ids = game_live_data['scoringPlays'] #all the plays that resulted in a goal\n",
    "    all_plays = game_live_data['allPlays']\n",
    "    \n",
    "    for play in all_plays:\n",
    "        #Filter plays that resulted in a goal/scoring plays\n",
    "        if (play['about']['eventIdx'] in scoring_play_event_ids and play['result']['event'] == 'Goal') \\\n",
    "            or (play['result']['event'] == 'Shot'):\n",
    "            if None != play['coordinates'] and len(play[\"coordinates\"]) == 2:\n",
    "                shot_or_goal_data = {}\n",
    "                shot_or_goal_data[\"coor_x\"] = play['coordinates']['x']\n",
    "                shot_or_goal_data[\"coor_y\"] = play['coordinates']['y']\n",
    "                shot_or_goal_data['event_type'] = play['result']['event'].strip() #either shot or a goal\n",
    "                #need shot data to find efficiency\n",
    "                if play['coordinates']['x'] < 0:\n",
    "                    #since the coordinate system stays the same but the team switch sides\n",
    "                    #we need to normalize to make sure the coordiantes are plotted on the same\n",
    "                    #part of the court/field\n",
    "                    shot_or_goal_data[\"coor_x_normalized\"] = -1 * play['coordinates']['x']\n",
    "                    shot_or_goal_data[\"coor_y_normalized\"] = -1 * play['coordinates']['y']\n",
    "                else:\n",
    "                    shot_or_goal_data[\"coor_x_normalized\"] = play['coordinates']['x']\n",
    "                    shot_or_goal_data[\"coor_y_normalized\"] = play['coordinates']['y']\n",
    "                if shot_or_goal_data['coor_x_normalized'] >= 89 and (shot_or_goal_data['coor_y_normalized'] <= 3 or shot_or_goal_data['coor_y_normalized'] >= -3):\n",
    "                    continue\n",
    "                shot_or_goal_data[\"game_id\"] = game_id\n",
    "                shooting_team = play['team']['name']\n",
    "                shot_or_goal_data[\"shooting_team\"] = shooting_team\n",
    "                shot_or_goal_data[\"shooting_team_home_or_away\"] = 'Home' if shooting_team == current_match_home_team else 'Away'\n",
    "                if shooting_team == current_match_home_team:\n",
    "                    shot_or_goal_data['shot_goal_defending_team'] =  current_match_away_team.strip()\n",
    "                else:\n",
    "                    shot_or_goal_data['shot_goal_defending_team'] =  current_match_home_team.strip()\n",
    "                combined_games_data.append(shot_or_goal_data)\n",
    "                \n",
    "                #Player statistics\n",
    "                if play['players'] != None:\n",
    "                    involved_players = play['players']\n",
    "                    for involved_player in involved_players:\n",
    "                        if ((involved_player[\"playerType\"]!= None) and (involved_player['playerType'] == \"Scorer\") and\\\n",
    "                            (involved_player['player'] != None) and (involved_player['player']['fullName'] != None) and\\\n",
    "                            (involved_player['player']['fullName'] in top_4_players)):\n",
    "                            player_name = involved_player['player']['fullName']\n",
    "                            if player_name not in top_4_player_coordinates:\n",
    "                                top_4_player_coordinates[player_name] = []\n",
    "                            top_4_player_coordinates[player_name].append(shot_or_goal_data)\n",
    "                            \n",
    "end = time.time()\n",
    "print(f\"Total runtime of the program is {end - begin}\")"
   ]
  },
  {
   "cell_type": "markdown",
   "id": "80be7440",
   "metadata": {},
   "source": [
    "## Write formatted data to a json file called shots_goals_data.json"
   ]
  },
  {
   "cell_type": "code",
   "execution_count": 6,
   "id": "8b1ed812",
   "metadata": {},
   "outputs": [],
   "source": [
    "with open('../data/shots_goals_data.json', 'w') as outfile:\n",
    "    json.dump(combined_games_data, outfile)"
   ]
  },
  {
   "cell_type": "markdown",
   "id": "64008c84",
   "metadata": {},
   "source": [
    "## Write formatted data to a json file for plater analytics called playername.json and playname.csv\n"
   ]
  },
  {
   "cell_type": "code",
   "execution_count": 7,
   "id": "cdd249f6",
   "metadata": {},
   "outputs": [],
   "source": [
    "for player in top_4_player_coordinates.keys():\n",
    "    with open('../data/' + player + '.json', 'w') as outfile:\n",
    "        json.dump(top_4_player_coordinates[player], outfile)\n",
    "for player in top_4_player_coordinates.keys():\n",
    "    with open('../data/' + player + '.json', 'r') as f:\n",
    "        data = json.load(f)\n",
    "    record_flattened = [flatten(record) for record in data]\n",
    "    shot_goals_dataframe = pd.DataFrame(record_flattened)\n",
    "    shot_goals_dataframe.to_csv('../data/' + player + '.csv')"
   ]
  },
  {
   "cell_type": "markdown",
   "id": "fc573a8d",
   "metadata": {},
   "source": [
    "## Create data for Visualization of shots to goals analysis"
   ]
  },
  {
   "cell_type": "code",
   "execution_count": 8,
   "id": "7d03a9fd",
   "metadata": {},
   "outputs": [],
   "source": [
    "def write_data_for_visualization(team_a, team_b):\n",
    "    with open('../data/shots_goals_data.json', 'r') as f:\n",
    "        data = json.load(f)\n",
    "        shots_to_goals_data = [flatten(record) for record in data]\n",
    "        shot_goals_dataframe = pd.DataFrame(shots_to_goals_data)\n",
    "        condition = ((shot_goals_dataframe['shooting_team'] == team_a) & \n",
    "                     (shot_goals_dataframe['shot_goal_defending_team'] == team_b)) | ((shot_goals_dataframe['shooting_team'] == team_b) & \n",
    "                    (shot_goals_dataframe['shot_goal_defending_team'] == team_a))\n",
    "        filtered_dataframe = shot_goals_dataframe[condition]\n",
    "        \n",
    "        goals_dataframe = filtered_dataframe[filtered_dataframe['event_type'] == 'Goal'][['coor_x_normalized', 'coor_y_normalized']]\n",
    "        shots_dataframe = filtered_dataframe[filtered_dataframe['event_type'] == 'Shot'][['coor_x_normalized', 'coor_y_normalized']]\n",
    "\n",
    "        #team a's filtered data\n",
    "        team_a_shots_condition = ((filtered_dataframe['shooting_team'] == team_a) & (filtered_dataframe['event_type'] == 'Shot'))\n",
    "        team_a_goals_condition = ((filtered_dataframe['shooting_team'] == team_a) & (filtered_dataframe['event_type'] == 'Goal'))\n",
    "        \n",
    "        team_a_against_b_shots_dataframe = shots_dataframe[team_a_shots_condition]\n",
    "        team_a_against_b_goals_dataframe = goals_dataframe[team_a_goals_condition]\n",
    "        \n",
    "        #rename the columns to correct names for visualization\n",
    "        team_a_against_b_shots_dataframe.rename(columns={\"coor_x_normalized\": \"Shots X coordinates\", \"coor_y_normalized\": \"Shots Y coordinates\"}, inplace = True)\n",
    "        team_a_against_b_goals_dataframe.rename(columns={\"coor_x_normalized\": \"Goals X coordinates\", \"coor_y_normalized\": \"Goals Y coordinates\"}, inplace = True)\n",
    "        \n",
    "        #create Numpy arrays for each column to avoid Nan Value on concat\n",
    "        #For Shots\n",
    "        shots_X_coordinates_np = team_a_against_b_shots_dataframe['Shots X coordinates'].to_numpy()\n",
    "        shots_Y_coordinates_np = team_a_against_b_shots_dataframe['Shots Y coordinates'].to_numpy()\n",
    "        \n",
    "        #For Goals\n",
    "        goals_X_coordinates_np = team_a_against_b_goals_dataframe['Goals X coordinates'].to_numpy()\n",
    "        goals_Y_coordinates_np = team_a_against_b_goals_dataframe['Goals Y coordinates'].to_numpy()\n",
    "        \n",
    "        \n",
    "        shots_team_a = pd.DataFrame({'Shots X coordinates': shots_X_coordinates_np, 'Shots Y coordinates': shots_Y_coordinates_np})\n",
    "        goals_team_a = pd.DataFrame({'Goals X coordinates': goals_X_coordinates_np,'Goals Y coordinates': goals_Y_coordinates_np})\n",
    "        combined_df = pd.concat([shots_team_a, goals_team_a], axis = 1)\n",
    "        return combined_df"
   ]
  },
  {
   "cell_type": "code",
   "execution_count": 9,
   "id": "96efc8f8",
   "metadata": {},
   "outputs": [],
   "source": [
    "team_a = \"Toronto Maple Leafs\" \n",
    "team_b = \"Vancouver Canucks\"\n",
    "#assuming Team A is our team and team B is our next opponent and we need to find the best \n",
    "#attacking positions\n",
    "visualization_data_frame = write_data_for_visualization(team_a, team_b)\n",
    "file_name = team_a + '_vs_' + team_b + '.csv'\n",
    "visualization_data_frame.to_csv('../data/'+ file_name)\n",
    "\n",
    "\n",
    "#assuming Team A is opposition team and we need to find the best defensive positions \n",
    "team_a, team_b = team_b, team_a\n",
    "file_name = team_a + '_vs_' + team_b + '.csv'\n",
    "visualization_data_frame = write_data_for_visualization(team_a, team_b)\n",
    "visualization_data_frame.to_csv('../data/' + file_name)"
   ]
  },
  {
   "cell_type": "code",
   "execution_count": null,
   "id": "44e104f1",
   "metadata": {},
   "outputs": [],
   "source": []
  }
 ],
 "metadata": {
  "kernelspec": {
   "display_name": "Python 3 (ipykernel)",
   "language": "python",
   "name": "python3"
  },
  "language_info": {
   "codemirror_mode": {
    "name": "ipython",
    "version": 3
   },
   "file_extension": ".py",
   "mimetype": "text/x-python",
   "name": "python",
   "nbconvert_exporter": "python",
   "pygments_lexer": "ipython3",
   "version": "3.9.7"
  }
 },
 "nbformat": 4,
 "nbformat_minor": 5
}
