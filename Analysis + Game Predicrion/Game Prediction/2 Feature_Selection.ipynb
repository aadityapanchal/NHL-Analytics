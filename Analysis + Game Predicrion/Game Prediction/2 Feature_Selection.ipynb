{
  "nbformat": 4,
  "nbformat_minor": 0,
  "metadata": {
    "colab": {
      "name": "Feature_Selection.ipynb",
      "provenance": []
    },
    "kernelspec": {
      "name": "python3",
      "display_name": "Python 3"
    },
    "language_info": {
      "name": "python"
    },
    "accelerator": "GPU"
  },
  "cells": [
    {
      "cell_type": "markdown",
      "source": [
        "## Feature Selection using FeatureSelector."
      ],
      "metadata": {
        "id": "S0VD_j25wlfR"
      }
    },
    {
      "cell_type": "markdown",
      "source": [
        "## We used a Feature_selection tool which is trending on medium (https://towardsdatascience.com/a-feature-selection-tool-for-machine-learning-in-python-b64dd23710f0)\n",
        "\n",
        "## It eliminates the ad-hoc feature selection methods. We dowloaded the feature_selector.py and kept it under supporting_methods in the repo.\n"
      ],
      "metadata": {
        "id": "0avn83x3w07s"
      }
    },
    {
      "cell_type": "code",
      "execution_count": 3,
      "metadata": {
        "id": "jqVsP2VSTt2G"
      },
      "outputs": [],
      "source": [
        "import pandas as pd\n",
        "from sklearn.model_selection import cross_val_score\n",
        "import os\n",
        "from feature_selector import FeatureSelector\n",
        "import numpy as np"
      ]
    },
    {
      "cell_type": "code",
      "source": [
        "game_data=pd.read_csv('final_scrapped_data.csv')"
      ],
      "metadata": {
        "colab": {
          "base_uri": "https://localhost:8080/"
        },
        "id": "Js0wkQOWT4sE",
        "outputId": "de1182bf-9b7c-4849-d337-19e2e1931635"
      },
      "execution_count": 4,
      "outputs": [
        {
          "output_type": "stream",
          "name": "stderr",
          "text": [
            "/usr/local/lib/python3.7/dist-packages/IPython/core/interactiveshell.py:2882: DtypeWarning: Columns (36,39,45,48,52,53,63,158,161,167,170,174,175,186) have mixed types.Specify dtype option on import or set low_memory=False.\n",
            "  exec(code_obj, self.user_global_ns, self.user_ns)\n"
          ]
        }
      ]
    },
    {
      "cell_type": "code",
      "source": [
        "game_data.reset_index(inplace=True)"
      ],
      "metadata": {
        "id": "nwnGyOZqYy9L"
      },
      "execution_count": 5,
      "outputs": []
    },
    {
      "cell_type": "code",
      "source": [
        "features_list_extended=['home_CF','home_CA','home_CF%','home_FF','home_FA','home_FF%','home_SF','home_SA','home_SF%','home_GF','home_GA',\n",
        "               'home_GF%','home_xGF','home_xGA','home_xGF%','home_HDCF%','home_HDSF%','home_HDGF%','home_HDSH%','home_HDSV%','home_MDSA',\n",
        "               'home_MDSF%','home_MDGF','home_MDGA','home_MDGF%','home_MDSH%','home_MDSV%','home_LDCF%','home_LDSF','home_LDSA','home_LDSF%',\n",
        "               'home_LDGF','home_LDGF%','home_LDSV%','home_PDO','home_xGF_pp','home_GF_pp','home_xGA_pk','home_GA_pk',\n",
        "               'guest_CF','guest_CA','guest_CF%','guest_FF','guest_FA','guest_FF%','guest_SF','guest_SA','guest_SF%','guest_GF','guest_GA',\n",
        "               'guest_GF%','guest_xGF','guest_xGA','guest_xGF%','guest_HDCF%','guest_HDSF%','guest_HDGF%','guest_HDSH%','guest_HDSV%','guest_MDSA',\n",
        "               'guest_MDSF%','guest_MDGF','guest_MDGA','guest_MDGF%','guest_MDSH%','guest_MDSV%','guest_LDCF%','guest_LDSF','guest_LDSA','guest_LDSF%',\n",
        "               'guest_LDGF','guest_LDGF%','guest_LDSV%','guest_xGF_pp','guest_GF_pp','guest_xGA_pk','guest_GA_pk']"
      ],
      "metadata": {
        "id": "XUvKS7yn4wh0"
      },
      "execution_count": 6,
      "outputs": []
    },
    {
      "cell_type": "code",
      "source": [
        ""
      ],
      "metadata": {
        "id": "SH0gzj0Z5D-w"
      },
      "execution_count": 6,
      "outputs": []
    },
    {
      "cell_type": "markdown",
      "source": [
        "### Selecting all the features for 40 and 5 rolling games seperately."
      ],
      "metadata": {
        "id": "0rVAKauA5FhW"
      }
    },
    {
      "cell_type": "markdown",
      "source": [
        "### We seperated the features into 40 and 5 rolling game average beacause NHL is a low scoring game and the data has a lot of varience. To smoothen out the varience we calculated 40 and 5 rolling game average for each feature."
      ],
      "metadata": {
        "id": "WfHiVbk_5X2_"
      }
    },
    {
      "cell_type": "code",
      "source": [
        "all_features=['match_BacktoBack','home_fwkSV%_GoalKeeper','home_GSAx/60_GoalKeeper','home_HDCSV%__GoalKeeper','guest_fwkSV%_GoalKeeper','guest_GSAx/60_GoalKeeper','guest_HDCSV%__GoalKeeper','home_team_label','away_team_label',\n",
        "              'home_SCF','home_SCA','home_SCF%','home_HDCF','home_HDCA','home_HDSF','home_HDSA','home_HDGF','home_HDGA','home_MDCF','home_MDCA','home_MDCF%','home_MDSF','home_LDCF','home_LDCA',\n",
        "              'home_SH%','home_SV%','home_LDSH%','home_LDGA','guest_SCF','guest_SCA','guest_SCF%','guest_HDCF','guest_HDCA','guest_HDSF','guest_HDSA','guest_HDGF','guest_HDGA','guest_MDCF','guest_MDCA','guest_MDCF%','guest_MDSF','guest_LDCF','guest_LDCA',\n",
        "              'guest_SH%','guest_SV%','guest_LDSH%','guest_LDGA']+features_list_extended\n",
        "moving_features_5 =[\n",
        "'home_Fenwick%_SVA_TeamMoingAverage_5',\n",
        "'home_GF%_SVA_TeamMoingAverage_5',\n",
        "'home_xGF%_SVA_TeamMoingAverage_5',\n",
        "'home_SFGF%_SVA_TeamMoingAverage_5',\n",
        "'home_xGF_Average_pp_TeamMoingAverage_5',\n",
        "'home_GF_Average_Average_pp_TeamMoingAverage_5',\n",
        "'home_xGA_Average_pk_TeamMoingAverage_5',\n",
        "'home_GA_Average_Average_pk_TeamMoingAverage_5',\n",
        "'guest_Fenwick%_SVA_TeamMoingAverage_5',\n",
        "'guest_GF%_SVA_TeamMoingAverage_5',\n",
        "'guest_xGF%_SVA_TeamMoingAverage_5',\n",
        "'guest_SFGF%_SVA_TeamMoingAverage_5',\n",
        "'guest_xGF_Average_pp_TeamMoingAverage_5',\n",
        "'guest_GF_Average_Average_pp_TeamMoingAverage_5',\n",
        "'guest_xGA_Average_pk_TeamMoingAverage_5',\n",
        "'guest_GA_Average_Average_pk_TeamMoingAverage_5',\n",
        "'home_CA_SVA_TeamMoingAverage_5',\n",
        "'guest_CA_SVA_TeamMoingAverage_5',\n",
        "'home_FF_SVA_TeamMoingAverage_5',\n",
        "'home_FA_SVA_TeamMoingAverage_5',\n",
        "'home_SA_SVA_TeamMoingAverage_5',\n",
        "'home_GA_SVA_TeamMoingAverage_5',\n",
        "'home_GF_SVA_TeamMoingAverage_5',\n",
        "'home_xGA_SVA_TeamMoingAverage_5',\n",
        "'home_xGF_SVA_TeamMoingAverage_5',\n",
        "'home_GF_pp_TeamMoingAverage_5',\n",
        "'home_xGF_pp_TeamMoingAverage_5',\n",
        "'home_GF_Average_Average_pp_TeamMoingAverage_5',\n",
        "'home_xGF_Average_pp_TeamMoingAverage_5',\n",
        "'home_GA_pk_TeamMoingAverage_5',\n",
        "'home_xGA_pk_TeamMoingAverage_5',\n",
        "'guest_FF_SVA_TeamMoingAverage_5',\n",
        "'guest_FA_SVA_TeamMoingAverage_5',\n",
        "'guest_SF_SVA_TeamMoingAverage_5',\n",
        "'guest_SA_SVA_TeamMoingAverage_5',\n",
        "'guest_GA_SVA_TeamMoingAverage_5',\n",
        "'guest_GF_SVA_TeamMoingAverage_5',\n",
        "'guest_xGA_SVA_TeamMoingAverage_5',\n",
        "'guest_xGF_SVA_TeamMoingAverage_5',\n",
        "'guest_GF_pp_TeamMoingAverage_5',\n",
        "'guest_xGF_pp_TeamMoingAverage_5',\n",
        "'guest_TOI_Average_pp_TeamMoingAverage_5',\n",
        "'guest_TOI_pk_TeamMoingAverage_5',\n",
        "'guest_GA_pk_TeamMoingAverage_5',\n",
        "'guest_xGA_pk_TeamMoingAverage_5']+all_features\n",
        "\n",
        "moving_features_40 =[\n",
        "'home_Fenwick%_SVA_TeamMoingAverage_40',\n",
        "'home_GF%_SVA_TeamMoingAverage_40',\n",
        "'home_xGF%_SVA_TeamMoingAverage_40',\n",
        "'home_SFGF%_SVA_TeamMoingAverage_40',\n",
        "'home_xGF_Average_pp_TeamMoingAverage_40',\n",
        "'home_GF_Average_Average_pp_TeamMoingAverage_40',\n",
        "'home_xGA_Average_pk_TeamMoingAverage_40',\n",
        "'home_GA_Average_Average_pk_TeamMoingAverage_40',\n",
        "'guest_Fenwick%_SVA_TeamMoingAverage_40',\n",
        "'guest_GF%_SVA_TeamMoingAverage_40',\n",
        "'guest_xGF%_SVA_TeamMoingAverage_40',\n",
        "'guest_SFGF%_SVA_TeamMoingAverage_40',\n",
        "'guest_xGF_Average_pp_TeamMoingAverage_40',\n",
        "'guest_GF_Average_Average_pp_TeamMoingAverage_40',\n",
        "'guest_xGA_Average_pk_TeamMoingAverage_40',\n",
        "'guest_GA_Average_Average_pk_TeamMoingAverage_40',\n",
        "'home_CA_SVA_TeamMoingAverage_40',\n",
        "'guest_CA_SVA_TeamMoingAverage_40',\n",
        "'home_FF_SVA_TeamMoingAverage_40',\n",
        "'home_FA_SVA_TeamMoingAverage_40',\n",
        "'home_SF_SVA_TeamMoingAverage_40',\n",
        "'home_SA_SVA_TeamMoingAverage_40',\n",
        "'home_GA_SVA_TeamMoingAverage_40',\n",
        "'home_GF_SVA_TeamMoingAverage_40',\n",
        "'home_xGA_SVA_TeamMoingAverage_40',\n",
        "'home_xGF_SVA_TeamMoingAverage_40',\n",
        "'home_GF_pp_TeamMoingAverage_40',\n",
        "'home_xGF_pp_TeamMoingAverage_40',\n",
        "'home_GF_Average_Average_pp_TeamMoingAverage_40',\n",
        "'home_xGF_Average_pp_TeamMoingAverage_40',\n",
        "'home_GA_pk_TeamMoingAverage_40',\n",
        "'home_xGA_pk_TeamMoingAverage_40',\n",
        "'guest_FF_SVA_TeamMoingAverage_40',\n",
        "'guest_FA_SVA_TeamMoingAverage_40',\n",
        "'guest_SF_SVA_TeamMoingAverage_40',\n",
        "'guest_SA_SVA_TeamMoingAverage_40',\n",
        "'guest_GA_SVA_TeamMoingAverage_40',\n",
        "'guest_GF_SVA_TeamMoingAverage_40',\n",
        "'guest_xGA_SVA_TeamMoingAverage_40',\n",
        "'guest_xGF_SVA_TeamMoingAverage_40',\n",
        "'guest_GF_pp_TeamMoingAverage_40',\n",
        "'guest_xGF_pp_TeamMoingAverage_40',\n",
        "'guest_TOI_Average_pp_TeamMoingAverage_40',\n",
        "'guest_TOI_pk_TeamMoingAverage_40',\n",
        "'guest_GA_pk_TeamMoingAverage_40',\n",
        "'guest_xGA_pk_TeamMoingAverage_40']+all_features\n"
      ],
      "metadata": {
        "id": "PHnS-JKOY0J2"
      },
      "execution_count": 7,
      "outputs": []
    },
    {
      "cell_type": "code",
      "source": [
        "moving_features_40=list(set(moving_features_40))"
      ],
      "metadata": {
        "id": "0OsrkFQGCpoA"
      },
      "execution_count": 8,
      "outputs": []
    },
    {
      "cell_type": "code",
      "source": [
        "moving_features_5=list(set(moving_features_5))"
      ],
      "metadata": {
        "id": "hr7-saXCCp2p"
      },
      "execution_count": 9,
      "outputs": []
    },
    {
      "cell_type": "code",
      "source": [
        "game_data_selected_40=game_data[moving_features_40]"
      ],
      "metadata": {
        "id": "muq6dHREb5K_"
      },
      "execution_count": 10,
      "outputs": []
    },
    {
      "cell_type": "code",
      "source": [
        "game_data_selected_5=game_data[moving_features_5]"
      ],
      "metadata": {
        "id": "5H-ewNOUBK7v"
      },
      "execution_count": 11,
      "outputs": []
    },
    {
      "cell_type": "markdown",
      "source": [
        "### Creating a feature_selector instance."
      ],
      "metadata": {
        "id": "9OMjqmyZ1ylx"
      }
    },
    {
      "cell_type": "code",
      "source": [
        "label_selection_40=FeatureSelector(data=game_data_selected_40,labels=moving_features_40)"
      ],
      "metadata": {
        "id": "0XRwOaDDY8XG"
      },
      "execution_count": 12,
      "outputs": []
    },
    {
      "cell_type": "code",
      "source": [
        "label_selection_5=FeatureSelector(data=game_data_selected_5,labels=moving_features_5)"
      ],
      "metadata": {
        "id": "0ThjjQ6BBWPB"
      },
      "execution_count": 13,
      "outputs": []
    },
    {
      "cell_type": "markdown",
      "source": [
        "### Features with a lot of missing values. We have taken a threshold of 30%."
      ],
      "metadata": {
        "id": "KKdXzWYO1-cV"
      }
    },
    {
      "cell_type": "code",
      "source": [
        "label_selection_40.identify_missing(missing_threshold=0.3)"
      ],
      "metadata": {
        "colab": {
          "base_uri": "https://localhost:8080/"
        },
        "id": "zQSFLucQdOzd",
        "outputId": "f2b91515-9a0e-4364-8650-f3ded69011f4"
      },
      "execution_count": 14,
      "outputs": [
        {
          "output_type": "stream",
          "name": "stdout",
          "text": [
            "0 features with greater than 0.30 missing values.\n",
            "\n"
          ]
        }
      ]
    },
    {
      "cell_type": "code",
      "source": [
        "label_selection_5.identify_missing(missing_threshold=0.3)"
      ],
      "metadata": {
        "id": "gQoBX-rKBgw7",
        "outputId": "1e852966-fecd-4a1d-9cca-e91d0b88c34f",
        "colab": {
          "base_uri": "https://localhost:8080/"
        }
      },
      "execution_count": 15,
      "outputs": [
        {
          "output_type": "stream",
          "name": "stdout",
          "text": [
            "0 features with greater than 0.30 missing values.\n",
            "\n"
          ]
        }
      ]
    },
    {
      "cell_type": "markdown",
      "source": [
        "### Looks like no feature has a lot of missing values."
      ],
      "metadata": {
        "id": "xCsQJjAw2SQG"
      }
    },
    {
      "cell_type": "markdown",
      "source": [
        ""
      ],
      "metadata": {
        "id": "nt5is7IL2cWa"
      }
    },
    {
      "cell_type": "markdown",
      "source": [
        "### Filtering features that are highly correlated with each other."
      ],
      "metadata": {
        "id": "biZoK3Jf2dU3"
      }
    },
    {
      "cell_type": "code",
      "source": [
        "label_selection_40.identify_collinear(correlation_threshold=0.98)"
      ],
      "metadata": {
        "colab": {
          "base_uri": "https://localhost:8080/"
        },
        "id": "W1uMCB2tdyui",
        "outputId": "6f51a105-26c7-4286-d574-5fdbd0f5f0eb"
      },
      "execution_count": 16,
      "outputs": [
        {
          "output_type": "stream",
          "name": "stdout",
          "text": [
            "67 features with a correlation magnitude greater than 0.98.\n",
            "\n"
          ]
        }
      ]
    },
    {
      "cell_type": "code",
      "source": [
        "label_selection_40.plot_collinear()"
      ],
      "metadata": {
        "colab": {
          "base_uri": "https://localhost:8080/",
          "height": 545
        },
        "id": "qlje-QVfeG9c",
        "outputId": "b02b9ccb-3aea-4a7c-e4b8-a424ecc6f842"
      },
      "execution_count": 17,
      "outputs": [
        {
          "output_type": "display_data",
          "data": {
            "text/plain": [
              "<Figure size 720x576 with 2 Axes>"
            ],
            "image/png": "[encoded data removed]"
          },
          "metadata": {
            "needs_background": "light"
          }
        }
      ]
    },
    {
      "cell_type": "code",
      "source": [
        "collinear_features_40=label_selection_40.ops['collinear']"
      ],
      "metadata": {
        "id": "vIjL1IeJfsDg"
      },
      "execution_count": 18,
      "outputs": []
    },
    {
      "cell_type": "markdown",
      "source": [
        "### Listing features with a that have 98% correlated with each other."
      ],
      "metadata": {
        "id": "OOEmVKW83Md-"
      }
    },
    {
      "cell_type": "code",
      "source": [
        "collinear_features_40"
      ],
      "metadata": {
        "colab": {
          "base_uri": "https://localhost:8080/"
        },
        "id": "PtCe4FyQhwwo",
        "outputId": "a12d506a-b094-47f4-8fde-db1fd3e72c8f"
      },
      "execution_count": 19,
      "outputs": [
        {
          "output_type": "execute_result",
          "data": {
            "text/plain": [
              "['home_xGA_Average_pk_TeamMoingAverage_40',\n",
              " 'guest_MDCA',\n",
              " 'home_xGA_pk_TeamMoingAverage_40',\n",
              " 'home_GA_pk',\n",
              " 'guest_LDSA',\n",
              " 'home_SV%',\n",
              " 'guest_GF_Average_Average_pp_TeamMoingAverage_40',\n",
              " 'home_CF%',\n",
              " 'home_GA_SVA_TeamMoingAverage_40',\n",
              " 'home_GA_pk_TeamMoingAverage_40',\n",
              " 'guest_xGA_Average_pk_TeamMoingAverage_40',\n",
              " 'home_CF',\n",
              " 'guest_GF_SVA_TeamMoingAverage_40',\n",
              " 'home_SCF%',\n",
              " 'guest_xGF',\n",
              " 'home_HDCF',\n",
              " 'home_HDGF',\n",
              " 'guest_TOI_pk_TeamMoingAverage_40',\n",
              " 'guest_LDSH%',\n",
              " 'guest_FF',\n",
              " 'home_MDCA',\n",
              " 'home_GF',\n",
              " 'home_SH%',\n",
              " 'home_MDSA',\n",
              " 'home_LDCF%',\n",
              " 'home_SCF',\n",
              " 'guest_GF_pp',\n",
              " 'home_xGA',\n",
              " 'guest_LDCA',\n",
              " 'guest_xGF_pp',\n",
              " 'home_HDSA',\n",
              " 'guest_HDGF',\n",
              " 'guest_SA',\n",
              " 'guest_xGF_Average_pp_TeamMoingAverage_40',\n",
              " 'guest_SF%',\n",
              " 'home_CA',\n",
              " 'home_MDCF%',\n",
              " 'home_FF%',\n",
              " 'guest_LDGA',\n",
              " 'guest_xGF_pp_TeamMoingAverage_40',\n",
              " 'home_FF',\n",
              " 'guest_GA',\n",
              " 'guest_GA_pk_TeamMoingAverage_40',\n",
              " 'guest_GA_pk',\n",
              " 'guest_SCF',\n",
              " 'guest_MDSF%',\n",
              " 'home_xGF_pp_TeamMoingAverage_40',\n",
              " 'guest_GF',\n",
              " 'guest_xGA_pk',\n",
              " 'guest_HDSA',\n",
              " 'guest_xGA',\n",
              " 'guest_LDCF',\n",
              " 'guest_HDCF',\n",
              " 'home_xGF_pp',\n",
              " 'home_GF_SVA_TeamMoingAverage_40',\n",
              " 'guest_LDSF',\n",
              " 'home_MDGA',\n",
              " 'home_GF_Average_Average_pp_TeamMoingAverage_40',\n",
              " 'guest_LDSV%',\n",
              " 'guest_LDGF',\n",
              " 'home_xGF_Average_pp_TeamMoingAverage_40',\n",
              " 'guest_xGA_pk_TeamMoingAverage_40',\n",
              " 'guest_GA_SVA_TeamMoingAverage_40',\n",
              " 'home_MDSF',\n",
              " 'home_SA',\n",
              " 'home_LDSF%',\n",
              " 'guest_MDGA']"
            ]
          },
          "metadata": {},
          "execution_count": 19
        }
      ]
    },
    {
      "cell_type": "code",
      "source": [
        "label_selection_5.identify_collinear(correlation_threshold=0.98)"
      ],
      "metadata": {
        "id": "EeMseHlNBqTA",
        "outputId": "66d21cbf-d8fc-4e59-e36c-d75782d21ff2",
        "colab": {
          "base_uri": "https://localhost:8080/"
        }
      },
      "execution_count": 20,
      "outputs": [
        {
          "output_type": "stream",
          "name": "stdout",
          "text": [
            "67 features with a correlation magnitude greater than 0.98.\n",
            "\n"
          ]
        }
      ]
    },
    {
      "cell_type": "code",
      "source": [
        "label_selection_5.plot_collinear()"
      ],
      "metadata": {
        "id": "NBZZscqjBt3-",
        "outputId": "14680cb4-250f-4323-dc86-304b1e4c218d",
        "colab": {
          "base_uri": "https://localhost:8080/",
          "height": 544
        }
      },
      "execution_count": 21,
      "outputs": [
        {
          "output_type": "display_data",
          "data": {
            "text/plain": [
              "<Figure size 720x576 with 2 Axes>"
            ],
            "image/png": "[encoded data removed]"
          },
          "metadata": {
            "needs_background": "light"
          }
        }
      ]
    },
    {
      "cell_type": "code",
      "source": [
        "collinear_features_5=label_selection_5.ops['collinear']"
      ],
      "metadata": {
        "id": "IHM84tTVB6Pd"
      },
      "execution_count": 22,
      "outputs": []
    },
    {
      "cell_type": "markdown",
      "source": [
        "### Listing features with a that have 98% correlated with each other."
      ],
      "metadata": {
        "id": "KUwiFIxI3Ud4"
      }
    },
    {
      "cell_type": "code",
      "source": [
        "collinear_features_5"
      ],
      "metadata": {
        "id": "RWguyNgeB8Ye",
        "outputId": "f8a1e464-fe09-4778-8a39-86521d51957c",
        "colab": {
          "base_uri": "https://localhost:8080/"
        }
      },
      "execution_count": 23,
      "outputs": [
        {
          "output_type": "execute_result",
          "data": {
            "text/plain": [
              "['guest_xGA_pk_TeamMoingAverage_5',\n",
              " 'guest_MDCA',\n",
              " 'home_GA_pk',\n",
              " 'guest_LDSA',\n",
              " 'guest_GF_Average_Average_pp_TeamMoingAverage_5',\n",
              " 'home_SV%',\n",
              " 'home_xGF_Average_pp_TeamMoingAverage_5',\n",
              " 'guest_GF_SVA_TeamMoingAverage_5',\n",
              " 'home_CF%',\n",
              " 'guest_xGA_Average_pk_TeamMoingAverage_5',\n",
              " 'home_CF',\n",
              " 'guest_xGF_SVA_TeamMoingAverage_5',\n",
              " 'home_SCF%',\n",
              " 'guest_xGF',\n",
              " 'home_HDCF',\n",
              " 'home_HDGF',\n",
              " 'guest_GA_pk_TeamMoingAverage_5',\n",
              " 'guest_LDSH%',\n",
              " 'guest_FF',\n",
              " 'home_MDCA',\n",
              " 'home_GF',\n",
              " 'home_SH%',\n",
              " 'home_xGF_pp_TeamMoingAverage_5',\n",
              " 'home_MDSA',\n",
              " 'home_LDCF%',\n",
              " 'home_SCF',\n",
              " 'guest_GF_pp',\n",
              " 'home_xGA',\n",
              " 'home_GF_SVA_TeamMoingAverage_5',\n",
              " 'guest_LDCA',\n",
              " 'guest_xGF_pp',\n",
              " 'home_HDSA',\n",
              " 'guest_HDGF',\n",
              " 'home_GA_SVA_TeamMoingAverage_5',\n",
              " 'home_GF_Average_Average_pp_TeamMoingAverage_5',\n",
              " 'guest_SA',\n",
              " 'guest_SF%',\n",
              " 'home_CA',\n",
              " 'home_xGA_SVA_TeamMoingAverage_5',\n",
              " 'home_MDCF%',\n",
              " 'home_FF%',\n",
              " 'guest_LDGA',\n",
              " 'home_FF',\n",
              " 'guest_GA',\n",
              " 'guest_GA_pk',\n",
              " 'home_GA_Average_Average_pk_TeamMoingAverage_5',\n",
              " 'guest_SCF',\n",
              " 'guest_MDSF%',\n",
              " 'guest_GF',\n",
              " 'guest_xGA_pk',\n",
              " 'guest_xGF_pp_TeamMoingAverage_5',\n",
              " 'guest_HDSA',\n",
              " 'guest_LDCF',\n",
              " 'guest_xGA',\n",
              " 'guest_HDCF',\n",
              " 'home_xGF_pp',\n",
              " 'guest_LDSF',\n",
              " 'home_MDGA',\n",
              " 'guest_TOI_Average_pp_TeamMoingAverage_5',\n",
              " 'guest_GA_Average_Average_pk_TeamMoingAverage_5',\n",
              " 'guest_LDSV%',\n",
              " 'guest_LDGF',\n",
              " 'home_xGA_pk_TeamMoingAverage_5',\n",
              " 'home_MDSF',\n",
              " 'home_SA',\n",
              " 'home_LDSF%',\n",
              " 'guest_MDGA']"
            ]
          },
          "metadata": {},
          "execution_count": 23
        }
      ]
    },
    {
      "cell_type": "code",
      "source": [
        ""
      ],
      "metadata": {
        "id": "KKqIzzvr4Cy3"
      },
      "execution_count": null,
      "outputs": []
    },
    {
      "cell_type": "markdown",
      "source": [
        "### Remove any columns that have a single unique value which is of no use to the machine learning."
      ],
      "metadata": {
        "id": "QzGEeH8j4TOQ"
      }
    },
    {
      "cell_type": "code",
      "source": [
        "label_selection_40.identify_single_unique()"
      ],
      "metadata": {
        "colab": {
          "base_uri": "https://localhost:8080/"
        },
        "id": "bjcMaqZq4C2O",
        "outputId": "a76c4b12-3742-431a-de27-c68c32b9288a"
      },
      "execution_count": null,
      "outputs": [
        {
          "output_type": "stream",
          "name": "stdout",
          "text": [
            "0 features with a single unique value.\n",
            "\n"
          ]
        }
      ]
    },
    {
      "cell_type": "code",
      "source": [
        "label_selection_5.identify_single_unique()"
      ],
      "metadata": {
        "colab": {
          "base_uri": "https://localhost:8080/"
        },
        "id": "IV34oaXJ4iSg",
        "outputId": "b1ddae62-b763-4e6e-e296-0cb55a579075"
      },
      "execution_count": null,
      "outputs": [
        {
          "output_type": "stream",
          "name": "stdout",
          "text": [
            "0 features with a single unique value.\n",
            "\n"
          ]
        }
      ]
    },
    {
      "cell_type": "code",
      "source": [
        ""
      ],
      "metadata": {
        "id": "2fpbeDjm4lbo"
      },
      "execution_count": null,
      "outputs": []
    },
    {
      "cell_type": "markdown",
      "source": [
        "### We have identified the features to select."
      ],
      "metadata": {
        "id": "csCgGj7E4l7h"
      }
    },
    {
      "cell_type": "code",
      "source": [
        "selected_features_40=[x for x in moving_features_40 if (x not in collinear_features_40)]"
      ],
      "metadata": {
        "id": "lbRfFD6C_1q9"
      },
      "execution_count": null,
      "outputs": []
    },
    {
      "cell_type": "code",
      "source": [
        "selected_features_5=[x for x in moving_features_5 if (x not in collinear_features_5)]"
      ],
      "metadata": {
        "id": "VG1FuvAdBD49"
      },
      "execution_count": null,
      "outputs": []
    },
    {
      "cell_type": "code",
      "source": [
        "len(selected_features_40)"
      ],
      "metadata": {
        "colab": {
          "base_uri": "https://localhost:8080/"
        },
        "id": "rEYZzsGkDiMN",
        "outputId": "7236d636-98ac-43ad-d082-494c99024ccb"
      },
      "execution_count": null,
      "outputs": [
        {
          "output_type": "execute_result",
          "data": {
            "text/plain": [
              "101"
            ]
          },
          "metadata": {},
          "execution_count": 35
        }
      ]
    },
    {
      "cell_type": "code",
      "source": [
        "len(selected_features_5)"
      ],
      "metadata": {
        "colab": {
          "base_uri": "https://localhost:8080/"
        },
        "id": "TGGaMZfsDiQD",
        "outputId": "63439804-7d91-4d17-b226-586cc3157d4c"
      },
      "execution_count": null,
      "outputs": [
        {
          "output_type": "execute_result",
          "data": {
            "text/plain": [
              "100"
            ]
          },
          "metadata": {},
          "execution_count": 36
        }
      ]
    },
    {
      "cell_type": "markdown",
      "source": [
        "### Saving final feature list."
      ],
      "metadata": {
        "id": "uScegzy13prw"
      }
    },
    {
      "cell_type": "code",
      "source": [
        "pd.DataFrame(selected_features_40).to_csv('selected_features_40.csv')"
      ],
      "metadata": {
        "id": "WRCZ8Mh-CcGl"
      },
      "execution_count": null,
      "outputs": []
    },
    {
      "cell_type": "code",
      "source": [
        "pd.DataFrame(selected_features_5).to_csv('selected_features_5.csv')"
      ],
      "metadata": {
        "id": "eLaW6bVmCu1J"
      },
      "execution_count": null,
      "outputs": []
    },
    {
      "cell_type": "code",
      "source": [
        ""
      ],
      "metadata": {
        "id": "fjvDpyMWC4dh"
      },
      "execution_count": null,
      "outputs": []
    },
    {
      "cell_type": "markdown",
      "source": [
        "### As we said on We seperated the features into 40 and 5 rolling game average beacause NHL is a low scoring game and the data has a lot of varience. To smoothen out the varience we calculated 40 and 5 rolling game average for each feature.\n",
        "\n",
        "### And to keep the window larger so that we can include every opponent a team might face in an tournament, we are going to use 40 game rolling average for the prediction modelling."
      ],
      "metadata": {
        "id": "h8a28BBq0vnM"
      }
    },
    {
      "cell_type": "code",
      "source": [
        ""
      ],
      "metadata": {
        "id": "X0pjGSAl2Kmh"
      },
      "execution_count": null,
      "outputs": []
    }
  ]
}
